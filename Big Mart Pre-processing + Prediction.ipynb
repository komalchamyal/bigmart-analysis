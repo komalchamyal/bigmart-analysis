{
 "cells": [
  {
   "cell_type": "code",
   "execution_count": 1,
   "id": "27ff86e7",
   "metadata": {},
   "outputs": [],
   "source": [
    "import numpy as np\n",
    "import pandas as pd\n",
    "import seaborn as sns\n",
    "import matplotlib.pyplot as plt\n",
    "import klib"
   ]
  },
  {
   "cell_type": "code",
   "execution_count": 187,
   "id": "37bcb82f",
   "metadata": {},
   "outputs": [],
   "source": [
    "import warnings\n",
    "warnings.filterwarnings(\"ignore\")"
   ]
  },
  {
   "cell_type": "markdown",
   "id": "967682d7",
   "metadata": {},
   "source": [
    "Extra pre processing"
   ]
  },
  {
   "cell_type": "code",
   "execution_count": null,
   "id": "4a29f465",
   "metadata": {},
   "outputs": [],
   "source": [
    "sales['Item_Identifier']=sales['Item_Identifier'].str[0:2]\n",
    "sales['Item_Identifier'].value_counts()"
   ]
  },
  {
   "cell_type": "code",
   "execution_count": 286,
   "id": "066a85d3",
   "metadata": {
    "scrolled": true
   },
   "outputs": [
    {
     "data": {
      "text/html": [
       "<div>\n",
       "<style scoped>\n",
       "    .dataframe tbody tr th:only-of-type {\n",
       "        vertical-align: middle;\n",
       "    }\n",
       "\n",
       "    .dataframe tbody tr th {\n",
       "        vertical-align: top;\n",
       "    }\n",
       "\n",
       "    .dataframe thead th {\n",
       "        text-align: right;\n",
       "    }\n",
       "</style>\n",
       "<table border=\"1\" class=\"dataframe\">\n",
       "  <thead>\n",
       "    <tr style=\"text-align: right;\">\n",
       "      <th></th>\n",
       "      <th>index</th>\n",
       "      <th>Item_Identifier</th>\n",
       "      <th>Item_Weight</th>\n",
       "      <th>Item_Fat_Content</th>\n",
       "      <th>Item_Visibility</th>\n",
       "      <th>Item_Type</th>\n",
       "      <th>Item_MRP</th>\n",
       "      <th>Outlet_Identifier</th>\n",
       "      <th>Outlet_Establishment_Year</th>\n",
       "      <th>Outlet_Size</th>\n",
       "      <th>Outlet_Location_Type</th>\n",
       "      <th>Outlet_Type</th>\n",
       "      <th>Item_Outlet_Sales</th>\n",
       "    </tr>\n",
       "  </thead>\n",
       "  <tbody>\n",
       "    <tr>\n",
       "      <th>0</th>\n",
       "      <td>0</td>\n",
       "      <td>FDA15</td>\n",
       "      <td>9.300000</td>\n",
       "      <td>Low Fat</td>\n",
       "      <td>0.016047</td>\n",
       "      <td>Dairy</td>\n",
       "      <td>249.809204</td>\n",
       "      <td>OUT049</td>\n",
       "      <td>1999</td>\n",
       "      <td>Medium</td>\n",
       "      <td>Tier 1</td>\n",
       "      <td>Supermarket Type1</td>\n",
       "      <td>3735.137939</td>\n",
       "    </tr>\n",
       "    <tr>\n",
       "      <th>1</th>\n",
       "      <td>1</td>\n",
       "      <td>DRC01</td>\n",
       "      <td>5.920000</td>\n",
       "      <td>Regular</td>\n",
       "      <td>0.019278</td>\n",
       "      <td>Soft Drinks</td>\n",
       "      <td>48.269199</td>\n",
       "      <td>OUT018</td>\n",
       "      <td>2009</td>\n",
       "      <td>Medium</td>\n",
       "      <td>Tier 3</td>\n",
       "      <td>Supermarket Type2</td>\n",
       "      <td>443.422791</td>\n",
       "    </tr>\n",
       "    <tr>\n",
       "      <th>2</th>\n",
       "      <td>2</td>\n",
       "      <td>FDN15</td>\n",
       "      <td>17.500000</td>\n",
       "      <td>Low Fat</td>\n",
       "      <td>0.016760</td>\n",
       "      <td>Meat</td>\n",
       "      <td>141.617996</td>\n",
       "      <td>OUT049</td>\n",
       "      <td>1999</td>\n",
       "      <td>Medium</td>\n",
       "      <td>Tier 1</td>\n",
       "      <td>Supermarket Type1</td>\n",
       "      <td>2097.270020</td>\n",
       "    </tr>\n",
       "    <tr>\n",
       "      <th>3</th>\n",
       "      <td>3</td>\n",
       "      <td>FDX07</td>\n",
       "      <td>19.200001</td>\n",
       "      <td>Regular</td>\n",
       "      <td>0.022930</td>\n",
       "      <td>Fruits and Vegetables</td>\n",
       "      <td>182.095001</td>\n",
       "      <td>OUT010</td>\n",
       "      <td>1998</td>\n",
       "      <td>Small</td>\n",
       "      <td>Tier 3</td>\n",
       "      <td>Grocery Store</td>\n",
       "      <td>732.380005</td>\n",
       "    </tr>\n",
       "    <tr>\n",
       "      <th>4</th>\n",
       "      <td>4</td>\n",
       "      <td>NCD19</td>\n",
       "      <td>8.930000</td>\n",
       "      <td>Low Fat</td>\n",
       "      <td>0.014670</td>\n",
       "      <td>Household</td>\n",
       "      <td>53.861401</td>\n",
       "      <td>OUT013</td>\n",
       "      <td>1987</td>\n",
       "      <td>High</td>\n",
       "      <td>Tier 3</td>\n",
       "      <td>Supermarket Type1</td>\n",
       "      <td>994.705200</td>\n",
       "    </tr>\n",
       "    <tr>\n",
       "      <th>...</th>\n",
       "      <td>...</td>\n",
       "      <td>...</td>\n",
       "      <td>...</td>\n",
       "      <td>...</td>\n",
       "      <td>...</td>\n",
       "      <td>...</td>\n",
       "      <td>...</td>\n",
       "      <td>...</td>\n",
       "      <td>...</td>\n",
       "      <td>...</td>\n",
       "      <td>...</td>\n",
       "      <td>...</td>\n",
       "      <td>...</td>\n",
       "    </tr>\n",
       "    <tr>\n",
       "      <th>14199</th>\n",
       "      <td>5676</td>\n",
       "      <td>FDB58</td>\n",
       "      <td>10.500000</td>\n",
       "      <td>Regular</td>\n",
       "      <td>0.013496</td>\n",
       "      <td>Snack Foods</td>\n",
       "      <td>141.315399</td>\n",
       "      <td>OUT046</td>\n",
       "      <td>1997</td>\n",
       "      <td>Small</td>\n",
       "      <td>Tier 1</td>\n",
       "      <td>Supermarket Type1</td>\n",
       "      <td>NaN</td>\n",
       "    </tr>\n",
       "    <tr>\n",
       "      <th>14200</th>\n",
       "      <td>5677</td>\n",
       "      <td>FDD47</td>\n",
       "      <td>7.600000</td>\n",
       "      <td>Regular</td>\n",
       "      <td>0.142991</td>\n",
       "      <td>Starchy Foods</td>\n",
       "      <td>169.144806</td>\n",
       "      <td>OUT018</td>\n",
       "      <td>2009</td>\n",
       "      <td>Medium</td>\n",
       "      <td>Tier 3</td>\n",
       "      <td>Supermarket Type2</td>\n",
       "      <td>NaN</td>\n",
       "    </tr>\n",
       "    <tr>\n",
       "      <th>14201</th>\n",
       "      <td>5678</td>\n",
       "      <td>NCO17</td>\n",
       "      <td>10.000000</td>\n",
       "      <td>Low Fat</td>\n",
       "      <td>0.073529</td>\n",
       "      <td>Health and Hygiene</td>\n",
       "      <td>118.744003</td>\n",
       "      <td>OUT045</td>\n",
       "      <td>2002</td>\n",
       "      <td>Small</td>\n",
       "      <td>Tier 2</td>\n",
       "      <td>Supermarket Type1</td>\n",
       "      <td>NaN</td>\n",
       "    </tr>\n",
       "    <tr>\n",
       "      <th>14202</th>\n",
       "      <td>5679</td>\n",
       "      <td>FDJ26</td>\n",
       "      <td>15.300000</td>\n",
       "      <td>Regular</td>\n",
       "      <td>0.098200</td>\n",
       "      <td>Canned</td>\n",
       "      <td>214.621796</td>\n",
       "      <td>OUT017</td>\n",
       "      <td>2007</td>\n",
       "      <td>Small</td>\n",
       "      <td>Tier 2</td>\n",
       "      <td>Supermarket Type1</td>\n",
       "      <td>NaN</td>\n",
       "    </tr>\n",
       "    <tr>\n",
       "      <th>14203</th>\n",
       "      <td>5680</td>\n",
       "      <td>FDU37</td>\n",
       "      <td>9.500000</td>\n",
       "      <td>Regular</td>\n",
       "      <td>0.104720</td>\n",
       "      <td>Canned</td>\n",
       "      <td>79.795998</td>\n",
       "      <td>OUT045</td>\n",
       "      <td>2002</td>\n",
       "      <td>Small</td>\n",
       "      <td>Tier 2</td>\n",
       "      <td>Supermarket Type1</td>\n",
       "      <td>NaN</td>\n",
       "    </tr>\n",
       "  </tbody>\n",
       "</table>\n",
       "<p>14204 rows × 13 columns</p>\n",
       "</div>"
      ],
      "text/plain": [
       "       index Item_Identifier  Item_Weight Item_Fat_Content  Item_Visibility  \\\n",
       "0          0           FDA15     9.300000          Low Fat         0.016047   \n",
       "1          1           DRC01     5.920000          Regular         0.019278   \n",
       "2          2           FDN15    17.500000          Low Fat         0.016760   \n",
       "3          3           FDX07    19.200001          Regular         0.022930   \n",
       "4          4           NCD19     8.930000          Low Fat         0.014670   \n",
       "...      ...             ...          ...              ...              ...   \n",
       "14199   5676           FDB58    10.500000          Regular         0.013496   \n",
       "14200   5677           FDD47     7.600000          Regular         0.142991   \n",
       "14201   5678           NCO17    10.000000          Low Fat         0.073529   \n",
       "14202   5679           FDJ26    15.300000          Regular         0.098200   \n",
       "14203   5680           FDU37     9.500000          Regular         0.104720   \n",
       "\n",
       "                   Item_Type    Item_MRP Outlet_Identifier  \\\n",
       "0                      Dairy  249.809204            OUT049   \n",
       "1                Soft Drinks   48.269199            OUT018   \n",
       "2                       Meat  141.617996            OUT049   \n",
       "3      Fruits and Vegetables  182.095001            OUT010   \n",
       "4                  Household   53.861401            OUT013   \n",
       "...                      ...         ...               ...   \n",
       "14199            Snack Foods  141.315399            OUT046   \n",
       "14200          Starchy Foods  169.144806            OUT018   \n",
       "14201     Health and Hygiene  118.744003            OUT045   \n",
       "14202                 Canned  214.621796            OUT017   \n",
       "14203                 Canned   79.795998            OUT045   \n",
       "\n",
       "       Outlet_Establishment_Year Outlet_Size Outlet_Location_Type  \\\n",
       "0                           1999      Medium               Tier 1   \n",
       "1                           2009      Medium               Tier 3   \n",
       "2                           1999      Medium               Tier 1   \n",
       "3                           1998       Small               Tier 3   \n",
       "4                           1987        High               Tier 3   \n",
       "...                          ...         ...                  ...   \n",
       "14199                       1997       Small               Tier 1   \n",
       "14200                       2009      Medium               Tier 3   \n",
       "14201                       2002       Small               Tier 2   \n",
       "14202                       2007       Small               Tier 2   \n",
       "14203                       2002       Small               Tier 2   \n",
       "\n",
       "             Outlet_Type  Item_Outlet_Sales  \n",
       "0      Supermarket Type1        3735.137939  \n",
       "1      Supermarket Type2         443.422791  \n",
       "2      Supermarket Type1        2097.270020  \n",
       "3          Grocery Store         732.380005  \n",
       "4      Supermarket Type1         994.705200  \n",
       "...                  ...                ...  \n",
       "14199  Supermarket Type1                NaN  \n",
       "14200  Supermarket Type2                NaN  \n",
       "14201  Supermarket Type1                NaN  \n",
       "14202  Supermarket Type1                NaN  \n",
       "14203  Supermarket Type1                NaN  \n",
       "\n",
       "[14204 rows x 13 columns]"
      ]
     },
     "execution_count": 286,
     "metadata": {},
     "output_type": "execute_result"
    }
   ],
   "source": [
    "test= pd.read_csv(\"test.csv\")\n",
    "dataset= pd.read_csv(\"train.csv\")\n",
    "df= pd.concat([dataset,test], axis=0).reset_index()\n",
    "df.loc[(df['Item_Fat_Content']=='LF') | (df['Item_Fat_Content']=='low fat') | (df['Item_Fat_Content']=='LOW'),'Item_Fat_Content']='Low Fat'\n",
    "df.loc[(df['Item_Fat_Content']=='reg'),'Item_Fat_Content']='Regular'\n",
    "df.Item_Fat_Content.unique()\n",
    "df['Item_Visibility'].replace(0.0,value=np.nan,inplace=True)\n",
    "df['Item_Visibility']=df['Item_Visibility'].fillna(df.groupby('Item_Identifier')['Item_Visibility'].transform('mean'))\n",
    "df[\"Item_Weight\"]=df[[\"Item_Weight\"]].fillna(df[\"Item_Weight\"].mean())\n",
    "mode_val=df[[\"Outlet_Size\",\"Outlet_Type\"]].pivot_table(index='Outlet_Type', aggfunc=(lambda x: x.mode()))\n",
    "missing=df[\"Outlet_Size\"].isnull()\n",
    "df.loc[missing, \"Outlet_Size\"]=df.loc[missing, \"Outlet_Type\"].apply(lambda x: mode_val.loc[x])\n",
    "df=klib.convert_datatypes(df)\n",
    "df"
   ]
  },
  {
   "cell_type": "markdown",
   "id": "7cbb3d64",
   "metadata": {},
   "source": [
    "***\n",
    "# 3. DATA PREPROCESSING FOR MODEL\n",
    "***\n",
    "## i) Encoding\n",
    "~ Will one hot encoding give better accuracy?\n",
    "\n",
    "For ordinal variables, no.\n",
    "\n",
    "Example: for a data\n",
    "- a > b > c > d\n",
    "\n",
    "For x => a (real), Its better that the model predicts:\n",
    "- x => b (predicted ordinally) \n",
    "- than \n",
    "- x => d (predicted nominally)"
   ]
  },
  {
   "cell_type": "markdown",
   "id": "9113b09e",
   "metadata": {},
   "source": [
    "#### One Hot Encoder\n",
    "- Creates alot of categories\n",
    "- Only used for two nominal columns\n",
    "\n",
    "! Take only top 10 categories if model efficiency is compromised because of columns"
   ]
  },
  {
   "cell_type": "code",
   "execution_count": 287,
   "id": "ffe68472",
   "metadata": {},
   "outputs": [],
   "source": [
    "from sklearn.preprocessing import OneHotEncoder\n",
    "oneHot= OneHotEncoder()\n",
    "\n",
    "x=oneHot.fit_transform(df[[\"Item_Type\",\"Outlet_Identifier\"]]).toarray()\n",
    "y=oneHot.get_feature_names_out()\n",
    "df1=pd.concat([df,pd.DataFrame(x, columns=y)], axis=1)\n",
    "# pd.DataFrame(x, columns=y).size"
   ]
  },
  {
   "cell_type": "code",
   "execution_count": 288,
   "id": "164b267e",
   "metadata": {},
   "outputs": [
    {
     "data": {
      "text/html": [
       "<div>\n",
       "<style scoped>\n",
       "    .dataframe tbody tr th:only-of-type {\n",
       "        vertical-align: middle;\n",
       "    }\n",
       "\n",
       "    .dataframe tbody tr th {\n",
       "        vertical-align: top;\n",
       "    }\n",
       "\n",
       "    .dataframe thead th {\n",
       "        text-align: right;\n",
       "    }\n",
       "</style>\n",
       "<table border=\"1\" class=\"dataframe\">\n",
       "  <thead>\n",
       "    <tr style=\"text-align: right;\">\n",
       "      <th></th>\n",
       "      <th>Item_Weight</th>\n",
       "      <th>Item_Fat_Content</th>\n",
       "      <th>Item_Visibility</th>\n",
       "      <th>Item_MRP</th>\n",
       "      <th>Outlet_Establishment_Year</th>\n",
       "      <th>Outlet_Size</th>\n",
       "      <th>Outlet_Location_Type</th>\n",
       "      <th>Outlet_Type</th>\n",
       "      <th>Item_Outlet_Sales</th>\n",
       "      <th>Item_Type_Baking Goods</th>\n",
       "      <th>...</th>\n",
       "      <th>Outlet_Identifier_OUT010</th>\n",
       "      <th>Outlet_Identifier_OUT013</th>\n",
       "      <th>Outlet_Identifier_OUT017</th>\n",
       "      <th>Outlet_Identifier_OUT018</th>\n",
       "      <th>Outlet_Identifier_OUT019</th>\n",
       "      <th>Outlet_Identifier_OUT027</th>\n",
       "      <th>Outlet_Identifier_OUT035</th>\n",
       "      <th>Outlet_Identifier_OUT045</th>\n",
       "      <th>Outlet_Identifier_OUT046</th>\n",
       "      <th>Outlet_Identifier_OUT049</th>\n",
       "    </tr>\n",
       "  </thead>\n",
       "  <tbody>\n",
       "    <tr>\n",
       "      <th>14202</th>\n",
       "      <td>15.3</td>\n",
       "      <td>Regular</td>\n",
       "      <td>0.09820</td>\n",
       "      <td>214.621796</td>\n",
       "      <td>2007</td>\n",
       "      <td>Small</td>\n",
       "      <td>Tier 2</td>\n",
       "      <td>Supermarket Type1</td>\n",
       "      <td>NaN</td>\n",
       "      <td>0.0</td>\n",
       "      <td>...</td>\n",
       "      <td>0.0</td>\n",
       "      <td>0.0</td>\n",
       "      <td>1.0</td>\n",
       "      <td>0.0</td>\n",
       "      <td>0.0</td>\n",
       "      <td>0.0</td>\n",
       "      <td>0.0</td>\n",
       "      <td>0.0</td>\n",
       "      <td>0.0</td>\n",
       "      <td>0.0</td>\n",
       "    </tr>\n",
       "    <tr>\n",
       "      <th>14203</th>\n",
       "      <td>9.5</td>\n",
       "      <td>Regular</td>\n",
       "      <td>0.10472</td>\n",
       "      <td>79.795998</td>\n",
       "      <td>2002</td>\n",
       "      <td>Small</td>\n",
       "      <td>Tier 2</td>\n",
       "      <td>Supermarket Type1</td>\n",
       "      <td>NaN</td>\n",
       "      <td>0.0</td>\n",
       "      <td>...</td>\n",
       "      <td>0.0</td>\n",
       "      <td>0.0</td>\n",
       "      <td>0.0</td>\n",
       "      <td>0.0</td>\n",
       "      <td>0.0</td>\n",
       "      <td>0.0</td>\n",
       "      <td>0.0</td>\n",
       "      <td>1.0</td>\n",
       "      <td>0.0</td>\n",
       "      <td>0.0</td>\n",
       "    </tr>\n",
       "  </tbody>\n",
       "</table>\n",
       "<p>2 rows × 35 columns</p>\n",
       "</div>"
      ],
      "text/plain": [
       "       Item_Weight Item_Fat_Content  Item_Visibility    Item_MRP  \\\n",
       "14202         15.3          Regular          0.09820  214.621796   \n",
       "14203          9.5          Regular          0.10472   79.795998   \n",
       "\n",
       "       Outlet_Establishment_Year Outlet_Size Outlet_Location_Type  \\\n",
       "14202                       2007       Small               Tier 2   \n",
       "14203                       2002       Small               Tier 2   \n",
       "\n",
       "             Outlet_Type  Item_Outlet_Sales  Item_Type_Baking Goods  ...  \\\n",
       "14202  Supermarket Type1                NaN                     0.0  ...   \n",
       "14203  Supermarket Type1                NaN                     0.0  ...   \n",
       "\n",
       "       Outlet_Identifier_OUT010  Outlet_Identifier_OUT013  \\\n",
       "14202                       0.0                       0.0   \n",
       "14203                       0.0                       0.0   \n",
       "\n",
       "       Outlet_Identifier_OUT017  Outlet_Identifier_OUT018  \\\n",
       "14202                       1.0                       0.0   \n",
       "14203                       0.0                       0.0   \n",
       "\n",
       "       Outlet_Identifier_OUT019  Outlet_Identifier_OUT027  \\\n",
       "14202                       0.0                       0.0   \n",
       "14203                       0.0                       0.0   \n",
       "\n",
       "       Outlet_Identifier_OUT035  Outlet_Identifier_OUT045  \\\n",
       "14202                       0.0                       0.0   \n",
       "14203                       0.0                       1.0   \n",
       "\n",
       "       Outlet_Identifier_OUT046  Outlet_Identifier_OUT049  \n",
       "14202                       0.0                       0.0  \n",
       "14203                       0.0                       0.0  \n",
       "\n",
       "[2 rows x 35 columns]"
      ]
     },
     "execution_count": 288,
     "metadata": {},
     "output_type": "execute_result"
    }
   ],
   "source": [
    "df1=df1.drop(columns=[\"Item_Type\", \"Outlet_Identifier\", \"index\", \"Item_Identifier\"])\n",
    "df1.tail(2)"
   ]
  },
  {
   "cell_type": "markdown",
   "id": "da066e3c",
   "metadata": {},
   "source": [
    "#### Label Encoder\n",
    "- Easier to implement \n",
    "- but should be used only for target variable\n",
    "\n",
    "Label encoder has encoded Outlet Size as\n",
    "- High>Medium>Small (Alphabetically)\n",
    "- 0, 1, 2\n",
    "- Changing the order through ordinal encoder\n",
    " \n",
    "==> Its better to use ordinal encoder for dependant variables"
   ]
  },
  {
   "cell_type": "code",
   "execution_count": 289,
   "id": "68e09ccd",
   "metadata": {},
   "outputs": [],
   "source": [
    "# from sklearn.preprocessing import LabelEncoder\n",
    "# labelencoder= LabelEncoder()\n",
    "\n",
    "# df1[[\"Item_Fat_Content\", \"Outlet_Size\", \"Outlet_Location_Type\", \"Outlet_Type\"]]=df[[\"Item_Fat_Content\",\n",
    "#     \"Outlet_Size\", \"Outlet_Location_Type\", \"Outlet_Type\"]].apply(labelencoder.fit_transform)\n",
    "# df1.iloc[:,:15]"
   ]
  },
  {
   "cell_type": "markdown",
   "id": "7e5f56f9",
   "metadata": {},
   "source": [
    "#### Ordinal Encoder\n",
    "- Same as label encoder\n",
    "- But we can specify order\n",
    "\n",
    "Eg- Cold, hot, warm\n",
    "- Label Encoder => 0,1,2 (alphabetically)\n",
    "- Ordinal Encoder => 0,1,2 (alphabetically)\n",
    "- But we have option to give cold>warm>hot \n",
    "- Hence: Cold, hot, warm => 0,2,1"
   ]
  },
  {
   "cell_type": "code",
   "execution_count": 290,
   "id": "5d1cb39a",
   "metadata": {
    "scrolled": true
   },
   "outputs": [
    {
     "data": {
      "text/html": [
       "<div>\n",
       "<style scoped>\n",
       "    .dataframe tbody tr th:only-of-type {\n",
       "        vertical-align: middle;\n",
       "    }\n",
       "\n",
       "    .dataframe tbody tr th {\n",
       "        vertical-align: top;\n",
       "    }\n",
       "\n",
       "    .dataframe thead th {\n",
       "        text-align: right;\n",
       "    }\n",
       "</style>\n",
       "<table border=\"1\" class=\"dataframe\">\n",
       "  <thead>\n",
       "    <tr style=\"text-align: right;\">\n",
       "      <th></th>\n",
       "      <th>Item_Weight</th>\n",
       "      <th>Item_Fat_Content</th>\n",
       "      <th>Item_Visibility</th>\n",
       "      <th>Item_MRP</th>\n",
       "      <th>Outlet_Establishment_Year</th>\n",
       "      <th>Outlet_Size</th>\n",
       "      <th>Outlet_Location_Type</th>\n",
       "      <th>Outlet_Type</th>\n",
       "      <th>Item_Outlet_Sales</th>\n",
       "      <th>Item_Type_Baking Goods</th>\n",
       "      <th>...</th>\n",
       "      <th>Outlet_Identifier_OUT010</th>\n",
       "      <th>Outlet_Identifier_OUT013</th>\n",
       "      <th>Outlet_Identifier_OUT017</th>\n",
       "      <th>Outlet_Identifier_OUT018</th>\n",
       "      <th>Outlet_Identifier_OUT019</th>\n",
       "      <th>Outlet_Identifier_OUT027</th>\n",
       "      <th>Outlet_Identifier_OUT035</th>\n",
       "      <th>Outlet_Identifier_OUT045</th>\n",
       "      <th>Outlet_Identifier_OUT046</th>\n",
       "      <th>Outlet_Identifier_OUT049</th>\n",
       "    </tr>\n",
       "  </thead>\n",
       "  <tbody>\n",
       "    <tr>\n",
       "      <th>0</th>\n",
       "      <td>9.300000</td>\n",
       "      <td>0.0</td>\n",
       "      <td>0.016047</td>\n",
       "      <td>249.809204</td>\n",
       "      <td>1999</td>\n",
       "      <td>1</td>\n",
       "      <td>0.0</td>\n",
       "      <td>1.0</td>\n",
       "      <td>3735.137939</td>\n",
       "      <td>0.0</td>\n",
       "      <td>...</td>\n",
       "      <td>0.0</td>\n",
       "      <td>0.0</td>\n",
       "      <td>0.0</td>\n",
       "      <td>0.0</td>\n",
       "      <td>0.0</td>\n",
       "      <td>0.0</td>\n",
       "      <td>0.0</td>\n",
       "      <td>0.0</td>\n",
       "      <td>0.0</td>\n",
       "      <td>1.0</td>\n",
       "    </tr>\n",
       "    <tr>\n",
       "      <th>1</th>\n",
       "      <td>5.920000</td>\n",
       "      <td>1.0</td>\n",
       "      <td>0.019278</td>\n",
       "      <td>48.269199</td>\n",
       "      <td>2009</td>\n",
       "      <td>1</td>\n",
       "      <td>2.0</td>\n",
       "      <td>2.0</td>\n",
       "      <td>443.422791</td>\n",
       "      <td>0.0</td>\n",
       "      <td>...</td>\n",
       "      <td>0.0</td>\n",
       "      <td>0.0</td>\n",
       "      <td>0.0</td>\n",
       "      <td>1.0</td>\n",
       "      <td>0.0</td>\n",
       "      <td>0.0</td>\n",
       "      <td>0.0</td>\n",
       "      <td>0.0</td>\n",
       "      <td>0.0</td>\n",
       "      <td>0.0</td>\n",
       "    </tr>\n",
       "    <tr>\n",
       "      <th>2</th>\n",
       "      <td>17.500000</td>\n",
       "      <td>0.0</td>\n",
       "      <td>0.016760</td>\n",
       "      <td>141.617996</td>\n",
       "      <td>1999</td>\n",
       "      <td>1</td>\n",
       "      <td>0.0</td>\n",
       "      <td>1.0</td>\n",
       "      <td>2097.270020</td>\n",
       "      <td>0.0</td>\n",
       "      <td>...</td>\n",
       "      <td>0.0</td>\n",
       "      <td>0.0</td>\n",
       "      <td>0.0</td>\n",
       "      <td>0.0</td>\n",
       "      <td>0.0</td>\n",
       "      <td>0.0</td>\n",
       "      <td>0.0</td>\n",
       "      <td>0.0</td>\n",
       "      <td>0.0</td>\n",
       "      <td>1.0</td>\n",
       "    </tr>\n",
       "    <tr>\n",
       "      <th>3</th>\n",
       "      <td>19.200001</td>\n",
       "      <td>1.0</td>\n",
       "      <td>0.022930</td>\n",
       "      <td>182.095001</td>\n",
       "      <td>1998</td>\n",
       "      <td>0</td>\n",
       "      <td>2.0</td>\n",
       "      <td>0.0</td>\n",
       "      <td>732.380005</td>\n",
       "      <td>0.0</td>\n",
       "      <td>...</td>\n",
       "      <td>1.0</td>\n",
       "      <td>0.0</td>\n",
       "      <td>0.0</td>\n",
       "      <td>0.0</td>\n",
       "      <td>0.0</td>\n",
       "      <td>0.0</td>\n",
       "      <td>0.0</td>\n",
       "      <td>0.0</td>\n",
       "      <td>0.0</td>\n",
       "      <td>0.0</td>\n",
       "    </tr>\n",
       "    <tr>\n",
       "      <th>4</th>\n",
       "      <td>8.930000</td>\n",
       "      <td>0.0</td>\n",
       "      <td>0.014670</td>\n",
       "      <td>53.861401</td>\n",
       "      <td>1987</td>\n",
       "      <td>2</td>\n",
       "      <td>2.0</td>\n",
       "      <td>1.0</td>\n",
       "      <td>994.705200</td>\n",
       "      <td>0.0</td>\n",
       "      <td>...</td>\n",
       "      <td>0.0</td>\n",
       "      <td>1.0</td>\n",
       "      <td>0.0</td>\n",
       "      <td>0.0</td>\n",
       "      <td>0.0</td>\n",
       "      <td>0.0</td>\n",
       "      <td>0.0</td>\n",
       "      <td>0.0</td>\n",
       "      <td>0.0</td>\n",
       "      <td>0.0</td>\n",
       "    </tr>\n",
       "    <tr>\n",
       "      <th>...</th>\n",
       "      <td>...</td>\n",
       "      <td>...</td>\n",
       "      <td>...</td>\n",
       "      <td>...</td>\n",
       "      <td>...</td>\n",
       "      <td>...</td>\n",
       "      <td>...</td>\n",
       "      <td>...</td>\n",
       "      <td>...</td>\n",
       "      <td>...</td>\n",
       "      <td>...</td>\n",
       "      <td>...</td>\n",
       "      <td>...</td>\n",
       "      <td>...</td>\n",
       "      <td>...</td>\n",
       "      <td>...</td>\n",
       "      <td>...</td>\n",
       "      <td>...</td>\n",
       "      <td>...</td>\n",
       "      <td>...</td>\n",
       "      <td>...</td>\n",
       "    </tr>\n",
       "    <tr>\n",
       "      <th>14199</th>\n",
       "      <td>10.500000</td>\n",
       "      <td>1.0</td>\n",
       "      <td>0.013496</td>\n",
       "      <td>141.315399</td>\n",
       "      <td>1997</td>\n",
       "      <td>0</td>\n",
       "      <td>0.0</td>\n",
       "      <td>1.0</td>\n",
       "      <td>NaN</td>\n",
       "      <td>0.0</td>\n",
       "      <td>...</td>\n",
       "      <td>0.0</td>\n",
       "      <td>0.0</td>\n",
       "      <td>0.0</td>\n",
       "      <td>0.0</td>\n",
       "      <td>0.0</td>\n",
       "      <td>0.0</td>\n",
       "      <td>0.0</td>\n",
       "      <td>0.0</td>\n",
       "      <td>1.0</td>\n",
       "      <td>0.0</td>\n",
       "    </tr>\n",
       "    <tr>\n",
       "      <th>14200</th>\n",
       "      <td>7.600000</td>\n",
       "      <td>1.0</td>\n",
       "      <td>0.142991</td>\n",
       "      <td>169.144806</td>\n",
       "      <td>2009</td>\n",
       "      <td>1</td>\n",
       "      <td>2.0</td>\n",
       "      <td>2.0</td>\n",
       "      <td>NaN</td>\n",
       "      <td>0.0</td>\n",
       "      <td>...</td>\n",
       "      <td>0.0</td>\n",
       "      <td>0.0</td>\n",
       "      <td>0.0</td>\n",
       "      <td>1.0</td>\n",
       "      <td>0.0</td>\n",
       "      <td>0.0</td>\n",
       "      <td>0.0</td>\n",
       "      <td>0.0</td>\n",
       "      <td>0.0</td>\n",
       "      <td>0.0</td>\n",
       "    </tr>\n",
       "    <tr>\n",
       "      <th>14201</th>\n",
       "      <td>10.000000</td>\n",
       "      <td>0.0</td>\n",
       "      <td>0.073529</td>\n",
       "      <td>118.744003</td>\n",
       "      <td>2002</td>\n",
       "      <td>0</td>\n",
       "      <td>1.0</td>\n",
       "      <td>1.0</td>\n",
       "      <td>NaN</td>\n",
       "      <td>0.0</td>\n",
       "      <td>...</td>\n",
       "      <td>0.0</td>\n",
       "      <td>0.0</td>\n",
       "      <td>0.0</td>\n",
       "      <td>0.0</td>\n",
       "      <td>0.0</td>\n",
       "      <td>0.0</td>\n",
       "      <td>0.0</td>\n",
       "      <td>1.0</td>\n",
       "      <td>0.0</td>\n",
       "      <td>0.0</td>\n",
       "    </tr>\n",
       "    <tr>\n",
       "      <th>14202</th>\n",
       "      <td>15.300000</td>\n",
       "      <td>1.0</td>\n",
       "      <td>0.098200</td>\n",
       "      <td>214.621796</td>\n",
       "      <td>2007</td>\n",
       "      <td>0</td>\n",
       "      <td>1.0</td>\n",
       "      <td>1.0</td>\n",
       "      <td>NaN</td>\n",
       "      <td>0.0</td>\n",
       "      <td>...</td>\n",
       "      <td>0.0</td>\n",
       "      <td>0.0</td>\n",
       "      <td>1.0</td>\n",
       "      <td>0.0</td>\n",
       "      <td>0.0</td>\n",
       "      <td>0.0</td>\n",
       "      <td>0.0</td>\n",
       "      <td>0.0</td>\n",
       "      <td>0.0</td>\n",
       "      <td>0.0</td>\n",
       "    </tr>\n",
       "    <tr>\n",
       "      <th>14203</th>\n",
       "      <td>9.500000</td>\n",
       "      <td>1.0</td>\n",
       "      <td>0.104720</td>\n",
       "      <td>79.795998</td>\n",
       "      <td>2002</td>\n",
       "      <td>0</td>\n",
       "      <td>1.0</td>\n",
       "      <td>1.0</td>\n",
       "      <td>NaN</td>\n",
       "      <td>0.0</td>\n",
       "      <td>...</td>\n",
       "      <td>0.0</td>\n",
       "      <td>0.0</td>\n",
       "      <td>0.0</td>\n",
       "      <td>0.0</td>\n",
       "      <td>0.0</td>\n",
       "      <td>0.0</td>\n",
       "      <td>0.0</td>\n",
       "      <td>1.0</td>\n",
       "      <td>0.0</td>\n",
       "      <td>0.0</td>\n",
       "    </tr>\n",
       "  </tbody>\n",
       "</table>\n",
       "<p>14204 rows × 35 columns</p>\n",
       "</div>"
      ],
      "text/plain": [
       "       Item_Weight  Item_Fat_Content  Item_Visibility    Item_MRP  \\\n",
       "0         9.300000               0.0         0.016047  249.809204   \n",
       "1         5.920000               1.0         0.019278   48.269199   \n",
       "2        17.500000               0.0         0.016760  141.617996   \n",
       "3        19.200001               1.0         0.022930  182.095001   \n",
       "4         8.930000               0.0         0.014670   53.861401   \n",
       "...            ...               ...              ...         ...   \n",
       "14199    10.500000               1.0         0.013496  141.315399   \n",
       "14200     7.600000               1.0         0.142991  169.144806   \n",
       "14201    10.000000               0.0         0.073529  118.744003   \n",
       "14202    15.300000               1.0         0.098200  214.621796   \n",
       "14203     9.500000               1.0         0.104720   79.795998   \n",
       "\n",
       "       Outlet_Establishment_Year Outlet_Size  Outlet_Location_Type  \\\n",
       "0                           1999           1                   0.0   \n",
       "1                           2009           1                   2.0   \n",
       "2                           1999           1                   0.0   \n",
       "3                           1998           0                   2.0   \n",
       "4                           1987           2                   2.0   \n",
       "...                          ...         ...                   ...   \n",
       "14199                       1997           0                   0.0   \n",
       "14200                       2009           1                   2.0   \n",
       "14201                       2002           0                   1.0   \n",
       "14202                       2007           0                   1.0   \n",
       "14203                       2002           0                   1.0   \n",
       "\n",
       "       Outlet_Type  Item_Outlet_Sales  Item_Type_Baking Goods  ...  \\\n",
       "0              1.0        3735.137939                     0.0  ...   \n",
       "1              2.0         443.422791                     0.0  ...   \n",
       "2              1.0        2097.270020                     0.0  ...   \n",
       "3              0.0         732.380005                     0.0  ...   \n",
       "4              1.0         994.705200                     0.0  ...   \n",
       "...            ...                ...                     ...  ...   \n",
       "14199          1.0                NaN                     0.0  ...   \n",
       "14200          2.0                NaN                     0.0  ...   \n",
       "14201          1.0                NaN                     0.0  ...   \n",
       "14202          1.0                NaN                     0.0  ...   \n",
       "14203          1.0                NaN                     0.0  ...   \n",
       "\n",
       "       Outlet_Identifier_OUT010  Outlet_Identifier_OUT013  \\\n",
       "0                           0.0                       0.0   \n",
       "1                           0.0                       0.0   \n",
       "2                           0.0                       0.0   \n",
       "3                           1.0                       0.0   \n",
       "4                           0.0                       1.0   \n",
       "...                         ...                       ...   \n",
       "14199                       0.0                       0.0   \n",
       "14200                       0.0                       0.0   \n",
       "14201                       0.0                       0.0   \n",
       "14202                       0.0                       0.0   \n",
       "14203                       0.0                       0.0   \n",
       "\n",
       "       Outlet_Identifier_OUT017  Outlet_Identifier_OUT018  \\\n",
       "0                           0.0                       0.0   \n",
       "1                           0.0                       1.0   \n",
       "2                           0.0                       0.0   \n",
       "3                           0.0                       0.0   \n",
       "4                           0.0                       0.0   \n",
       "...                         ...                       ...   \n",
       "14199                       0.0                       0.0   \n",
       "14200                       0.0                       1.0   \n",
       "14201                       0.0                       0.0   \n",
       "14202                       1.0                       0.0   \n",
       "14203                       0.0                       0.0   \n",
       "\n",
       "       Outlet_Identifier_OUT019  Outlet_Identifier_OUT027  \\\n",
       "0                           0.0                       0.0   \n",
       "1                           0.0                       0.0   \n",
       "2                           0.0                       0.0   \n",
       "3                           0.0                       0.0   \n",
       "4                           0.0                       0.0   \n",
       "...                         ...                       ...   \n",
       "14199                       0.0                       0.0   \n",
       "14200                       0.0                       0.0   \n",
       "14201                       0.0                       0.0   \n",
       "14202                       0.0                       0.0   \n",
       "14203                       0.0                       0.0   \n",
       "\n",
       "       Outlet_Identifier_OUT035  Outlet_Identifier_OUT045  \\\n",
       "0                           0.0                       0.0   \n",
       "1                           0.0                       0.0   \n",
       "2                           0.0                       0.0   \n",
       "3                           0.0                       0.0   \n",
       "4                           0.0                       0.0   \n",
       "...                         ...                       ...   \n",
       "14199                       0.0                       0.0   \n",
       "14200                       0.0                       0.0   \n",
       "14201                       0.0                       1.0   \n",
       "14202                       0.0                       0.0   \n",
       "14203                       0.0                       1.0   \n",
       "\n",
       "       Outlet_Identifier_OUT046  Outlet_Identifier_OUT049  \n",
       "0                           0.0                       1.0  \n",
       "1                           0.0                       0.0  \n",
       "2                           0.0                       1.0  \n",
       "3                           0.0                       0.0  \n",
       "4                           0.0                       0.0  \n",
       "...                         ...                       ...  \n",
       "14199                       1.0                       0.0  \n",
       "14200                       0.0                       0.0  \n",
       "14201                       0.0                       0.0  \n",
       "14202                       0.0                       0.0  \n",
       "14203                       0.0                       0.0  \n",
       "\n",
       "[14204 rows x 35 columns]"
      ]
     },
     "execution_count": 290,
     "metadata": {},
     "output_type": "execute_result"
    }
   ],
   "source": [
    "from sklearn.preprocessing import OrdinalEncoder\n",
    "\n",
    "outlet_size_encoder= OrdinalEncoder(categories=[[\"Small\",\"Medium\", \"High\"]], dtype=np.str_)\n",
    "ordencoder= OrdinalEncoder()\n",
    "\n",
    "df1[[\"Item_Fat_Content\", \"Outlet_Location_Type\", \"Outlet_Type\"]]=ordencoder.fit_transform(df1[[\"Item_Fat_Content\", \"Outlet_Location_Type\", \"Outlet_Type\"]])\n",
    "df1[[\"Outlet_Size\"]]=outlet_size_encoder.fit_transform(df1[[\"Outlet_Size\"]])\n",
    "df1"
   ]
  },
  {
   "cell_type": "markdown",
   "id": "6206f224",
   "metadata": {},
   "source": [
    "## ii) Train Test Split"
   ]
  },
  {
   "cell_type": "markdown",
   "id": "1db2d819",
   "metadata": {},
   "source": [
    "leave categorical"
   ]
  },
  {
   "cell_type": "code",
   "execution_count": 291,
   "id": "3dfb964c",
   "metadata": {},
   "outputs": [
    {
     "data": {
      "text/html": [
       "<div>\n",
       "<style scoped>\n",
       "    .dataframe tbody tr th:only-of-type {\n",
       "        vertical-align: middle;\n",
       "    }\n",
       "\n",
       "    .dataframe tbody tr th {\n",
       "        vertical-align: top;\n",
       "    }\n",
       "\n",
       "    .dataframe thead th {\n",
       "        text-align: right;\n",
       "    }\n",
       "</style>\n",
       "<table border=\"1\" class=\"dataframe\">\n",
       "  <thead>\n",
       "    <tr style=\"text-align: right;\">\n",
       "      <th></th>\n",
       "      <th>Item_Weight</th>\n",
       "      <th>Item_Fat_Content</th>\n",
       "      <th>Item_Visibility</th>\n",
       "      <th>Item_MRP</th>\n",
       "      <th>Outlet_Establishment_Year</th>\n",
       "      <th>Outlet_Size</th>\n",
       "      <th>Outlet_Location_Type</th>\n",
       "      <th>Outlet_Type</th>\n",
       "      <th>Item_Type_Baking Goods</th>\n",
       "      <th>Item_Type_Breads</th>\n",
       "      <th>...</th>\n",
       "      <th>Outlet_Identifier_OUT010</th>\n",
       "      <th>Outlet_Identifier_OUT013</th>\n",
       "      <th>Outlet_Identifier_OUT017</th>\n",
       "      <th>Outlet_Identifier_OUT018</th>\n",
       "      <th>Outlet_Identifier_OUT019</th>\n",
       "      <th>Outlet_Identifier_OUT027</th>\n",
       "      <th>Outlet_Identifier_OUT035</th>\n",
       "      <th>Outlet_Identifier_OUT045</th>\n",
       "      <th>Outlet_Identifier_OUT046</th>\n",
       "      <th>Outlet_Identifier_OUT049</th>\n",
       "    </tr>\n",
       "  </thead>\n",
       "  <tbody>\n",
       "    <tr>\n",
       "      <th>0</th>\n",
       "      <td>9.300000</td>\n",
       "      <td>0.0</td>\n",
       "      <td>0.016047</td>\n",
       "      <td>249.809204</td>\n",
       "      <td>1999</td>\n",
       "      <td>1</td>\n",
       "      <td>0.0</td>\n",
       "      <td>1.0</td>\n",
       "      <td>0.0</td>\n",
       "      <td>0.0</td>\n",
       "      <td>...</td>\n",
       "      <td>0.0</td>\n",
       "      <td>0.0</td>\n",
       "      <td>0.0</td>\n",
       "      <td>0.0</td>\n",
       "      <td>0.0</td>\n",
       "      <td>0.0</td>\n",
       "      <td>0.0</td>\n",
       "      <td>0.0</td>\n",
       "      <td>0.0</td>\n",
       "      <td>1.0</td>\n",
       "    </tr>\n",
       "    <tr>\n",
       "      <th>1</th>\n",
       "      <td>5.920000</td>\n",
       "      <td>1.0</td>\n",
       "      <td>0.019278</td>\n",
       "      <td>48.269199</td>\n",
       "      <td>2009</td>\n",
       "      <td>1</td>\n",
       "      <td>2.0</td>\n",
       "      <td>2.0</td>\n",
       "      <td>0.0</td>\n",
       "      <td>0.0</td>\n",
       "      <td>...</td>\n",
       "      <td>0.0</td>\n",
       "      <td>0.0</td>\n",
       "      <td>0.0</td>\n",
       "      <td>1.0</td>\n",
       "      <td>0.0</td>\n",
       "      <td>0.0</td>\n",
       "      <td>0.0</td>\n",
       "      <td>0.0</td>\n",
       "      <td>0.0</td>\n",
       "      <td>0.0</td>\n",
       "    </tr>\n",
       "    <tr>\n",
       "      <th>2</th>\n",
       "      <td>17.500000</td>\n",
       "      <td>0.0</td>\n",
       "      <td>0.016760</td>\n",
       "      <td>141.617996</td>\n",
       "      <td>1999</td>\n",
       "      <td>1</td>\n",
       "      <td>0.0</td>\n",
       "      <td>1.0</td>\n",
       "      <td>0.0</td>\n",
       "      <td>0.0</td>\n",
       "      <td>...</td>\n",
       "      <td>0.0</td>\n",
       "      <td>0.0</td>\n",
       "      <td>0.0</td>\n",
       "      <td>0.0</td>\n",
       "      <td>0.0</td>\n",
       "      <td>0.0</td>\n",
       "      <td>0.0</td>\n",
       "      <td>0.0</td>\n",
       "      <td>0.0</td>\n",
       "      <td>1.0</td>\n",
       "    </tr>\n",
       "    <tr>\n",
       "      <th>3</th>\n",
       "      <td>19.200001</td>\n",
       "      <td>1.0</td>\n",
       "      <td>0.022930</td>\n",
       "      <td>182.095001</td>\n",
       "      <td>1998</td>\n",
       "      <td>0</td>\n",
       "      <td>2.0</td>\n",
       "      <td>0.0</td>\n",
       "      <td>0.0</td>\n",
       "      <td>0.0</td>\n",
       "      <td>...</td>\n",
       "      <td>1.0</td>\n",
       "      <td>0.0</td>\n",
       "      <td>0.0</td>\n",
       "      <td>0.0</td>\n",
       "      <td>0.0</td>\n",
       "      <td>0.0</td>\n",
       "      <td>0.0</td>\n",
       "      <td>0.0</td>\n",
       "      <td>0.0</td>\n",
       "      <td>0.0</td>\n",
       "    </tr>\n",
       "    <tr>\n",
       "      <th>4</th>\n",
       "      <td>8.930000</td>\n",
       "      <td>0.0</td>\n",
       "      <td>0.014670</td>\n",
       "      <td>53.861401</td>\n",
       "      <td>1987</td>\n",
       "      <td>2</td>\n",
       "      <td>2.0</td>\n",
       "      <td>1.0</td>\n",
       "      <td>0.0</td>\n",
       "      <td>0.0</td>\n",
       "      <td>...</td>\n",
       "      <td>0.0</td>\n",
       "      <td>1.0</td>\n",
       "      <td>0.0</td>\n",
       "      <td>0.0</td>\n",
       "      <td>0.0</td>\n",
       "      <td>0.0</td>\n",
       "      <td>0.0</td>\n",
       "      <td>0.0</td>\n",
       "      <td>0.0</td>\n",
       "      <td>0.0</td>\n",
       "    </tr>\n",
       "    <tr>\n",
       "      <th>...</th>\n",
       "      <td>...</td>\n",
       "      <td>...</td>\n",
       "      <td>...</td>\n",
       "      <td>...</td>\n",
       "      <td>...</td>\n",
       "      <td>...</td>\n",
       "      <td>...</td>\n",
       "      <td>...</td>\n",
       "      <td>...</td>\n",
       "      <td>...</td>\n",
       "      <td>...</td>\n",
       "      <td>...</td>\n",
       "      <td>...</td>\n",
       "      <td>...</td>\n",
       "      <td>...</td>\n",
       "      <td>...</td>\n",
       "      <td>...</td>\n",
       "      <td>...</td>\n",
       "      <td>...</td>\n",
       "      <td>...</td>\n",
       "      <td>...</td>\n",
       "    </tr>\n",
       "    <tr>\n",
       "      <th>8518</th>\n",
       "      <td>6.865000</td>\n",
       "      <td>0.0</td>\n",
       "      <td>0.056783</td>\n",
       "      <td>214.521805</td>\n",
       "      <td>1987</td>\n",
       "      <td>2</td>\n",
       "      <td>2.0</td>\n",
       "      <td>1.0</td>\n",
       "      <td>0.0</td>\n",
       "      <td>0.0</td>\n",
       "      <td>...</td>\n",
       "      <td>0.0</td>\n",
       "      <td>1.0</td>\n",
       "      <td>0.0</td>\n",
       "      <td>0.0</td>\n",
       "      <td>0.0</td>\n",
       "      <td>0.0</td>\n",
       "      <td>0.0</td>\n",
       "      <td>0.0</td>\n",
       "      <td>0.0</td>\n",
       "      <td>0.0</td>\n",
       "    </tr>\n",
       "    <tr>\n",
       "      <th>8519</th>\n",
       "      <td>8.380000</td>\n",
       "      <td>1.0</td>\n",
       "      <td>0.046982</td>\n",
       "      <td>108.156998</td>\n",
       "      <td>2002</td>\n",
       "      <td>0</td>\n",
       "      <td>1.0</td>\n",
       "      <td>1.0</td>\n",
       "      <td>1.0</td>\n",
       "      <td>0.0</td>\n",
       "      <td>...</td>\n",
       "      <td>0.0</td>\n",
       "      <td>0.0</td>\n",
       "      <td>0.0</td>\n",
       "      <td>0.0</td>\n",
       "      <td>0.0</td>\n",
       "      <td>0.0</td>\n",
       "      <td>0.0</td>\n",
       "      <td>1.0</td>\n",
       "      <td>0.0</td>\n",
       "      <td>0.0</td>\n",
       "    </tr>\n",
       "    <tr>\n",
       "      <th>8520</th>\n",
       "      <td>10.600000</td>\n",
       "      <td>0.0</td>\n",
       "      <td>0.035186</td>\n",
       "      <td>85.122398</td>\n",
       "      <td>2004</td>\n",
       "      <td>0</td>\n",
       "      <td>1.0</td>\n",
       "      <td>1.0</td>\n",
       "      <td>0.0</td>\n",
       "      <td>0.0</td>\n",
       "      <td>...</td>\n",
       "      <td>0.0</td>\n",
       "      <td>0.0</td>\n",
       "      <td>0.0</td>\n",
       "      <td>0.0</td>\n",
       "      <td>0.0</td>\n",
       "      <td>0.0</td>\n",
       "      <td>1.0</td>\n",
       "      <td>0.0</td>\n",
       "      <td>0.0</td>\n",
       "      <td>0.0</td>\n",
       "    </tr>\n",
       "    <tr>\n",
       "      <th>8521</th>\n",
       "      <td>7.210000</td>\n",
       "      <td>1.0</td>\n",
       "      <td>0.145221</td>\n",
       "      <td>103.133202</td>\n",
       "      <td>2009</td>\n",
       "      <td>1</td>\n",
       "      <td>2.0</td>\n",
       "      <td>2.0</td>\n",
       "      <td>0.0</td>\n",
       "      <td>0.0</td>\n",
       "      <td>...</td>\n",
       "      <td>0.0</td>\n",
       "      <td>0.0</td>\n",
       "      <td>0.0</td>\n",
       "      <td>1.0</td>\n",
       "      <td>0.0</td>\n",
       "      <td>0.0</td>\n",
       "      <td>0.0</td>\n",
       "      <td>0.0</td>\n",
       "      <td>0.0</td>\n",
       "      <td>0.0</td>\n",
       "    </tr>\n",
       "    <tr>\n",
       "      <th>8522</th>\n",
       "      <td>14.800000</td>\n",
       "      <td>0.0</td>\n",
       "      <td>0.044878</td>\n",
       "      <td>75.467003</td>\n",
       "      <td>1997</td>\n",
       "      <td>0</td>\n",
       "      <td>0.0</td>\n",
       "      <td>1.0</td>\n",
       "      <td>0.0</td>\n",
       "      <td>0.0</td>\n",
       "      <td>...</td>\n",
       "      <td>0.0</td>\n",
       "      <td>0.0</td>\n",
       "      <td>0.0</td>\n",
       "      <td>0.0</td>\n",
       "      <td>0.0</td>\n",
       "      <td>0.0</td>\n",
       "      <td>0.0</td>\n",
       "      <td>0.0</td>\n",
       "      <td>1.0</td>\n",
       "      <td>0.0</td>\n",
       "    </tr>\n",
       "  </tbody>\n",
       "</table>\n",
       "<p>8523 rows × 34 columns</p>\n",
       "</div>"
      ],
      "text/plain": [
       "      Item_Weight  Item_Fat_Content  Item_Visibility    Item_MRP  \\\n",
       "0        9.300000               0.0         0.016047  249.809204   \n",
       "1        5.920000               1.0         0.019278   48.269199   \n",
       "2       17.500000               0.0         0.016760  141.617996   \n",
       "3       19.200001               1.0         0.022930  182.095001   \n",
       "4        8.930000               0.0         0.014670   53.861401   \n",
       "...           ...               ...              ...         ...   \n",
       "8518     6.865000               0.0         0.056783  214.521805   \n",
       "8519     8.380000               1.0         0.046982  108.156998   \n",
       "8520    10.600000               0.0         0.035186   85.122398   \n",
       "8521     7.210000               1.0         0.145221  103.133202   \n",
       "8522    14.800000               0.0         0.044878   75.467003   \n",
       "\n",
       "      Outlet_Establishment_Year Outlet_Size  Outlet_Location_Type  \\\n",
       "0                          1999           1                   0.0   \n",
       "1                          2009           1                   2.0   \n",
       "2                          1999           1                   0.0   \n",
       "3                          1998           0                   2.0   \n",
       "4                          1987           2                   2.0   \n",
       "...                         ...         ...                   ...   \n",
       "8518                       1987           2                   2.0   \n",
       "8519                       2002           0                   1.0   \n",
       "8520                       2004           0                   1.0   \n",
       "8521                       2009           1                   2.0   \n",
       "8522                       1997           0                   0.0   \n",
       "\n",
       "      Outlet_Type  Item_Type_Baking Goods  Item_Type_Breads  ...  \\\n",
       "0             1.0                     0.0               0.0  ...   \n",
       "1             2.0                     0.0               0.0  ...   \n",
       "2             1.0                     0.0               0.0  ...   \n",
       "3             0.0                     0.0               0.0  ...   \n",
       "4             1.0                     0.0               0.0  ...   \n",
       "...           ...                     ...               ...  ...   \n",
       "8518          1.0                     0.0               0.0  ...   \n",
       "8519          1.0                     1.0               0.0  ...   \n",
       "8520          1.0                     0.0               0.0  ...   \n",
       "8521          2.0                     0.0               0.0  ...   \n",
       "8522          1.0                     0.0               0.0  ...   \n",
       "\n",
       "      Outlet_Identifier_OUT010  Outlet_Identifier_OUT013  \\\n",
       "0                          0.0                       0.0   \n",
       "1                          0.0                       0.0   \n",
       "2                          0.0                       0.0   \n",
       "3                          1.0                       0.0   \n",
       "4                          0.0                       1.0   \n",
       "...                        ...                       ...   \n",
       "8518                       0.0                       1.0   \n",
       "8519                       0.0                       0.0   \n",
       "8520                       0.0                       0.0   \n",
       "8521                       0.0                       0.0   \n",
       "8522                       0.0                       0.0   \n",
       "\n",
       "      Outlet_Identifier_OUT017  Outlet_Identifier_OUT018  \\\n",
       "0                          0.0                       0.0   \n",
       "1                          0.0                       1.0   \n",
       "2                          0.0                       0.0   \n",
       "3                          0.0                       0.0   \n",
       "4                          0.0                       0.0   \n",
       "...                        ...                       ...   \n",
       "8518                       0.0                       0.0   \n",
       "8519                       0.0                       0.0   \n",
       "8520                       0.0                       0.0   \n",
       "8521                       0.0                       1.0   \n",
       "8522                       0.0                       0.0   \n",
       "\n",
       "      Outlet_Identifier_OUT019  Outlet_Identifier_OUT027  \\\n",
       "0                          0.0                       0.0   \n",
       "1                          0.0                       0.0   \n",
       "2                          0.0                       0.0   \n",
       "3                          0.0                       0.0   \n",
       "4                          0.0                       0.0   \n",
       "...                        ...                       ...   \n",
       "8518                       0.0                       0.0   \n",
       "8519                       0.0                       0.0   \n",
       "8520                       0.0                       0.0   \n",
       "8521                       0.0                       0.0   \n",
       "8522                       0.0                       0.0   \n",
       "\n",
       "      Outlet_Identifier_OUT035  Outlet_Identifier_OUT045  \\\n",
       "0                          0.0                       0.0   \n",
       "1                          0.0                       0.0   \n",
       "2                          0.0                       0.0   \n",
       "3                          0.0                       0.0   \n",
       "4                          0.0                       0.0   \n",
       "...                        ...                       ...   \n",
       "8518                       0.0                       0.0   \n",
       "8519                       0.0                       1.0   \n",
       "8520                       1.0                       0.0   \n",
       "8521                       0.0                       0.0   \n",
       "8522                       0.0                       0.0   \n",
       "\n",
       "      Outlet_Identifier_OUT046  Outlet_Identifier_OUT049  \n",
       "0                          0.0                       1.0  \n",
       "1                          0.0                       0.0  \n",
       "2                          0.0                       1.0  \n",
       "3                          0.0                       0.0  \n",
       "4                          0.0                       0.0  \n",
       "...                        ...                       ...  \n",
       "8518                       0.0                       0.0  \n",
       "8519                       0.0                       0.0  \n",
       "8520                       0.0                       0.0  \n",
       "8521                       0.0                       0.0  \n",
       "8522                       1.0                       0.0  \n",
       "\n",
       "[8523 rows x 34 columns]"
      ]
     },
     "execution_count": 291,
     "metadata": {},
     "output_type": "execute_result"
    }
   ],
   "source": [
    "train_data=df1.iloc[:8523]\n",
    "test_data=df1.iloc[8523:]\n",
    "y=train_data[[\"Item_Outlet_Sales\"]]\n",
    "x=train_data.drop(columns=\"Item_Outlet_Sales\")\n",
    "x"
   ]
  },
  {
   "cell_type": "code",
   "execution_count": 292,
   "id": "657317c2",
   "metadata": {},
   "outputs": [],
   "source": [
    "from sklearn.model_selection import train_test_split"
   ]
  },
  {
   "cell_type": "code",
   "execution_count": 293,
   "id": "2605c11a",
   "metadata": {},
   "outputs": [],
   "source": [
    "x_train, x_test, y_train, y_test = train_test_split(x, y, test_size = 0.30)"
   ]
  },
  {
   "cell_type": "markdown",
   "id": "02d5165a",
   "metadata": {},
   "source": [
    "## iii) Standardization\n",
    "#### Does not make much difference here"
   ]
  },
  {
   "cell_type": "markdown",
   "id": "4033c1de",
   "metadata": {},
   "source": [
    "fit_transform() ==> Train data \n",
    "\n",
    "transform() ==>Test data\n",
    "- so that params are not computed again\n",
    "- overfitting is avoided"
   ]
  },
  {
   "cell_type": "code",
   "execution_count": 294,
   "id": "59d543c7",
   "metadata": {},
   "outputs": [],
   "source": [
    "from sklearn.preprocessing import StandardScaler\n",
    "\n",
    "scaler= StandardScaler()\n",
    "x_train=scaler.fit_transform(x_train)\n",
    "x_test=scaler.transform(x_test)"
   ]
  },
  {
   "cell_type": "code",
   "execution_count": 295,
   "id": "fa0f8b5a",
   "metadata": {},
   "outputs": [],
   "source": [
    "x_train_df=pd.DataFrame(x_train, columns=x.columns)\n",
    "x_test_df=pd.DataFrame(x_test, columns=x.columns)\n",
    "y_train_df=pd.DataFrame(y_train, columns=y.columns)\n",
    "y_test_df=pd.DataFrame(y_test, columns=y.columns)"
   ]
  },
  {
   "cell_type": "markdown",
   "id": "23c3adc6",
   "metadata": {},
   "source": [
    "***\n",
    "# 4) APPLYING ML MODELS\n",
    "***"
   ]
  },
  {
   "cell_type": "markdown",
   "id": "eb727df2",
   "metadata": {},
   "source": [
    "# Linear Models"
   ]
  },
  {
   "cell_type": "markdown",
   "id": "0d346b3b",
   "metadata": {},
   "source": [
    "## 1. Linear Regression:"
   ]
  },
  {
   "cell_type": "markdown",
   "id": "d6bd924d",
   "metadata": {},
   "source": [
    "feature names variable"
   ]
  },
  {
   "cell_type": "code",
   "execution_count": 266,
   "id": "d360b733",
   "metadata": {},
   "outputs": [],
   "source": [
    "from sklearn.linear_model import LinearRegression\n",
    "from sklearn.model_selection import cross_val_score"
   ]
  },
  {
   "cell_type": "markdown",
   "id": "1f72dceb",
   "metadata": {},
   "source": [
    "model.fit() ==> Train data\n",
    "\n",
    "model.predict() ==> Test data"
   ]
  },
  {
   "cell_type": "code",
   "execution_count": 298,
   "id": "911f7c94",
   "metadata": {},
   "outputs": [],
   "source": [
    "linear_reg= LinearRegression()\n",
    "\n",
    "linear_reg.fit(x_train_df, y_train_df)\n",
    "y_pred=linear_reg.predict(x_test_df)"
   ]
  },
  {
   "cell_type": "code",
   "execution_count": 299,
   "id": "4f22cdea",
   "metadata": {},
   "outputs": [
    {
     "data": {
      "text/plain": [
       "<Axes: ylabel='Density'>"
      ]
     },
     "execution_count": 299,
     "metadata": {},
     "output_type": "execute_result"
    },
    {
     "data": {
      "image/png": "[encoded data removed]",
      "text/plain": [
       "<Figure size 640x480 with 1 Axes>"
      ]
     },
     "metadata": {},
     "output_type": "display_data"
    }
   ],
   "source": [
    "sns.distplot(y_pred-y_test)"
   ]
  },
  {
   "cell_type": "markdown",
   "id": "0f4a816d",
   "metadata": {},
   "source": [
    "Aligning with Linear Regression Assumption that\n",
    "- Residuals should be normally distributed"
   ]
  },
  {
   "cell_type": "code",
   "execution_count": 300,
   "id": "d091e139",
   "metadata": {},
   "outputs": [
    {
     "data": {
      "text/plain": [
       "0.5563118337404124"
      ]
     },
     "execution_count": 300,
     "metadata": {},
     "output_type": "execute_result"
    }
   ],
   "source": [
    "linear_reg.score(x_test,y_test)"
   ]
  },
  {
   "cell_type": "code",
   "execution_count": 301,
   "id": "b4701ce5",
   "metadata": {},
   "outputs": [
    {
     "name": "stdout",
     "output_type": "stream",
     "text": [
      "0.5563118337404124\n",
      "854.509494956793\n",
      "1166.8621352776436\n"
     ]
    }
   ],
   "source": [
    "from sklearn.metrics import r2_score, mean_absolute_error, mean_squared_error\n",
    "print(r2_score(y_test,y_pred))\n",
    "print(mean_absolute_error(y_test,y_pred))\n",
    "print(mean_squared_error(y_test,y_pred, squared=False))"
   ]
  },
  {
   "cell_type": "code",
   "execution_count": 302,
   "id": "65a20c46",
   "metadata": {},
   "outputs": [
    {
     "data": {
      "text/plain": [
       "0.5603833599573047"
      ]
     },
     "execution_count": 302,
     "metadata": {},
     "output_type": "execute_result"
    }
   ],
   "source": [
    "np.mean(cross_val_score(linear_reg, x_train, y_train, scoring='r2', cv=5))"
   ]
  },
  {
   "cell_type": "code",
   "execution_count": 303,
   "id": "6d4a99c8",
   "metadata": {},
   "outputs": [
    {
     "data": {
      "text/plain": [
       "array([[-1.11928351e+01,  2.60648124e+01, -1.43656497e+01,\n",
       "         9.57990647e+02, -1.44479922e+15, -8.08201567e+14,\n",
       "         1.20963743e+14, -8.78725938e+14,  6.33239400e+13,\n",
       "         4.07694803e+13,  2.62022966e+13,  6.39564001e+13,\n",
       "         6.46421084e+13,  7.13091853e+13,  8.38354867e+13,\n",
       "         3.75551080e+13,  5.72661483e+13,  7.41602828e+13,\n",
       "         5.15883318e+13,  3.47967775e+13,  2.01611268e+13,\n",
       "         8.16410669e+13,  5.32200905e+13,  3.05971332e+13,\n",
       "        -1.07331111e+15, -8.45396987e+14, -4.64633508e+14,\n",
       "         3.10315773e+14, -1.51278693e+15, -6.40490715e+14,\n",
       "        -6.18227705e+14, -7.25660181e+14, -9.77418578e+14,\n",
       "        -4.84961750e+14]])"
      ]
     },
     "execution_count": 303,
     "metadata": {},
     "output_type": "execute_result"
    }
   ],
   "source": [
    "linear_reg.coef_\n",
    "# linear_reg.intercept_"
   ]
  },
  {
   "cell_type": "code",
   "execution_count": 307,
   "id": "2bb60dd8",
   "metadata": {},
   "outputs": [
    {
     "data": {
      "text/plain": [
       "<Axes: xlabel='Weightage', ylabel='Feature'>"
      ]
     },
     "execution_count": 307,
     "metadata": {},
     "output_type": "execute_result"
    },
    {
     "data": {
      "image/png": "[encoded data removed]",
      "text/plain": [
       "<Figure size 640x480 with 1 Axes>"
      ]
     },
     "metadata": {},
     "output_type": "display_data"
    }
   ],
   "source": [
    "# list(enumerate(x.columns))\n",
    "coef_dict=dict()\n",
    "\n",
    "for i in range(x_train_df.shape[1]):\n",
    "    coef_dict[x_train_df.columns[i]]=linear_reg.coef_[0][i].round(5)\n",
    "\n",
    "feature=pd.DataFrame(sorted(coef_dict.items(), key=lambda kv:(kv[1], kv[0]), reverse=True), columns=[\"Feature\", \"Weightage\"])\n",
    "feature.head()\n",
    "sns.barplot(feature, y='Feature', x=\"Weightage\")"
   ]
  },
  {
   "cell_type": "code",
   "execution_count": 99,
   "id": "ef41d58c",
   "metadata": {},
   "outputs": [
    {
     "name": "stderr",
     "output_type": "stream",
     "text": [
      "Using `tqdm.autonotebook.tqdm` in notebook mode. Use `tqdm.tqdm` instead to force console mode (e.g. in jupyter console)\n"
     ]
    }
   ],
   "source": [
    "import shap"
   ]
  },
  {
   "cell_type": "code",
   "execution_count": 308,
   "id": "a34aa4d3",
   "metadata": {},
   "outputs": [
    {
     "name": "stderr",
     "output_type": "stream",
     "text": [
      "Permutation explainer: 2558it [01:37, 23.23it/s]                                                                       \n"
     ]
    }
   ],
   "source": [
    "explainer_1 = shap.Explainer(linear_reg.predict, x_train_df)\n",
    "shap_values_1= explainer_1(x_test_df)"
   ]
  },
  {
   "cell_type": "code",
   "execution_count": 309,
   "id": "630a5e85",
   "metadata": {},
   "outputs": [
    {
     "data": {
      "image/png": "[encoded data removed]",
      "text/plain": [
       "<Figure size 800x650 with 1 Axes>"
      ]
     },
     "metadata": {},
     "output_type": "display_data"
    }
   ],
   "source": [
    "shap.plots.bar(shap_values)"
   ]
  },
  {
   "cell_type": "markdown",
   "id": "703ec758",
   "metadata": {},
   "source": [
    "Waterfall error!"
   ]
  },
  {
   "cell_type": "code",
   "execution_count": null,
   "id": "65e227d4",
   "metadata": {},
   "outputs": [],
   "source": [
    "shap.plots.waterfall(shap_values_1[2])"
   ]
  },
  {
   "cell_type": "markdown",
   "id": "ef49702b",
   "metadata": {},
   "source": [
    "## 2. Polynomial Regression:"
   ]
  },
  {
   "cell_type": "code",
   "execution_count": null,
   "id": "c488c03e",
   "metadata": {},
   "outputs": [],
   "source": [
    "from sklearn.preprocessing import PolynomialFeatures"
   ]
  },
  {
   "cell_type": "code",
   "execution_count": 176,
   "id": "c56734fa",
   "metadata": {},
   "outputs": [
    {
     "data": {
      "text/html": [
       "<style>#sk-container-id-19 {color: black;background-color: white;}#sk-container-id-19 pre{padding: 0;}#sk-container-id-19 div.sk-toggleable {background-color: white;}#sk-container-id-19 label.sk-toggleable__label {cursor: pointer;display: block;width: 100%;margin-bottom: 0;padding: 0.3em;box-sizing: border-box;text-align: center;}#sk-container-id-19 label.sk-toggleable__label-arrow:before {content: \"▸\";float: left;margin-right: 0.25em;color: #696969;}#sk-container-id-19 label.sk-toggleable__label-arrow:hover:before {color: black;}#sk-container-id-19 div.sk-estimator:hover label.sk-toggleable__label-arrow:before {color: black;}#sk-container-id-19 div.sk-toggleable__content {max-height: 0;max-width: 0;overflow: hidden;text-align: left;background-color: #f0f8ff;}#sk-container-id-19 div.sk-toggleable__content pre {margin: 0.2em;color: black;border-radius: 0.25em;background-color: #f0f8ff;}#sk-container-id-19 input.sk-toggleable__control:checked~div.sk-toggleable__content {max-height: 200px;max-width: 100%;overflow: auto;}#sk-container-id-19 input.sk-toggleable__control:checked~label.sk-toggleable__label-arrow:before {content: \"▾\";}#sk-container-id-19 div.sk-estimator input.sk-toggleable__control:checked~label.sk-toggleable__label {background-color: #d4ebff;}#sk-container-id-19 div.sk-label input.sk-toggleable__control:checked~label.sk-toggleable__label {background-color: #d4ebff;}#sk-container-id-19 input.sk-hidden--visually {border: 0;clip: rect(1px 1px 1px 1px);clip: rect(1px, 1px, 1px, 1px);height: 1px;margin: -1px;overflow: hidden;padding: 0;position: absolute;width: 1px;}#sk-container-id-19 div.sk-estimator {font-family: monospace;background-color: #f0f8ff;border: 1px dotted black;border-radius: 0.25em;box-sizing: border-box;margin-bottom: 0.5em;}#sk-container-id-19 div.sk-estimator:hover {background-color: #d4ebff;}#sk-container-id-19 div.sk-parallel-item::after {content: \"\";width: 100%;border-bottom: 1px solid gray;flex-grow: 1;}#sk-container-id-19 div.sk-label:hover label.sk-toggleable__label {background-color: #d4ebff;}#sk-container-id-19 div.sk-serial::before {content: \"\";position: absolute;border-left: 1px solid gray;box-sizing: border-box;top: 0;bottom: 0;left: 50%;z-index: 0;}#sk-container-id-19 div.sk-serial {display: flex;flex-direction: column;align-items: center;background-color: white;padding-right: 0.2em;padding-left: 0.2em;position: relative;}#sk-container-id-19 div.sk-item {position: relative;z-index: 1;}#sk-container-id-19 div.sk-parallel {display: flex;align-items: stretch;justify-content: center;background-color: white;position: relative;}#sk-container-id-19 div.sk-item::before, #sk-container-id-19 div.sk-parallel-item::before {content: \"\";position: absolute;border-left: 1px solid gray;box-sizing: border-box;top: 0;bottom: 0;left: 50%;z-index: -1;}#sk-container-id-19 div.sk-parallel-item {display: flex;flex-direction: column;z-index: 1;position: relative;background-color: white;}#sk-container-id-19 div.sk-parallel-item:first-child::after {align-self: flex-end;width: 50%;}#sk-container-id-19 div.sk-parallel-item:last-child::after {align-self: flex-start;width: 50%;}#sk-container-id-19 div.sk-parallel-item:only-child::after {width: 0;}#sk-container-id-19 div.sk-dashed-wrapped {border: 1px dashed gray;margin: 0 0.4em 0.5em 0.4em;box-sizing: border-box;padding-bottom: 0.4em;background-color: white;}#sk-container-id-19 div.sk-label label {font-family: monospace;font-weight: bold;display: inline-block;line-height: 1.2em;}#sk-container-id-19 div.sk-label-container {text-align: center;}#sk-container-id-19 div.sk-container {/* jupyter's `normalize.less` sets `[hidden] { display: none; }` but bootstrap.min.css set `[hidden] { display: none !important; }` so we also need the `!important` here to be able to override the default hidden behavior on the sphinx rendered scikit-learn.org. See: https://github.com/scikit-learn/scikit-learn/issues/21755 */display: inline-block !important;position: relative;}#sk-container-id-19 div.sk-text-repr-fallback {display: none;}</style><div id=\"sk-container-id-19\" class=\"sk-top-container\"><div class=\"sk-text-repr-fallback\"><pre>LinearRegression()</pre><b>In a Jupyter environment, please rerun this cell to show the HTML representation or trust the notebook. <br />On GitHub, the HTML representation is unable to render, please try loading this page with nbviewer.org.</b></div><div class=\"sk-container\" hidden><div class=\"sk-item\"><div class=\"sk-estimator sk-toggleable\"><input class=\"sk-toggleable__control sk-hidden--visually\" id=\"sk-estimator-id-39\" type=\"checkbox\" checked><label for=\"sk-estimator-id-39\" class=\"sk-toggleable__label sk-toggleable__label-arrow\">LinearRegression</label><div class=\"sk-toggleable__content\"><pre>LinearRegression()</pre></div></div></div></div></div>"
      ],
      "text/plain": [
       "LinearRegression()"
      ]
     },
     "execution_count": 176,
     "metadata": {},
     "output_type": "execute_result"
    }
   ],
   "source": [
    "polynomial_features= PolynomialFeatures(degree=2)\n",
    "\n",
    "x_poly = polynomial_features.fit_transform(x_train)\n",
    "x_poly_test =  polynomial_features.transform(x_test)\n",
    "\n",
    "model = LinearRegression()\n",
    "polynomial_features.fit(x_poly, y_train)\n",
    "model.fit(x_poly, y_train)"
   ]
  },
  {
   "cell_type": "code",
   "execution_count": 177,
   "id": "714a658e",
   "metadata": {},
   "outputs": [],
   "source": [
    "y_poly_pred = model.predict(x_poly_test)"
   ]
  },
  {
   "cell_type": "code",
   "execution_count": 178,
   "id": "9edb66fe",
   "metadata": {},
   "outputs": [
    {
     "name": "stdout",
     "output_type": "stream",
     "text": [
      "0.5693422653601079\n",
      "786.9952026041962\n",
      "1120.6016795636529\n"
     ]
    }
   ],
   "source": [
    "print(r2_score(y_test,y_poly_pred))\n",
    "print(mean_absolute_error(y_test,y_poly_pred))\n",
    "print(mean_squared_error(y_test,y_poly_pred, squared=False))"
   ]
  },
  {
   "cell_type": "code",
   "execution_count": 68,
   "id": "b75ad3cc",
   "metadata": {},
   "outputs": [
    {
     "name": "stdout",
     "output_type": "stream",
     "text": [
      "0.5635134153465564\n",
      "832.071973067482\n",
      "1113.3946395147648\n"
     ]
    }
   ],
   "source": [
    "print(r2_score(y_test,y_pred))\n",
    "print(mean_absolute_error(y_test,y_pred))\n",
    "print(mean_squared_error(y_test,y_pred, squared=False))"
   ]
  },
  {
   "cell_type": "code",
   "execution_count": 58,
   "id": "41783863",
   "metadata": {
    "scrolled": true
   },
   "outputs": [
    {
     "data": {
      "text/plain": [
       "array([[-1.36435105e+10, -1.57733555e+01,  3.21283350e+01,\n",
       "        -3.40594474e+01,  9.65863873e+02, -7.47086838e+14,\n",
       "        -1.16653299e+15, -3.06048991e+15, -3.80656556e+14,\n",
       "        -6.74795715e+14, -4.34740553e+14, -2.96339449e+14,\n",
       "        -6.79687071e+14, -6.96768938e+14, -7.81716432e+14,\n",
       "        -9.08869546e+14, -4.22501010e+14, -6.20619166e+14,\n",
       "        -8.00038401e+14, -5.50416610e+14, -3.58739363e+14,\n",
       "        -2.07627136e+14, -8.87561826e+14, -5.78755659e+14,\n",
       "        -3.37189408e+14,  1.06385502e+15,  2.26362370e+15,\n",
       "         5.59934213e+14,  2.46197742e+15, -1.07611310e+15,\n",
       "         1.93370859e+15,  4.77270990e+14,  4.19374182e+14,\n",
       "        -8.83949126e+14, -3.06105941e+14]])"
      ]
     },
     "execution_count": 58,
     "metadata": {},
     "output_type": "execute_result"
    }
   ],
   "source": [
    "model.coef_\n",
    "# model.intercept_"
   ]
  },
  {
   "cell_type": "markdown",
   "id": "61e69f23",
   "metadata": {},
   "source": [
    "##### Result\n",
    "- Similar to linear reg, polynomial of degree 2 fits well \n",
    "- Performs just slightly better"
   ]
  },
  {
   "cell_type": "markdown",
   "id": "ac9a65fb",
   "metadata": {},
   "source": [
    "## 3. Ridge Regression:"
   ]
  },
  {
   "cell_type": "code",
   "execution_count": 73,
   "id": "9aec5bb9",
   "metadata": {},
   "outputs": [],
   "source": [
    "from sklearn.linear_model import Ridge\n",
    "from sklearn.model_selection import GridSearchCV"
   ]
  },
  {
   "cell_type": "code",
   "execution_count": 74,
   "id": "fbd4abae",
   "metadata": {},
   "outputs": [],
   "source": [
    "ridge_reg =  Ridge(alpha=35)"
   ]
  },
  {
   "cell_type": "code",
   "execution_count": 75,
   "id": "63a6bca4",
   "metadata": {},
   "outputs": [
    {
     "data": {
      "text/html": [
       "<style>#sk-container-id-2 {color: black;background-color: white;}#sk-container-id-2 pre{padding: 0;}#sk-container-id-2 div.sk-toggleable {background-color: white;}#sk-container-id-2 label.sk-toggleable__label {cursor: pointer;display: block;width: 100%;margin-bottom: 0;padding: 0.3em;box-sizing: border-box;text-align: center;}#sk-container-id-2 label.sk-toggleable__label-arrow:before {content: \"▸\";float: left;margin-right: 0.25em;color: #696969;}#sk-container-id-2 label.sk-toggleable__label-arrow:hover:before {color: black;}#sk-container-id-2 div.sk-estimator:hover label.sk-toggleable__label-arrow:before {color: black;}#sk-container-id-2 div.sk-toggleable__content {max-height: 0;max-width: 0;overflow: hidden;text-align: left;background-color: #f0f8ff;}#sk-container-id-2 div.sk-toggleable__content pre {margin: 0.2em;color: black;border-radius: 0.25em;background-color: #f0f8ff;}#sk-container-id-2 input.sk-toggleable__control:checked~div.sk-toggleable__content {max-height: 200px;max-width: 100%;overflow: auto;}#sk-container-id-2 input.sk-toggleable__control:checked~label.sk-toggleable__label-arrow:before {content: \"▾\";}#sk-container-id-2 div.sk-estimator input.sk-toggleable__control:checked~label.sk-toggleable__label {background-color: #d4ebff;}#sk-container-id-2 div.sk-label input.sk-toggleable__control:checked~label.sk-toggleable__label {background-color: #d4ebff;}#sk-container-id-2 input.sk-hidden--visually {border: 0;clip: rect(1px 1px 1px 1px);clip: rect(1px, 1px, 1px, 1px);height: 1px;margin: -1px;overflow: hidden;padding: 0;position: absolute;width: 1px;}#sk-container-id-2 div.sk-estimator {font-family: monospace;background-color: #f0f8ff;border: 1px dotted black;border-radius: 0.25em;box-sizing: border-box;margin-bottom: 0.5em;}#sk-container-id-2 div.sk-estimator:hover {background-color: #d4ebff;}#sk-container-id-2 div.sk-parallel-item::after {content: \"\";width: 100%;border-bottom: 1px solid gray;flex-grow: 1;}#sk-container-id-2 div.sk-label:hover label.sk-toggleable__label {background-color: #d4ebff;}#sk-container-id-2 div.sk-serial::before {content: \"\";position: absolute;border-left: 1px solid gray;box-sizing: border-box;top: 0;bottom: 0;left: 50%;z-index: 0;}#sk-container-id-2 div.sk-serial {display: flex;flex-direction: column;align-items: center;background-color: white;padding-right: 0.2em;padding-left: 0.2em;position: relative;}#sk-container-id-2 div.sk-item {position: relative;z-index: 1;}#sk-container-id-2 div.sk-parallel {display: flex;align-items: stretch;justify-content: center;background-color: white;position: relative;}#sk-container-id-2 div.sk-item::before, #sk-container-id-2 div.sk-parallel-item::before {content: \"\";position: absolute;border-left: 1px solid gray;box-sizing: border-box;top: 0;bottom: 0;left: 50%;z-index: -1;}#sk-container-id-2 div.sk-parallel-item {display: flex;flex-direction: column;z-index: 1;position: relative;background-color: white;}#sk-container-id-2 div.sk-parallel-item:first-child::after {align-self: flex-end;width: 50%;}#sk-container-id-2 div.sk-parallel-item:last-child::after {align-self: flex-start;width: 50%;}#sk-container-id-2 div.sk-parallel-item:only-child::after {width: 0;}#sk-container-id-2 div.sk-dashed-wrapped {border: 1px dashed gray;margin: 0 0.4em 0.5em 0.4em;box-sizing: border-box;padding-bottom: 0.4em;background-color: white;}#sk-container-id-2 div.sk-label label {font-family: monospace;font-weight: bold;display: inline-block;line-height: 1.2em;}#sk-container-id-2 div.sk-label-container {text-align: center;}#sk-container-id-2 div.sk-container {/* jupyter's `normalize.less` sets `[hidden] { display: none; }` but bootstrap.min.css set `[hidden] { display: none !important; }` so we also need the `!important` here to be able to override the default hidden behavior on the sphinx rendered scikit-learn.org. See: https://github.com/scikit-learn/scikit-learn/issues/21755 */display: inline-block !important;position: relative;}#sk-container-id-2 div.sk-text-repr-fallback {display: none;}</style><div id=\"sk-container-id-2\" class=\"sk-top-container\"><div class=\"sk-text-repr-fallback\"><pre>GridSearchCV(cv=5, estimator=Ridge(alpha=35),\n",
       "             param_grid={&#x27;alpha&#x27;: [35, 36, 37, 38, 39, 40, 41, 42, 43, 44]},\n",
       "             scoring=&#x27;r2&#x27;)</pre><b>In a Jupyter environment, please rerun this cell to show the HTML representation or trust the notebook. <br />On GitHub, the HTML representation is unable to render, please try loading this page with nbviewer.org.</b></div><div class=\"sk-container\" hidden><div class=\"sk-item sk-dashed-wrapped\"><div class=\"sk-label-container\"><div class=\"sk-label sk-toggleable\"><input class=\"sk-toggleable__control sk-hidden--visually\" id=\"sk-estimator-id-2\" type=\"checkbox\" ><label for=\"sk-estimator-id-2\" class=\"sk-toggleable__label sk-toggleable__label-arrow\">GridSearchCV</label><div class=\"sk-toggleable__content\"><pre>GridSearchCV(cv=5, estimator=Ridge(alpha=35),\n",
       "             param_grid={&#x27;alpha&#x27;: [35, 36, 37, 38, 39, 40, 41, 42, 43, 44]},\n",
       "             scoring=&#x27;r2&#x27;)</pre></div></div></div><div class=\"sk-parallel\"><div class=\"sk-parallel-item\"><div class=\"sk-item\"><div class=\"sk-label-container\"><div class=\"sk-label sk-toggleable\"><input class=\"sk-toggleable__control sk-hidden--visually\" id=\"sk-estimator-id-3\" type=\"checkbox\" ><label for=\"sk-estimator-id-3\" class=\"sk-toggleable__label sk-toggleable__label-arrow\">estimator: Ridge</label><div class=\"sk-toggleable__content\"><pre>Ridge(alpha=35)</pre></div></div></div><div class=\"sk-serial\"><div class=\"sk-item\"><div class=\"sk-estimator sk-toggleable\"><input class=\"sk-toggleable__control sk-hidden--visually\" id=\"sk-estimator-id-4\" type=\"checkbox\" ><label for=\"sk-estimator-id-4\" class=\"sk-toggleable__label sk-toggleable__label-arrow\">Ridge</label><div class=\"sk-toggleable__content\"><pre>Ridge(alpha=35)</pre></div></div></div></div></div></div></div></div></div></div>"
      ],
      "text/plain": [
       "GridSearchCV(cv=5, estimator=Ridge(alpha=35),\n",
       "             param_grid={'alpha': [35, 36, 37, 38, 39, 40, 41, 42, 43, 44]},\n",
       "             scoring='r2')"
      ]
     },
     "execution_count": 75,
     "metadata": {},
     "output_type": "execute_result"
    }
   ],
   "source": [
    "## Hyperparameter tuning\n",
    "\n",
    "parameters={'alpha':[x for x in range(35,45)]}\n",
    "ridgecv =GridSearchCV(ridge_reg, parameters, scoring=\"r2\", cv=5)\n",
    "ridgecv.fit(x_train,y_train)"
   ]
  },
  {
   "cell_type": "code",
   "execution_count": 185,
   "id": "21d8ff38",
   "metadata": {},
   "outputs": [
    {
     "data": {
      "text/plain": [
       "{'alpha': 35}"
      ]
     },
     "execution_count": 185,
     "metadata": {},
     "output_type": "execute_result"
    }
   ],
   "source": [
    "ridgecv.best_params_"
   ]
  },
  {
   "cell_type": "code",
   "execution_count": 186,
   "id": "148010f3",
   "metadata": {},
   "outputs": [
    {
     "data": {
      "text/plain": [
       "0.5692248339376835"
      ]
     },
     "execution_count": 186,
     "metadata": {},
     "output_type": "execute_result"
    }
   ],
   "source": [
    "ridgecv.best_score_"
   ]
  },
  {
   "cell_type": "code",
   "execution_count": 187,
   "id": "ec615260",
   "metadata": {},
   "outputs": [],
   "source": [
    "ridge_reg.fit(x_train,y_train)\n",
    "y_ridge_pred=ridge_reg.predict(x_test)"
   ]
  },
  {
   "cell_type": "code",
   "execution_count": 188,
   "id": "d6148a10",
   "metadata": {
    "scrolled": true
   },
   "outputs": [
    {
     "data": {
      "text/plain": [
       "0.5401648409264472"
      ]
     },
     "execution_count": 188,
     "metadata": {},
     "output_type": "execute_result"
    }
   ],
   "source": [
    "r2_score(y_test,y_ridge_pred)"
   ]
  },
  {
   "cell_type": "markdown",
   "id": "a363ca00",
   "metadata": {},
   "source": [
    "##### Result\n",
    "- Doesn't do much"
   ]
  },
  {
   "cell_type": "markdown",
   "id": "7b8ee176",
   "metadata": {},
   "source": [
    "## 4. Lasso Regression:"
   ]
  },
  {
   "cell_type": "code",
   "execution_count": 87,
   "id": "74b925b5",
   "metadata": {},
   "outputs": [],
   "source": [
    "from sklearn.linear_model import Lasso"
   ]
  },
  {
   "cell_type": "code",
   "execution_count": 92,
   "id": "c132cbeb",
   "metadata": {},
   "outputs": [],
   "source": [
    "lasso_reg= Lasso(alpha=13)"
   ]
  },
  {
   "cell_type": "markdown",
   "id": "bd00dab1",
   "metadata": {},
   "source": [
    "#### HyperParameter Tuning"
   ]
  },
  {
   "cell_type": "code",
   "execution_count": 93,
   "id": "a432965b",
   "metadata": {},
   "outputs": [
    {
     "data": {
      "text/html": [
       "<style>#sk-container-id-4 {color: black;background-color: white;}#sk-container-id-4 pre{padding: 0;}#sk-container-id-4 div.sk-toggleable {background-color: white;}#sk-container-id-4 label.sk-toggleable__label {cursor: pointer;display: block;width: 100%;margin-bottom: 0;padding: 0.3em;box-sizing: border-box;text-align: center;}#sk-container-id-4 label.sk-toggleable__label-arrow:before {content: \"▸\";float: left;margin-right: 0.25em;color: #696969;}#sk-container-id-4 label.sk-toggleable__label-arrow:hover:before {color: black;}#sk-container-id-4 div.sk-estimator:hover label.sk-toggleable__label-arrow:before {color: black;}#sk-container-id-4 div.sk-toggleable__content {max-height: 0;max-width: 0;overflow: hidden;text-align: left;background-color: #f0f8ff;}#sk-container-id-4 div.sk-toggleable__content pre {margin: 0.2em;color: black;border-radius: 0.25em;background-color: #f0f8ff;}#sk-container-id-4 input.sk-toggleable__control:checked~div.sk-toggleable__content {max-height: 200px;max-width: 100%;overflow: auto;}#sk-container-id-4 input.sk-toggleable__control:checked~label.sk-toggleable__label-arrow:before {content: \"▾\";}#sk-container-id-4 div.sk-estimator input.sk-toggleable__control:checked~label.sk-toggleable__label {background-color: #d4ebff;}#sk-container-id-4 div.sk-label input.sk-toggleable__control:checked~label.sk-toggleable__label {background-color: #d4ebff;}#sk-container-id-4 input.sk-hidden--visually {border: 0;clip: rect(1px 1px 1px 1px);clip: rect(1px, 1px, 1px, 1px);height: 1px;margin: -1px;overflow: hidden;padding: 0;position: absolute;width: 1px;}#sk-container-id-4 div.sk-estimator {font-family: monospace;background-color: #f0f8ff;border: 1px dotted black;border-radius: 0.25em;box-sizing: border-box;margin-bottom: 0.5em;}#sk-container-id-4 div.sk-estimator:hover {background-color: #d4ebff;}#sk-container-id-4 div.sk-parallel-item::after {content: \"\";width: 100%;border-bottom: 1px solid gray;flex-grow: 1;}#sk-container-id-4 div.sk-label:hover label.sk-toggleable__label {background-color: #d4ebff;}#sk-container-id-4 div.sk-serial::before {content: \"\";position: absolute;border-left: 1px solid gray;box-sizing: border-box;top: 0;bottom: 0;left: 50%;z-index: 0;}#sk-container-id-4 div.sk-serial {display: flex;flex-direction: column;align-items: center;background-color: white;padding-right: 0.2em;padding-left: 0.2em;position: relative;}#sk-container-id-4 div.sk-item {position: relative;z-index: 1;}#sk-container-id-4 div.sk-parallel {display: flex;align-items: stretch;justify-content: center;background-color: white;position: relative;}#sk-container-id-4 div.sk-item::before, #sk-container-id-4 div.sk-parallel-item::before {content: \"\";position: absolute;border-left: 1px solid gray;box-sizing: border-box;top: 0;bottom: 0;left: 50%;z-index: -1;}#sk-container-id-4 div.sk-parallel-item {display: flex;flex-direction: column;z-index: 1;position: relative;background-color: white;}#sk-container-id-4 div.sk-parallel-item:first-child::after {align-self: flex-end;width: 50%;}#sk-container-id-4 div.sk-parallel-item:last-child::after {align-self: flex-start;width: 50%;}#sk-container-id-4 div.sk-parallel-item:only-child::after {width: 0;}#sk-container-id-4 div.sk-dashed-wrapped {border: 1px dashed gray;margin: 0 0.4em 0.5em 0.4em;box-sizing: border-box;padding-bottom: 0.4em;background-color: white;}#sk-container-id-4 div.sk-label label {font-family: monospace;font-weight: bold;display: inline-block;line-height: 1.2em;}#sk-container-id-4 div.sk-label-container {text-align: center;}#sk-container-id-4 div.sk-container {/* jupyter's `normalize.less` sets `[hidden] { display: none; }` but bootstrap.min.css set `[hidden] { display: none !important; }` so we also need the `!important` here to be able to override the default hidden behavior on the sphinx rendered scikit-learn.org. See: https://github.com/scikit-learn/scikit-learn/issues/21755 */display: inline-block !important;position: relative;}#sk-container-id-4 div.sk-text-repr-fallback {display: none;}</style><div id=\"sk-container-id-4\" class=\"sk-top-container\"><div class=\"sk-text-repr-fallback\"><pre>GridSearchCV(cv=5, estimator=Lasso(alpha=13),\n",
       "             param_grid={&#x27;alpha&#x27;: [1, 2, 3, 4, 5, 6, 7, 8, 9, 10, 11, 12, 13,\n",
       "                                   14, 15, 16, 17, 18, 19, 20, 21, 22, 23,\n",
       "                                   24]},\n",
       "             scoring=&#x27;r2&#x27;)</pre><b>In a Jupyter environment, please rerun this cell to show the HTML representation or trust the notebook. <br />On GitHub, the HTML representation is unable to render, please try loading this page with nbviewer.org.</b></div><div class=\"sk-container\" hidden><div class=\"sk-item sk-dashed-wrapped\"><div class=\"sk-label-container\"><div class=\"sk-label sk-toggleable\"><input class=\"sk-toggleable__control sk-hidden--visually\" id=\"sk-estimator-id-8\" type=\"checkbox\" ><label for=\"sk-estimator-id-8\" class=\"sk-toggleable__label sk-toggleable__label-arrow\">GridSearchCV</label><div class=\"sk-toggleable__content\"><pre>GridSearchCV(cv=5, estimator=Lasso(alpha=13),\n",
       "             param_grid={&#x27;alpha&#x27;: [1, 2, 3, 4, 5, 6, 7, 8, 9, 10, 11, 12, 13,\n",
       "                                   14, 15, 16, 17, 18, 19, 20, 21, 22, 23,\n",
       "                                   24]},\n",
       "             scoring=&#x27;r2&#x27;)</pre></div></div></div><div class=\"sk-parallel\"><div class=\"sk-parallel-item\"><div class=\"sk-item\"><div class=\"sk-label-container\"><div class=\"sk-label sk-toggleable\"><input class=\"sk-toggleable__control sk-hidden--visually\" id=\"sk-estimator-id-9\" type=\"checkbox\" ><label for=\"sk-estimator-id-9\" class=\"sk-toggleable__label sk-toggleable__label-arrow\">estimator: Lasso</label><div class=\"sk-toggleable__content\"><pre>Lasso(alpha=13)</pre></div></div></div><div class=\"sk-serial\"><div class=\"sk-item\"><div class=\"sk-estimator sk-toggleable\"><input class=\"sk-toggleable__control sk-hidden--visually\" id=\"sk-estimator-id-10\" type=\"checkbox\" ><label for=\"sk-estimator-id-10\" class=\"sk-toggleable__label sk-toggleable__label-arrow\">Lasso</label><div class=\"sk-toggleable__content\"><pre>Lasso(alpha=13)</pre></div></div></div></div></div></div></div></div></div></div>"
      ],
      "text/plain": [
       "GridSearchCV(cv=5, estimator=Lasso(alpha=13),\n",
       "             param_grid={'alpha': [1, 2, 3, 4, 5, 6, 7, 8, 9, 10, 11, 12, 13,\n",
       "                                   14, 15, 16, 17, 18, 19, 20, 21, 22, 23,\n",
       "                                   24]},\n",
       "             scoring='r2')"
      ]
     },
     "execution_count": 93,
     "metadata": {},
     "output_type": "execute_result"
    }
   ],
   "source": [
    "parameters={'alpha':[x for x in range(1,25)]}\n",
    "lassocv =GridSearchCV(lasso_reg, parameters, scoring=\"r2\", cv=5)\n",
    "lassocv.fit(x_train,y_train)"
   ]
  },
  {
   "cell_type": "code",
   "execution_count": 94,
   "id": "61f47d4b",
   "metadata": {},
   "outputs": [
    {
     "name": "stdout",
     "output_type": "stream",
     "text": [
      "Features seen: 34\n",
      "{'alpha': 13}\n",
      "0.5599244454324502\n"
     ]
    }
   ],
   "source": [
    "print(\"Features seen:\",lassocv.n_features_in_)\n",
    "print(lassocv.best_params_)\n",
    "print(lassocv.best_score_)"
   ]
  },
  {
   "cell_type": "code",
   "execution_count": 95,
   "id": "24270499",
   "metadata": {},
   "outputs": [
    {
     "data": {
      "text/plain": [
       "0.5633993189971637"
      ]
     },
     "execution_count": 95,
     "metadata": {},
     "output_type": "execute_result"
    }
   ],
   "source": [
    "lasso_reg.fit(x_train,y_train)\n",
    "y_lasso_pred=lasso_reg.predict(x_test)\n",
    "r2_score(y_test,y_lasso_pred)"
   ]
  },
  {
   "cell_type": "code",
   "execution_count": 200,
   "id": "7ef46e90",
   "metadata": {},
   "outputs": [],
   "source": [
    "# from sklearn.feature_selection import SelectFromModel"
   ]
  },
  {
   "cell_type": "code",
   "execution_count": 201,
   "id": "c0d4cacf",
   "metadata": {},
   "outputs": [],
   "source": [
    "# removed features\n",
    "# sel_ = SelectFromModel(lasso)\n",
    "# sel_.fit(scaler.transform(x_train), y_train)\n",
    "# (sel_.estimator_.coef_ == 0).ravel().tolist()"
   ]
  },
  {
   "cell_type": "markdown",
   "id": "9920e955",
   "metadata": {},
   "source": [
    "#### Result\n",
    "- Not much difference"
   ]
  },
  {
   "cell_type": "markdown",
   "id": "d717a44e",
   "metadata": {},
   "source": [
    "# Tree Models"
   ]
  },
  {
   "cell_type": "markdown",
   "id": "69327ace",
   "metadata": {},
   "source": [
    "## 1. Decision Tree:"
   ]
  },
  {
   "cell_type": "code",
   "execution_count": 58,
   "id": "0164b4bb",
   "metadata": {},
   "outputs": [],
   "source": [
    "from sklearn.tree import DecisionTreeRegressor"
   ]
  },
  {
   "cell_type": "code",
   "execution_count": 311,
   "id": "ed6e09c3",
   "metadata": {},
   "outputs": [
    {
     "name": "stdout",
     "output_type": "stream",
     "text": [
      "37\n",
      "0.2120714836691745\n"
     ]
    }
   ],
   "source": [
    "decision_tree_reg= DecisionTreeRegressor()\n",
    "decision_tree_reg.fit(x_train_df,y_train_df)\n",
    "print(decision_tree_reg.get_depth())\n",
    "print(decision_tree_reg.score(x_test,y_test))"
   ]
  },
  {
   "cell_type": "markdown",
   "id": "d7beefae",
   "metadata": {},
   "source": [
    "#### Hyper Parameter Tuning"
   ]
  },
  {
   "cell_type": "code",
   "execution_count": 312,
   "id": "965194c2",
   "metadata": {},
   "outputs": [
    {
     "name": "stdout",
     "output_type": "stream",
     "text": [
      "{'max_depth': 5}\n",
      "0.5905250441234504\n"
     ]
    }
   ],
   "source": [
    "parameters={\"max_depth\":[x for x in range(1,30)]}\n",
    "decision_tree_cv =GridSearchCV(decision_tree_reg, parameters, scoring=\"r2\", cv=5)\n",
    "decision_tree_cv.fit(x_train,y_train)\n",
    "print(decision_tree_cv.best_params_)\n",
    "print(decision_tree_cv.best_score_)"
   ]
  },
  {
   "cell_type": "code",
   "execution_count": 313,
   "id": "67253c76",
   "metadata": {},
   "outputs": [
    {
     "data": {
      "text/html": [
       "<style>#sk-container-id-24 {color: black;background-color: white;}#sk-container-id-24 pre{padding: 0;}#sk-container-id-24 div.sk-toggleable {background-color: white;}#sk-container-id-24 label.sk-toggleable__label {cursor: pointer;display: block;width: 100%;margin-bottom: 0;padding: 0.3em;box-sizing: border-box;text-align: center;}#sk-container-id-24 label.sk-toggleable__label-arrow:before {content: \"▸\";float: left;margin-right: 0.25em;color: #696969;}#sk-container-id-24 label.sk-toggleable__label-arrow:hover:before {color: black;}#sk-container-id-24 div.sk-estimator:hover label.sk-toggleable__label-arrow:before {color: black;}#sk-container-id-24 div.sk-toggleable__content {max-height: 0;max-width: 0;overflow: hidden;text-align: left;background-color: #f0f8ff;}#sk-container-id-24 div.sk-toggleable__content pre {margin: 0.2em;color: black;border-radius: 0.25em;background-color: #f0f8ff;}#sk-container-id-24 input.sk-toggleable__control:checked~div.sk-toggleable__content {max-height: 200px;max-width: 100%;overflow: auto;}#sk-container-id-24 input.sk-toggleable__control:checked~label.sk-toggleable__label-arrow:before {content: \"▾\";}#sk-container-id-24 div.sk-estimator input.sk-toggleable__control:checked~label.sk-toggleable__label {background-color: #d4ebff;}#sk-container-id-24 div.sk-label input.sk-toggleable__control:checked~label.sk-toggleable__label {background-color: #d4ebff;}#sk-container-id-24 input.sk-hidden--visually {border: 0;clip: rect(1px 1px 1px 1px);clip: rect(1px, 1px, 1px, 1px);height: 1px;margin: -1px;overflow: hidden;padding: 0;position: absolute;width: 1px;}#sk-container-id-24 div.sk-estimator {font-family: monospace;background-color: #f0f8ff;border: 1px dotted black;border-radius: 0.25em;box-sizing: border-box;margin-bottom: 0.5em;}#sk-container-id-24 div.sk-estimator:hover {background-color: #d4ebff;}#sk-container-id-24 div.sk-parallel-item::after {content: \"\";width: 100%;border-bottom: 1px solid gray;flex-grow: 1;}#sk-container-id-24 div.sk-label:hover label.sk-toggleable__label {background-color: #d4ebff;}#sk-container-id-24 div.sk-serial::before {content: \"\";position: absolute;border-left: 1px solid gray;box-sizing: border-box;top: 0;bottom: 0;left: 50%;z-index: 0;}#sk-container-id-24 div.sk-serial {display: flex;flex-direction: column;align-items: center;background-color: white;padding-right: 0.2em;padding-left: 0.2em;position: relative;}#sk-container-id-24 div.sk-item {position: relative;z-index: 1;}#sk-container-id-24 div.sk-parallel {display: flex;align-items: stretch;justify-content: center;background-color: white;position: relative;}#sk-container-id-24 div.sk-item::before, #sk-container-id-24 div.sk-parallel-item::before {content: \"\";position: absolute;border-left: 1px solid gray;box-sizing: border-box;top: 0;bottom: 0;left: 50%;z-index: -1;}#sk-container-id-24 div.sk-parallel-item {display: flex;flex-direction: column;z-index: 1;position: relative;background-color: white;}#sk-container-id-24 div.sk-parallel-item:first-child::after {align-self: flex-end;width: 50%;}#sk-container-id-24 div.sk-parallel-item:last-child::after {align-self: flex-start;width: 50%;}#sk-container-id-24 div.sk-parallel-item:only-child::after {width: 0;}#sk-container-id-24 div.sk-dashed-wrapped {border: 1px dashed gray;margin: 0 0.4em 0.5em 0.4em;box-sizing: border-box;padding-bottom: 0.4em;background-color: white;}#sk-container-id-24 div.sk-label label {font-family: monospace;font-weight: bold;display: inline-block;line-height: 1.2em;}#sk-container-id-24 div.sk-label-container {text-align: center;}#sk-container-id-24 div.sk-container {/* jupyter's `normalize.less` sets `[hidden] { display: none; }` but bootstrap.min.css set `[hidden] { display: none !important; }` so we also need the `!important` here to be able to override the default hidden behavior on the sphinx rendered scikit-learn.org. See: https://github.com/scikit-learn/scikit-learn/issues/21755 */display: inline-block !important;position: relative;}#sk-container-id-24 div.sk-text-repr-fallback {display: none;}</style><div id=\"sk-container-id-24\" class=\"sk-top-container\"><div class=\"sk-text-repr-fallback\"><pre>DecisionTreeRegressor(max_depth=5, min_samples_leaf=22, min_samples_split=105)</pre><b>In a Jupyter environment, please rerun this cell to show the HTML representation or trust the notebook. <br />On GitHub, the HTML representation is unable to render, please try loading this page with nbviewer.org.</b></div><div class=\"sk-container\" hidden><div class=\"sk-item\"><div class=\"sk-estimator sk-toggleable\"><input class=\"sk-toggleable__control sk-hidden--visually\" id=\"sk-estimator-id-34\" type=\"checkbox\" checked><label for=\"sk-estimator-id-34\" class=\"sk-toggleable__label sk-toggleable__label-arrow\">DecisionTreeRegressor</label><div class=\"sk-toggleable__content\"><pre>DecisionTreeRegressor(max_depth=5, min_samples_leaf=22, min_samples_split=105)</pre></div></div></div></div></div>"
      ],
      "text/plain": [
       "DecisionTreeRegressor(max_depth=5, min_samples_leaf=22, min_samples_split=105)"
      ]
     },
     "execution_count": 313,
     "metadata": {},
     "output_type": "execute_result"
    }
   ],
   "source": [
    "decision_tree_reg= DecisionTreeRegressor( max_depth=5,min_samples_split=105,min_samples_leaf=22)\n",
    "decision_tree_reg.fit(x_train_df,y_train_df)"
   ]
  },
  {
   "cell_type": "code",
   "execution_count": 314,
   "id": "527de2a1",
   "metadata": {},
   "outputs": [
    {
     "data": {
      "text/plain": [
       "0.5907430453331479"
      ]
     },
     "execution_count": 314,
     "metadata": {},
     "output_type": "execute_result"
    }
   ],
   "source": [
    "np.mean(cross_val_score(decision_tree_reg, x_train_df, y_train_df, scoring='r2', cv=5))"
   ]
  },
  {
   "cell_type": "code",
   "execution_count": 315,
   "id": "26936b08",
   "metadata": {},
   "outputs": [
    {
     "name": "stderr",
     "output_type": "stream",
     "text": [
      "Permutation explainer: 2558it [01:04, 32.78it/s]                                                                       \n"
     ]
    }
   ],
   "source": [
    "explainer_2 = shap.Explainer(decision_tree_reg.predict, x_train_df)\n",
    "shap_values_2 = explainer_2(x_test_df)"
   ]
  },
  {
   "cell_type": "code",
   "execution_count": 316,
   "id": "1e31e037",
   "metadata": {},
   "outputs": [
    {
     "data": {
      "image/png": "[encoded data removed]",
      "text/plain": [
       "<Figure size 800x650 with 1 Axes>"
      ]
     },
     "metadata": {},
     "output_type": "display_data"
    }
   ],
   "source": [
    "shap.plots.bar(shap_values_2)"
   ]
  },
  {
   "cell_type": "code",
   "execution_count": 318,
   "id": "a10a8f5a",
   "metadata": {},
   "outputs": [
    {
     "data": {
      "image/png": "[encoded data removed]",
      "text/plain": [
       "<Figure size 800x650 with 3 Axes>"
      ]
     },
     "metadata": {},
     "output_type": "display_data"
    }
   ],
   "source": [
    "shap.plots.waterfall(shap_values_2[1])"
   ]
  },
  {
   "cell_type": "markdown",
   "id": "3c886fd9",
   "metadata": {},
   "source": [
    "### Result\n",
    "- Feature importance seems more accurate"
   ]
  },
  {
   "cell_type": "markdown",
   "id": "de861029",
   "metadata": {},
   "source": [
    "## 2. Random Forest "
   ]
  },
  {
   "cell_type": "code",
   "execution_count": 161,
   "id": "dd608e52",
   "metadata": {},
   "outputs": [],
   "source": [
    "from sklearn.ensemble import RandomForestRegressor"
   ]
  },
  {
   "cell_type": "code",
   "execution_count": 323,
   "id": "6124e1d5",
   "metadata": {},
   "outputs": [
    {
     "data": {
      "text/html": [
       "<style>#sk-container-id-26 {color: black;background-color: white;}#sk-container-id-26 pre{padding: 0;}#sk-container-id-26 div.sk-toggleable {background-color: white;}#sk-container-id-26 label.sk-toggleable__label {cursor: pointer;display: block;width: 100%;margin-bottom: 0;padding: 0.3em;box-sizing: border-box;text-align: center;}#sk-container-id-26 label.sk-toggleable__label-arrow:before {content: \"▸\";float: left;margin-right: 0.25em;color: #696969;}#sk-container-id-26 label.sk-toggleable__label-arrow:hover:before {color: black;}#sk-container-id-26 div.sk-estimator:hover label.sk-toggleable__label-arrow:before {color: black;}#sk-container-id-26 div.sk-toggleable__content {max-height: 0;max-width: 0;overflow: hidden;text-align: left;background-color: #f0f8ff;}#sk-container-id-26 div.sk-toggleable__content pre {margin: 0.2em;color: black;border-radius: 0.25em;background-color: #f0f8ff;}#sk-container-id-26 input.sk-toggleable__control:checked~div.sk-toggleable__content {max-height: 200px;max-width: 100%;overflow: auto;}#sk-container-id-26 input.sk-toggleable__control:checked~label.sk-toggleable__label-arrow:before {content: \"▾\";}#sk-container-id-26 div.sk-estimator input.sk-toggleable__control:checked~label.sk-toggleable__label {background-color: #d4ebff;}#sk-container-id-26 div.sk-label input.sk-toggleable__control:checked~label.sk-toggleable__label {background-color: #d4ebff;}#sk-container-id-26 input.sk-hidden--visually {border: 0;clip: rect(1px 1px 1px 1px);clip: rect(1px, 1px, 1px, 1px);height: 1px;margin: -1px;overflow: hidden;padding: 0;position: absolute;width: 1px;}#sk-container-id-26 div.sk-estimator {font-family: monospace;background-color: #f0f8ff;border: 1px dotted black;border-radius: 0.25em;box-sizing: border-box;margin-bottom: 0.5em;}#sk-container-id-26 div.sk-estimator:hover {background-color: #d4ebff;}#sk-container-id-26 div.sk-parallel-item::after {content: \"\";width: 100%;border-bottom: 1px solid gray;flex-grow: 1;}#sk-container-id-26 div.sk-label:hover label.sk-toggleable__label {background-color: #d4ebff;}#sk-container-id-26 div.sk-serial::before {content: \"\";position: absolute;border-left: 1px solid gray;box-sizing: border-box;top: 0;bottom: 0;left: 50%;z-index: 0;}#sk-container-id-26 div.sk-serial {display: flex;flex-direction: column;align-items: center;background-color: white;padding-right: 0.2em;padding-left: 0.2em;position: relative;}#sk-container-id-26 div.sk-item {position: relative;z-index: 1;}#sk-container-id-26 div.sk-parallel {display: flex;align-items: stretch;justify-content: center;background-color: white;position: relative;}#sk-container-id-26 div.sk-item::before, #sk-container-id-26 div.sk-parallel-item::before {content: \"\";position: absolute;border-left: 1px solid gray;box-sizing: border-box;top: 0;bottom: 0;left: 50%;z-index: -1;}#sk-container-id-26 div.sk-parallel-item {display: flex;flex-direction: column;z-index: 1;position: relative;background-color: white;}#sk-container-id-26 div.sk-parallel-item:first-child::after {align-self: flex-end;width: 50%;}#sk-container-id-26 div.sk-parallel-item:last-child::after {align-self: flex-start;width: 50%;}#sk-container-id-26 div.sk-parallel-item:only-child::after {width: 0;}#sk-container-id-26 div.sk-dashed-wrapped {border: 1px dashed gray;margin: 0 0.4em 0.5em 0.4em;box-sizing: border-box;padding-bottom: 0.4em;background-color: white;}#sk-container-id-26 div.sk-label label {font-family: monospace;font-weight: bold;display: inline-block;line-height: 1.2em;}#sk-container-id-26 div.sk-label-container {text-align: center;}#sk-container-id-26 div.sk-container {/* jupyter's `normalize.less` sets `[hidden] { display: none; }` but bootstrap.min.css set `[hidden] { display: none !important; }` so we also need the `!important` here to be able to override the default hidden behavior on the sphinx rendered scikit-learn.org. See: https://github.com/scikit-learn/scikit-learn/issues/21755 */display: inline-block !important;position: relative;}#sk-container-id-26 div.sk-text-repr-fallback {display: none;}</style><div id=\"sk-container-id-26\" class=\"sk-top-container\"><div class=\"sk-text-repr-fallback\"><pre>RandomForestRegressor(max_depth=5, min_samples_leaf=20, min_samples_split=105,\n",
       "                      n_estimators=35)</pre><b>In a Jupyter environment, please rerun this cell to show the HTML representation or trust the notebook. <br />On GitHub, the HTML representation is unable to render, please try loading this page with nbviewer.org.</b></div><div class=\"sk-container\" hidden><div class=\"sk-item\"><div class=\"sk-estimator sk-toggleable\"><input class=\"sk-toggleable__control sk-hidden--visually\" id=\"sk-estimator-id-36\" type=\"checkbox\" checked><label for=\"sk-estimator-id-36\" class=\"sk-toggleable__label sk-toggleable__label-arrow\">RandomForestRegressor</label><div class=\"sk-toggleable__content\"><pre>RandomForestRegressor(max_depth=5, min_samples_leaf=20, min_samples_split=105,\n",
       "                      n_estimators=35)</pre></div></div></div></div></div>"
      ],
      "text/plain": [
       "RandomForestRegressor(max_depth=5, min_samples_leaf=20, min_samples_split=105,\n",
       "                      n_estimators=35)"
      ]
     },
     "execution_count": 323,
     "metadata": {},
     "output_type": "execute_result"
    }
   ],
   "source": [
    "random_forest_reg = RandomForestRegressor(n_estimators=35, max_depth=5,min_samples_split=105,min_samples_leaf=20 )\n",
    "random_forest_reg.fit(x_train_df, y_train_df)"
   ]
  },
  {
   "cell_type": "markdown",
   "id": "a173aeff",
   "metadata": {},
   "source": [
    "#### HyperParameter Tuning"
   ]
  },
  {
   "cell_type": "code",
   "execution_count": 322,
   "id": "8e541e49",
   "metadata": {},
   "outputs": [
    {
     "name": "stdout",
     "output_type": "stream",
     "text": [
      "Fitting 3 folds for each of 12 candidates, totalling 36 fits\n",
      "{'max_depth': 5, 'min_samples_leaf': 20, 'min_samples_split': 105, 'n_estimators': 35}\n",
      "0.5964927754022112\n"
     ]
    }
   ],
   "source": [
    "# Manual\n",
    "parameters={\n",
    "            'n_estimators': [33,35,37,39],\n",
    "            \"max_depth\": [5],\n",
    "            \"min_samples_split\": [100,105,107],\n",
    "            \"min_samples_leaf\": [x for x in [20]]\n",
    "           }\n",
    "random_forest_cv =GridSearchCV(random_forest_reg, parameters, scoring=\"r2\", cv=3, n_jobs=-1, verbose=2)\n",
    "random_forest_cv.fit(x_train,y_train)\n",
    "print(random_forest_cv.best_params_)\n",
    "print(random_forest_cv.best_score_)"
   ]
  },
  {
   "cell_type": "markdown",
   "id": "b84e423a",
   "metadata": {},
   "source": [
    "After Hyperparameter tuning => 0.60\n",
    "\n",
    "After more preprocessing => 0.59\n",
    "\n",
    "Before => 0.54"
   ]
  },
  {
   "cell_type": "code",
   "execution_count": 324,
   "id": "c624c553",
   "metadata": {},
   "outputs": [
    {
     "data": {
      "text/plain": [
       "0.594262205666109"
      ]
     },
     "execution_count": 324,
     "metadata": {},
     "output_type": "execute_result"
    }
   ],
   "source": [
    "random_forest_reg.score(x_test_df, y_test_df)"
   ]
  },
  {
   "cell_type": "markdown",
   "id": "57a5e5d2",
   "metadata": {},
   "source": [
    "## 3. XGBoost"
   ]
  },
  {
   "cell_type": "code",
   "execution_count": null,
   "id": "b07df6a3",
   "metadata": {},
   "outputs": [],
   "source": []
  },
  {
   "cell_type": "markdown",
   "id": "9f58be75",
   "metadata": {},
   "source": [
    "***\n",
    "#### Linear Model \n",
    "\n",
    "~0.55 for all, bad performance\n",
    "- Linear Regression (deg=1)\n",
    "- Polynomial Regression (deg=2)\n",
    "- Ridge Regression (alpha=37)\n",
    "- Lasso Regression (alpha=12)\n",
    "\n",
    "#### Tree Model\n",
    "\n",
    "- Decision Tree (0.58)\n",
    "- Random Forest (0.60)\n",
    "- XGBoost\n",
    "\n",
    "***"
   ]
  },
  {
   "cell_type": "markdown",
   "id": "6e222b6e",
   "metadata": {},
   "source": [
    "#### ~Not working"
   ]
  },
  {
   "cell_type": "code",
   "execution_count": 17,
   "id": "1abb2eec",
   "metadata": {},
   "outputs": [],
   "source": [
    "from sklearn.linear_model import LinearRegression  # Import LinearRegression class for linear regression\n",
    "from sklearn.tree import DecisionTreeRegressor  # Import DecisionTreeRegressor class for decision tree regression\n",
    "from sklearn.ensemble import RandomForestRegressor  # Import RandomForestRegressor class for random forest regression\n",
    "from sklearn.metrics import mean_squared_log_error, make_scorer  # Import functions for evaluation metrics\n",
    "from sklearn.ensemble import GradientBoostingRegressor\n",
    "from sklearn.ensemble import AdaBoostRegressor\n",
    "from sklearn.metrics import make_scorer\n",
    "from sklearn.model_selection import cross_val_score"
   ]
  },
  {
   "cell_type": "code",
   "execution_count": null,
   "id": "8f31faf0",
   "metadata": {},
   "outputs": [],
   "source": [
    "# Define SMAPE\n",
    "def smape(y_true, y_pred):\n",
    "    denominator = (np.abs(y_true) + np.abs(y_pred)) / 200.0\n",
    "    diff = np.abs(y_true - y_pred) / denominator\n",
    "    diff[denominator == 0] = 0.0\n",
    "    return np.nanmean(diff)\n",
    "\n",
    "# Make the RMSLE scorer\n",
    "rmsle_scorer = make_scorer(smape)\n",
    "\n",
    "# Initialize and evaluate different regression models using cross-validation\n",
    "models = {\n",
    "    'Linear Regression': LinearRegression(),\n",
    "    'Decision Tree': DecisionTreeRegressor(),\n",
    "    'Random Forest': RandomForestRegressor(),\n",
    "    'GradientBoosting Regressor':GradientBoostingRegressor(),\n",
    "    'AdaBoost Regressor':AdaBoostRegressor()\n",
    "}\n",
    "\n",
    "for model_name, model in models.items():\n",
    "    # Perform cross-validation with RMSLE scorer\n",
    "    cv_scores = cross_val_score(model, x_train, y_train, scoring=rmsle_scorer, cv=5)\n",
    "    \n",
    "    print(f\"Model: {model_name}\")\n",
    "    print(f\"Cross-Validation SMAPE: {cv_scores}\")\n",
    "    print(f\"Average SMAPE: {np.mean(cv_scores)}\\n\")"
   ]
  }
 ],
 "metadata": {
  "kernelspec": {
   "display_name": "Python 3 (ipykernel)",
   "language": "python",
   "name": "python3"
  },
  "language_info": {
   "codemirror_mode": {
    "name": "ipython",
    "version": 3
   },
   "file_extension": ".py",
   "mimetype": "text/x-python",
   "name": "python",
   "nbconvert_exporter": "python",
   "pygments_lexer": "ipython3",
   "version": "3.11.3"
  }
 },
 "nbformat": 4,
 "nbformat_minor": 5
}
