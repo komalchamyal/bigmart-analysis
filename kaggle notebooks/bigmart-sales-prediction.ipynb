{
 "cells": [
  {
   "cell_type": "markdown",
   "id": "e398c789",
   "metadata": {
    "papermill": {
     "duration": 0.012667,
     "end_time": "2023-07-03T13:15:49.094403",
     "exception": false,
     "start_time": "2023-07-03T13:15:49.081736",
     "status": "completed"
    },
    "tags": []
   },
   "source": [
    "## About this task\n"
   ]
  },
  {
   "cell_type": "markdown",
   "id": "3cdfbbc3",
   "metadata": {
    "papermill": {
     "duration": 0.011584,
     "end_time": "2023-07-03T13:15:49.117997",
     "exception": false,
     "start_time": "2023-07-03T13:15:49.106413",
     "status": "completed"
    },
    "tags": []
   },
   "source": [
    "####  The data scientists at BigMart have collected sales data for 1559 products across 10 stores in different cities for the year 2013. Now each product has certain attributes that sets it apart from other products. Same is the case with each store.\n",
    "#### The aim is to build a predictive model to find out the sales of each product at a particular store so that it would help the decision makers at BigMart to find out the properties of any product or store, which play a key role in increasing the overall sales.\n"
   ]
  },
  {
   "cell_type": "markdown",
   "id": "099761cf",
   "metadata": {
    "papermill": {
     "duration": 0.011098,
     "end_time": "2023-07-03T13:15:49.140622",
     "exception": false,
     "start_time": "2023-07-03T13:15:49.129524",
     "status": "completed"
    },
    "tags": []
   },
   "source": [
    "### BigMart Sales Prediction practice problem\n",
    "\n",
    "- We have train (8523) and test (5681) data set, train data set has both input and output variable(s). We need to predict the sales for test data set.\n",
    "\n",
    "- Item_Identifier: Unique product ID\n",
    "\n",
    "- Item_Weight: Weight of product\n",
    "\n",
    "- Item_Fat_Content: Whether the product is low fat or not\n",
    "\n",
    "- Item_Visibility: The % of total display area of all products in a store allocated to the particular product\n",
    "\n",
    "- Item_Type: The category to which the product belongs\n",
    "\n",
    "- Item_MRP: Maximum Retail Price (list price) of the product\n",
    "\n",
    "- Outlet_Identifier: Unique store ID\n",
    "\n",
    "- Outlet_Establishment_Year: The year in which store was established\n",
    "\n",
    "- Outlet_Size: The size of the store in terms of ground area covered\n",
    "\n",
    "- Outlet_Location_Type: The type of city in which the store is located\n",
    "\n",
    "- Outlet_Type: Whether the outlet is just a grocery store or some sort of supermarket\n",
    "\n",
    "- Item_Outlet_Sales: Sales of the product in the particulat store. This is the outcome variable to be predicted"
   ]
  },
  {
   "cell_type": "markdown",
   "id": "64d65ada",
   "metadata": {
    "papermill": {
     "duration": 0.01169,
     "end_time": "2023-07-03T13:15:49.165102",
     "exception": false,
     "start_time": "2023-07-03T13:15:49.153412",
     "status": "completed"
    },
    "tags": []
   },
   "source": [
    "\n"
   ]
  },
  {
   "cell_type": "markdown",
   "id": "e15b61ae",
   "metadata": {
    "papermill": {
     "duration": 0.011134,
     "end_time": "2023-07-03T13:15:49.187722",
     "exception": false,
     "start_time": "2023-07-03T13:15:49.176588",
     "status": "completed"
    },
    "tags": []
   },
   "source": [
    "# Loading structure"
   ]
  },
  {
   "cell_type": "code",
   "execution_count": 1,
   "id": "4103a79e",
   "metadata": {
    "execution": {
     "iopub.execute_input": "2023-07-03T13:15:49.212717Z",
     "iopub.status.busy": "2023-07-03T13:15:49.212274Z",
     "iopub.status.idle": "2023-07-03T13:15:50.400725Z",
     "shell.execute_reply": "2023-07-03T13:15:50.399448Z"
    },
    "papermill": {
     "duration": 1.204649,
     "end_time": "2023-07-03T13:15:50.403799",
     "exception": false,
     "start_time": "2023-07-03T13:15:49.199150",
     "status": "completed"
    },
    "tags": []
   },
   "outputs": [],
   "source": [
    "import pandas as pd\n",
    "import numpy as np\n",
    "import seaborn as sns\n",
    "import matplotlib.pyplot as plt \n",
    "%matplotlib inline"
   ]
  },
  {
   "cell_type": "markdown",
   "id": "c38fdf5c",
   "metadata": {
    "papermill": {
     "duration": 0.011139,
     "end_time": "2023-07-03T13:15:50.426518",
     "exception": false,
     "start_time": "2023-07-03T13:15:50.415379",
     "status": "completed"
    },
    "tags": []
   },
   "source": [
    "# Reading training data"
   ]
  },
  {
   "cell_type": "code",
   "execution_count": 2,
   "id": "1bd72ad2",
   "metadata": {
    "execution": {
     "iopub.execute_input": "2023-07-03T13:15:50.451124Z",
     "iopub.status.busy": "2023-07-03T13:15:50.450697Z",
     "iopub.status.idle": "2023-07-03T13:15:50.533841Z",
     "shell.execute_reply": "2023-07-03T13:15:50.532839Z"
    },
    "papermill": {
     "duration": 0.098659,
     "end_time": "2023-07-03T13:15:50.536610",
     "exception": false,
     "start_time": "2023-07-03T13:15:50.437951",
     "status": "completed"
    },
    "tags": []
   },
   "outputs": [],
   "source": [
    "df1 = pd.read_csv(\"/kaggle/input/bigmart-sales-data/Train.csv\")\n",
    "df2=pd.read_csv(\"/kaggle/input/bigmart-sales-data/Test.csv\")"
   ]
  },
  {
   "cell_type": "markdown",
   "id": "17f61c97",
   "metadata": {
    "papermill": {
     "duration": 0.011345,
     "end_time": "2023-07-03T13:15:50.559939",
     "exception": false,
     "start_time": "2023-07-03T13:15:50.548594",
     "status": "completed"
    },
    "tags": []
   },
   "source": [
    "## Data structure and content"
   ]
  },
  {
   "cell_type": "code",
   "execution_count": 3,
   "id": "46c8b634",
   "metadata": {
    "execution": {
     "iopub.execute_input": "2023-07-03T13:15:50.585245Z",
     "iopub.status.busy": "2023-07-03T13:15:50.584800Z",
     "iopub.status.idle": "2023-07-03T13:15:50.618248Z",
     "shell.execute_reply": "2023-07-03T13:15:50.616915Z"
    },
    "papermill": {
     "duration": 0.050181,
     "end_time": "2023-07-03T13:15:50.621726",
     "exception": false,
     "start_time": "2023-07-03T13:15:50.571545",
     "status": "completed"
    },
    "tags": []
   },
   "outputs": [
    {
     "data": {
      "text/html": [
       "<div>\n",
       "<style scoped>\n",
       "    .dataframe tbody tr th:only-of-type {\n",
       "        vertical-align: middle;\n",
       "    }\n",
       "\n",
       "    .dataframe tbody tr th {\n",
       "        vertical-align: top;\n",
       "    }\n",
       "\n",
       "    .dataframe thead th {\n",
       "        text-align: right;\n",
       "    }\n",
       "</style>\n",
       "<table border=\"1\" class=\"dataframe\">\n",
       "  <thead>\n",
       "    <tr style=\"text-align: right;\">\n",
       "      <th></th>\n",
       "      <th>Item_Identifier</th>\n",
       "      <th>Item_Weight</th>\n",
       "      <th>Item_Fat_Content</th>\n",
       "      <th>Item_Visibility</th>\n",
       "      <th>Item_Type</th>\n",
       "      <th>Item_MRP</th>\n",
       "      <th>Outlet_Identifier</th>\n",
       "      <th>Outlet_Establishment_Year</th>\n",
       "      <th>Outlet_Size</th>\n",
       "      <th>Outlet_Location_Type</th>\n",
       "      <th>Outlet_Type</th>\n",
       "      <th>Item_Outlet_Sales</th>\n",
       "    </tr>\n",
       "  </thead>\n",
       "  <tbody>\n",
       "    <tr>\n",
       "      <th>0</th>\n",
       "      <td>FDA15</td>\n",
       "      <td>9.30</td>\n",
       "      <td>Low Fat</td>\n",
       "      <td>0.016047</td>\n",
       "      <td>Dairy</td>\n",
       "      <td>249.8092</td>\n",
       "      <td>OUT049</td>\n",
       "      <td>1999</td>\n",
       "      <td>Medium</td>\n",
       "      <td>Tier 1</td>\n",
       "      <td>Supermarket Type1</td>\n",
       "      <td>3735.1380</td>\n",
       "    </tr>\n",
       "    <tr>\n",
       "      <th>1</th>\n",
       "      <td>DRC01</td>\n",
       "      <td>5.92</td>\n",
       "      <td>Regular</td>\n",
       "      <td>0.019278</td>\n",
       "      <td>Soft Drinks</td>\n",
       "      <td>48.2692</td>\n",
       "      <td>OUT018</td>\n",
       "      <td>2009</td>\n",
       "      <td>Medium</td>\n",
       "      <td>Tier 3</td>\n",
       "      <td>Supermarket Type2</td>\n",
       "      <td>443.4228</td>\n",
       "    </tr>\n",
       "  </tbody>\n",
       "</table>\n",
       "</div>"
      ],
      "text/plain": [
       "  Item_Identifier  Item_Weight Item_Fat_Content  Item_Visibility    Item_Type  \\\n",
       "0           FDA15         9.30          Low Fat         0.016047        Dairy   \n",
       "1           DRC01         5.92          Regular         0.019278  Soft Drinks   \n",
       "\n",
       "   Item_MRP Outlet_Identifier  Outlet_Establishment_Year Outlet_Size  \\\n",
       "0  249.8092            OUT049                       1999      Medium   \n",
       "1   48.2692            OUT018                       2009      Medium   \n",
       "\n",
       "  Outlet_Location_Type        Outlet_Type  Item_Outlet_Sales  \n",
       "0               Tier 1  Supermarket Type1          3735.1380  \n",
       "1               Tier 3  Supermarket Type2           443.4228  "
      ]
     },
     "execution_count": 3,
     "metadata": {},
     "output_type": "execute_result"
    }
   ],
   "source": [
    "df1.head(2)"
   ]
  },
  {
   "cell_type": "code",
   "execution_count": 4,
   "id": "4ea3a27d",
   "metadata": {
    "execution": {
     "iopub.execute_input": "2023-07-03T13:15:50.647901Z",
     "iopub.status.busy": "2023-07-03T13:15:50.647199Z",
     "iopub.status.idle": "2023-07-03T13:15:50.654707Z",
     "shell.execute_reply": "2023-07-03T13:15:50.653507Z"
    },
    "papermill": {
     "duration": 0.023353,
     "end_time": "2023-07-03T13:15:50.657050",
     "exception": false,
     "start_time": "2023-07-03T13:15:50.633697",
     "status": "completed"
    },
    "tags": []
   },
   "outputs": [
    {
     "data": {
      "text/plain": [
       "(8523, 12)"
      ]
     },
     "execution_count": 4,
     "metadata": {},
     "output_type": "execute_result"
    }
   ],
   "source": [
    "df1.shape"
   ]
  },
  {
   "cell_type": "code",
   "execution_count": 5,
   "id": "417e1cf4",
   "metadata": {
    "execution": {
     "iopub.execute_input": "2023-07-03T13:15:50.683108Z",
     "iopub.status.busy": "2023-07-03T13:15:50.682379Z",
     "iopub.status.idle": "2023-07-03T13:15:50.713677Z",
     "shell.execute_reply": "2023-07-03T13:15:50.711876Z"
    },
    "papermill": {
     "duration": 0.047298,
     "end_time": "2023-07-03T13:15:50.716099",
     "exception": false,
     "start_time": "2023-07-03T13:15:50.668801",
     "status": "completed"
    },
    "tags": []
   },
   "outputs": [
    {
     "name": "stdout",
     "output_type": "stream",
     "text": [
      "<class 'pandas.core.frame.DataFrame'>\n",
      "RangeIndex: 8523 entries, 0 to 8522\n",
      "Data columns (total 12 columns):\n",
      " #   Column                     Non-Null Count  Dtype  \n",
      "---  ------                     --------------  -----  \n",
      " 0   Item_Identifier            8523 non-null   object \n",
      " 1   Item_Weight                7060 non-null   float64\n",
      " 2   Item_Fat_Content           8523 non-null   object \n",
      " 3   Item_Visibility            8523 non-null   float64\n",
      " 4   Item_Type                  8523 non-null   object \n",
      " 5   Item_MRP                   8523 non-null   float64\n",
      " 6   Outlet_Identifier          8523 non-null   object \n",
      " 7   Outlet_Establishment_Year  8523 non-null   int64  \n",
      " 8   Outlet_Size                6113 non-null   object \n",
      " 9   Outlet_Location_Type       8523 non-null   object \n",
      " 10  Outlet_Type                8523 non-null   object \n",
      " 11  Item_Outlet_Sales          8523 non-null   float64\n",
      "dtypes: float64(4), int64(1), object(7)\n",
      "memory usage: 799.2+ KB\n"
     ]
    }
   ],
   "source": [
    "df1.info()"
   ]
  },
  {
   "cell_type": "code",
   "execution_count": 6,
   "id": "e8dbebbf",
   "metadata": {
    "execution": {
     "iopub.execute_input": "2023-07-03T13:15:50.743871Z",
     "iopub.status.busy": "2023-07-03T13:15:50.742666Z",
     "iopub.status.idle": "2023-07-03T13:15:50.774951Z",
     "shell.execute_reply": "2023-07-03T13:15:50.774000Z"
    },
    "papermill": {
     "duration": 0.049055,
     "end_time": "2023-07-03T13:15:50.777258",
     "exception": false,
     "start_time": "2023-07-03T13:15:50.728203",
     "status": "completed"
    },
    "tags": []
   },
   "outputs": [
    {
     "data": {
      "text/html": [
       "<div>\n",
       "<style scoped>\n",
       "    .dataframe tbody tr th:only-of-type {\n",
       "        vertical-align: middle;\n",
       "    }\n",
       "\n",
       "    .dataframe tbody tr th {\n",
       "        vertical-align: top;\n",
       "    }\n",
       "\n",
       "    .dataframe thead th {\n",
       "        text-align: right;\n",
       "    }\n",
       "</style>\n",
       "<table border=\"1\" class=\"dataframe\">\n",
       "  <thead>\n",
       "    <tr style=\"text-align: right;\">\n",
       "      <th></th>\n",
       "      <th>Item_Weight</th>\n",
       "      <th>Item_Visibility</th>\n",
       "      <th>Item_MRP</th>\n",
       "      <th>Outlet_Establishment_Year</th>\n",
       "      <th>Item_Outlet_Sales</th>\n",
       "    </tr>\n",
       "  </thead>\n",
       "  <tbody>\n",
       "    <tr>\n",
       "      <th>count</th>\n",
       "      <td>7060.000000</td>\n",
       "      <td>8523.000000</td>\n",
       "      <td>8523.000000</td>\n",
       "      <td>8523.000000</td>\n",
       "      <td>8523.000000</td>\n",
       "    </tr>\n",
       "    <tr>\n",
       "      <th>mean</th>\n",
       "      <td>12.857645</td>\n",
       "      <td>0.066132</td>\n",
       "      <td>140.992782</td>\n",
       "      <td>1997.831867</td>\n",
       "      <td>2181.288914</td>\n",
       "    </tr>\n",
       "    <tr>\n",
       "      <th>std</th>\n",
       "      <td>4.643456</td>\n",
       "      <td>0.051598</td>\n",
       "      <td>62.275067</td>\n",
       "      <td>8.371760</td>\n",
       "      <td>1706.499616</td>\n",
       "    </tr>\n",
       "    <tr>\n",
       "      <th>min</th>\n",
       "      <td>4.555000</td>\n",
       "      <td>0.000000</td>\n",
       "      <td>31.290000</td>\n",
       "      <td>1985.000000</td>\n",
       "      <td>33.290000</td>\n",
       "    </tr>\n",
       "    <tr>\n",
       "      <th>25%</th>\n",
       "      <td>8.773750</td>\n",
       "      <td>0.026989</td>\n",
       "      <td>93.826500</td>\n",
       "      <td>1987.000000</td>\n",
       "      <td>834.247400</td>\n",
       "    </tr>\n",
       "    <tr>\n",
       "      <th>50%</th>\n",
       "      <td>12.600000</td>\n",
       "      <td>0.053931</td>\n",
       "      <td>143.012800</td>\n",
       "      <td>1999.000000</td>\n",
       "      <td>1794.331000</td>\n",
       "    </tr>\n",
       "    <tr>\n",
       "      <th>75%</th>\n",
       "      <td>16.850000</td>\n",
       "      <td>0.094585</td>\n",
       "      <td>185.643700</td>\n",
       "      <td>2004.000000</td>\n",
       "      <td>3101.296400</td>\n",
       "    </tr>\n",
       "    <tr>\n",
       "      <th>max</th>\n",
       "      <td>21.350000</td>\n",
       "      <td>0.328391</td>\n",
       "      <td>266.888400</td>\n",
       "      <td>2009.000000</td>\n",
       "      <td>13086.964800</td>\n",
       "    </tr>\n",
       "  </tbody>\n",
       "</table>\n",
       "</div>"
      ],
      "text/plain": [
       "       Item_Weight  Item_Visibility     Item_MRP  Outlet_Establishment_Year  \\\n",
       "count  7060.000000      8523.000000  8523.000000                8523.000000   \n",
       "mean     12.857645         0.066132   140.992782                1997.831867   \n",
       "std       4.643456         0.051598    62.275067                   8.371760   \n",
       "min       4.555000         0.000000    31.290000                1985.000000   \n",
       "25%       8.773750         0.026989    93.826500                1987.000000   \n",
       "50%      12.600000         0.053931   143.012800                1999.000000   \n",
       "75%      16.850000         0.094585   185.643700                2004.000000   \n",
       "max      21.350000         0.328391   266.888400                2009.000000   \n",
       "\n",
       "       Item_Outlet_Sales  \n",
       "count        8523.000000  \n",
       "mean         2181.288914  \n",
       "std          1706.499616  \n",
       "min            33.290000  \n",
       "25%           834.247400  \n",
       "50%          1794.331000  \n",
       "75%          3101.296400  \n",
       "max         13086.964800  "
      ]
     },
     "execution_count": 6,
     "metadata": {},
     "output_type": "execute_result"
    }
   ],
   "source": [
    "df1.describe()"
   ]
  },
  {
   "cell_type": "code",
   "execution_count": 7,
   "id": "976816fc",
   "metadata": {
    "execution": {
     "iopub.execute_input": "2023-07-03T13:15:50.804620Z",
     "iopub.status.busy": "2023-07-03T13:15:50.803597Z",
     "iopub.status.idle": "2023-07-03T13:15:50.818716Z",
     "shell.execute_reply": "2023-07-03T13:15:50.817505Z"
    },
    "papermill": {
     "duration": 0.031161,
     "end_time": "2023-07-03T13:15:50.821076",
     "exception": false,
     "start_time": "2023-07-03T13:15:50.789915",
     "status": "completed"
    },
    "tags": []
   },
   "outputs": [
    {
     "data": {
      "text/plain": [
       "Item_Identifier               0.000000\n",
       "Item_Weight                  17.165317\n",
       "Item_Fat_Content              0.000000\n",
       "Item_Visibility               0.000000\n",
       "Item_Type                     0.000000\n",
       "Item_MRP                      0.000000\n",
       "Outlet_Identifier             0.000000\n",
       "Outlet_Establishment_Year     0.000000\n",
       "Outlet_Size                  28.276428\n",
       "Outlet_Location_Type          0.000000\n",
       "Outlet_Type                   0.000000\n",
       "Item_Outlet_Sales             0.000000\n",
       "dtype: float64"
      ]
     },
     "execution_count": 7,
     "metadata": {},
     "output_type": "execute_result"
    }
   ],
   "source": [
    "(df1.isnull().sum() / len(df1)) * 100\n"
   ]
  },
  {
   "cell_type": "code",
   "execution_count": 8,
   "id": "df9d4baf",
   "metadata": {
    "execution": {
     "iopub.execute_input": "2023-07-03T13:15:50.847771Z",
     "iopub.status.busy": "2023-07-03T13:15:50.847353Z",
     "iopub.status.idle": "2023-07-03T13:15:50.868085Z",
     "shell.execute_reply": "2023-07-03T13:15:50.866969Z"
    },
    "papermill": {
     "duration": 0.037348,
     "end_time": "2023-07-03T13:15:50.870678",
     "exception": false,
     "start_time": "2023-07-03T13:15:50.833330",
     "status": "completed"
    },
    "tags": []
   },
   "outputs": [
    {
     "data": {
      "text/plain": [
       "0"
      ]
     },
     "execution_count": 8,
     "metadata": {},
     "output_type": "execute_result"
    }
   ],
   "source": [
    "# check for duplicated values\n",
    "df1.duplicated().sum()"
   ]
  },
  {
   "cell_type": "code",
   "execution_count": 9,
   "id": "1c322ee1",
   "metadata": {
    "execution": {
     "iopub.execute_input": "2023-07-03T13:15:50.897389Z",
     "iopub.status.busy": "2023-07-03T13:15:50.896978Z",
     "iopub.status.idle": "2023-07-03T13:15:50.904047Z",
     "shell.execute_reply": "2023-07-03T13:15:50.902840Z"
    },
    "papermill": {
     "duration": 0.023403,
     "end_time": "2023-07-03T13:15:50.906567",
     "exception": false,
     "start_time": "2023-07-03T13:15:50.883164",
     "status": "completed"
    },
    "tags": []
   },
   "outputs": [],
   "source": [
    "df1.Item_Weight.fillna(df1.Item_Weight.mean(),inplace=True)"
   ]
  },
  {
   "cell_type": "code",
   "execution_count": null,
   "id": "b8ad7291",
   "metadata": {
    "papermill": {
     "duration": 0.012451,
     "end_time": "2023-07-03T13:15:50.931725",
     "exception": false,
     "start_time": "2023-07-03T13:15:50.919274",
     "status": "completed"
    },
    "tags": []
   },
   "outputs": [],
   "source": []
  },
  {
   "cell_type": "markdown",
   "id": "40426d6e",
   "metadata": {
    "papermill": {
     "duration": 0.012524,
     "end_time": "2023-07-03T13:15:50.956853",
     "exception": false,
     "start_time": "2023-07-03T13:15:50.944329",
     "status": "completed"
    },
    "tags": []
   },
   "source": [
    "## Treatment of missing values for Item_Weight & Outlet_Size \n",
    "- Categoral data can be filled with mode\n",
    "- Numerical data can be filled with mean"
   ]
  },
  {
   "cell_type": "code",
   "execution_count": 10,
   "id": "0eed8796",
   "metadata": {
    "execution": {
     "iopub.execute_input": "2023-07-03T13:15:50.983454Z",
     "iopub.status.busy": "2023-07-03T13:15:50.983025Z",
     "iopub.status.idle": "2023-07-03T13:15:50.993671Z",
     "shell.execute_reply": "2023-07-03T13:15:50.992693Z"
    },
    "papermill": {
     "duration": 0.027418,
     "end_time": "2023-07-03T13:15:50.996545",
     "exception": false,
     "start_time": "2023-07-03T13:15:50.969127",
     "status": "completed"
    },
    "tags": []
   },
   "outputs": [],
   "source": [
    "mode_of_outlet_size = df1.groupby('Outlet_Type')['Outlet_Size'].apply(lambda x: x.mode()[0])"
   ]
  },
  {
   "cell_type": "code",
   "execution_count": 11,
   "id": "1cc368a1",
   "metadata": {
    "execution": {
     "iopub.execute_input": "2023-07-03T13:15:51.023223Z",
     "iopub.status.busy": "2023-07-03T13:15:51.022769Z",
     "iopub.status.idle": "2023-07-03T13:15:51.030430Z",
     "shell.execute_reply": "2023-07-03T13:15:51.029495Z"
    },
    "papermill": {
     "duration": 0.023514,
     "end_time": "2023-07-03T13:15:51.032616",
     "exception": false,
     "start_time": "2023-07-03T13:15:51.009102",
     "status": "completed"
    },
    "tags": []
   },
   "outputs": [
    {
     "data": {
      "text/plain": [
       "Outlet_Type\n",
       "Grocery Store         Small\n",
       "Supermarket Type1     Small\n",
       "Supermarket Type2    Medium\n",
       "Supermarket Type3    Medium\n",
       "Name: Outlet_Size, dtype: object"
      ]
     },
     "execution_count": 11,
     "metadata": {},
     "output_type": "execute_result"
    }
   ],
   "source": [
    "mode_of_outlet_size"
   ]
  },
  {
   "cell_type": "code",
   "execution_count": 12,
   "id": "e29f465e",
   "metadata": {
    "execution": {
     "iopub.execute_input": "2023-07-03T13:15:51.060089Z",
     "iopub.status.busy": "2023-07-03T13:15:51.059564Z",
     "iopub.status.idle": "2023-07-03T13:15:51.075005Z",
     "shell.execute_reply": "2023-07-03T13:15:51.073993Z"
    },
    "papermill": {
     "duration": 0.032786,
     "end_time": "2023-07-03T13:15:51.077940",
     "exception": false,
     "start_time": "2023-07-03T13:15:51.045154",
     "status": "completed"
    },
    "tags": []
   },
   "outputs": [],
   "source": [
    "# Fill missing values in 'Outlet Size' using the mode of 'Outlet Type'\n",
    "df1['Outlet_Size'] = df1.groupby('Outlet_Type')['Outlet_Size'].apply(lambda x: x.fillna(x.mode()[0]))"
   ]
  },
  {
   "cell_type": "code",
   "execution_count": 13,
   "id": "ad877873",
   "metadata": {
    "execution": {
     "iopub.execute_input": "2023-07-03T13:15:51.104903Z",
     "iopub.status.busy": "2023-07-03T13:15:51.104474Z",
     "iopub.status.idle": "2023-07-03T13:15:51.119098Z",
     "shell.execute_reply": "2023-07-03T13:15:51.117858Z"
    },
    "papermill": {
     "duration": 0.030774,
     "end_time": "2023-07-03T13:15:51.121377",
     "exception": false,
     "start_time": "2023-07-03T13:15:51.090603",
     "status": "completed"
    },
    "tags": []
   },
   "outputs": [
    {
     "data": {
      "text/plain": [
       "Item_Identifier              0\n",
       "Item_Weight                  0\n",
       "Item_Fat_Content             0\n",
       "Item_Visibility              0\n",
       "Item_Type                    0\n",
       "Item_MRP                     0\n",
       "Outlet_Identifier            0\n",
       "Outlet_Establishment_Year    0\n",
       "Outlet_Size                  0\n",
       "Outlet_Location_Type         0\n",
       "Outlet_Type                  0\n",
       "Item_Outlet_Sales            0\n",
       "dtype: int64"
      ]
     },
     "execution_count": 13,
     "metadata": {},
     "output_type": "execute_result"
    }
   ],
   "source": [
    "df1.isnull().sum()"
   ]
  },
  {
   "cell_type": "markdown",
   "id": "c5d6151d",
   "metadata": {
    "papermill": {
     "duration": 0.012168,
     "end_time": "2023-07-03T13:15:51.146040",
     "exception": false,
     "start_time": "2023-07-03T13:15:51.133872",
     "status": "completed"
    },
    "tags": []
   },
   "source": [
    "## Data correction for Item_Fat_Content"
   ]
  },
  {
   "cell_type": "code",
   "execution_count": 14,
   "id": "b5ed8474",
   "metadata": {
    "execution": {
     "iopub.execute_input": "2023-07-03T13:15:51.173391Z",
     "iopub.status.busy": "2023-07-03T13:15:51.172262Z",
     "iopub.status.idle": "2023-07-03T13:15:51.189789Z",
     "shell.execute_reply": "2023-07-03T13:15:51.188466Z"
    },
    "papermill": {
     "duration": 0.033753,
     "end_time": "2023-07-03T13:15:51.192186",
     "exception": false,
     "start_time": "2023-07-03T13:15:51.158433",
     "status": "completed"
    },
    "tags": []
   },
   "outputs": [
    {
     "data": {
      "text/html": [
       "<div>\n",
       "<style scoped>\n",
       "    .dataframe tbody tr th:only-of-type {\n",
       "        vertical-align: middle;\n",
       "    }\n",
       "\n",
       "    .dataframe tbody tr th {\n",
       "        vertical-align: top;\n",
       "    }\n",
       "\n",
       "    .dataframe thead th {\n",
       "        text-align: right;\n",
       "    }\n",
       "</style>\n",
       "<table border=\"1\" class=\"dataframe\">\n",
       "  <thead>\n",
       "    <tr style=\"text-align: right;\">\n",
       "      <th></th>\n",
       "      <th>Item_Identifier</th>\n",
       "      <th>Item_Weight</th>\n",
       "      <th>Item_Fat_Content</th>\n",
       "      <th>Item_Visibility</th>\n",
       "      <th>Item_Type</th>\n",
       "      <th>Item_MRP</th>\n",
       "      <th>Outlet_Identifier</th>\n",
       "      <th>Outlet_Establishment_Year</th>\n",
       "      <th>Outlet_Size</th>\n",
       "      <th>Outlet_Location_Type</th>\n",
       "      <th>Outlet_Type</th>\n",
       "      <th>Item_Outlet_Sales</th>\n",
       "    </tr>\n",
       "  </thead>\n",
       "  <tbody>\n",
       "    <tr>\n",
       "      <th>0</th>\n",
       "      <td>FDA15</td>\n",
       "      <td>9.30</td>\n",
       "      <td>Low Fat</td>\n",
       "      <td>0.016047</td>\n",
       "      <td>Dairy</td>\n",
       "      <td>249.8092</td>\n",
       "      <td>OUT049</td>\n",
       "      <td>1999</td>\n",
       "      <td>Medium</td>\n",
       "      <td>Tier 1</td>\n",
       "      <td>Supermarket Type1</td>\n",
       "      <td>3735.1380</td>\n",
       "    </tr>\n",
       "    <tr>\n",
       "      <th>1</th>\n",
       "      <td>DRC01</td>\n",
       "      <td>5.92</td>\n",
       "      <td>Regular</td>\n",
       "      <td>0.019278</td>\n",
       "      <td>Soft Drinks</td>\n",
       "      <td>48.2692</td>\n",
       "      <td>OUT018</td>\n",
       "      <td>2009</td>\n",
       "      <td>Medium</td>\n",
       "      <td>Tier 3</td>\n",
       "      <td>Supermarket Type2</td>\n",
       "      <td>443.4228</td>\n",
       "    </tr>\n",
       "  </tbody>\n",
       "</table>\n",
       "</div>"
      ],
      "text/plain": [
       "  Item_Identifier  Item_Weight Item_Fat_Content  Item_Visibility    Item_Type  \\\n",
       "0           FDA15         9.30          Low Fat         0.016047        Dairy   \n",
       "1           DRC01         5.92          Regular         0.019278  Soft Drinks   \n",
       "\n",
       "   Item_MRP Outlet_Identifier  Outlet_Establishment_Year Outlet_Size  \\\n",
       "0  249.8092            OUT049                       1999      Medium   \n",
       "1   48.2692            OUT018                       2009      Medium   \n",
       "\n",
       "  Outlet_Location_Type        Outlet_Type  Item_Outlet_Sales  \n",
       "0               Tier 1  Supermarket Type1          3735.1380  \n",
       "1               Tier 3  Supermarket Type2           443.4228  "
      ]
     },
     "execution_count": 14,
     "metadata": {},
     "output_type": "execute_result"
    }
   ],
   "source": [
    "df1.head(2)"
   ]
  },
  {
   "cell_type": "code",
   "execution_count": 15,
   "id": "18f27c7a",
   "metadata": {
    "execution": {
     "iopub.execute_input": "2023-07-03T13:15:51.220026Z",
     "iopub.status.busy": "2023-07-03T13:15:51.218796Z",
     "iopub.status.idle": "2023-07-03T13:15:51.228932Z",
     "shell.execute_reply": "2023-07-03T13:15:51.227871Z"
    },
    "papermill": {
     "duration": 0.026327,
     "end_time": "2023-07-03T13:15:51.231162",
     "exception": false,
     "start_time": "2023-07-03T13:15:51.204835",
     "status": "completed"
    },
    "tags": []
   },
   "outputs": [
    {
     "data": {
      "text/plain": [
       "Low Fat    5089\n",
       "Regular    2889\n",
       "LF          316\n",
       "reg         117\n",
       "low fat     112\n",
       "Name: Item_Fat_Content, dtype: int64"
      ]
     },
     "execution_count": 15,
     "metadata": {},
     "output_type": "execute_result"
    }
   ],
   "source": [
    "df1.Item_Fat_Content.value_counts()"
   ]
  },
  {
   "cell_type": "code",
   "execution_count": 16,
   "id": "894d3b67",
   "metadata": {
    "execution": {
     "iopub.execute_input": "2023-07-03T13:15:51.258910Z",
     "iopub.status.busy": "2023-07-03T13:15:51.258453Z",
     "iopub.status.idle": "2023-07-03T13:15:51.266749Z",
     "shell.execute_reply": "2023-07-03T13:15:51.265867Z"
    },
    "papermill": {
     "duration": 0.024919,
     "end_time": "2023-07-03T13:15:51.268987",
     "exception": false,
     "start_time": "2023-07-03T13:15:51.244068",
     "status": "completed"
    },
    "tags": []
   },
   "outputs": [],
   "source": [
    "df1['Item_Fat_Content'] = df1['Item_Fat_Content'].replace({\"LF\": \"Low Fat\", \"reg\": \"Regular\", \"low fat\": \"Low Fat\"})"
   ]
  },
  {
   "cell_type": "markdown",
   "id": "0ee82ce5",
   "metadata": {
    "papermill": {
     "duration": 0.012466,
     "end_time": "2023-07-03T13:15:51.294234",
     "exception": false,
     "start_time": "2023-07-03T13:15:51.281768",
     "status": "completed"
    },
    "tags": []
   },
   "source": [
    "## EDA:\n",
    "- Univariate Exploration\n",
    "- Bivariate  Exploratioj"
   ]
  },
  {
   "cell_type": "markdown",
   "id": "544b9305",
   "metadata": {
    "papermill": {
     "duration": 0.012379,
     "end_time": "2023-07-03T13:15:51.319438",
     "exception": false,
     "start_time": "2023-07-03T13:15:51.307059",
     "status": "completed"
    },
    "tags": []
   },
   "source": [
    "## Univariate Exploration"
   ]
  },
  {
   "cell_type": "code",
   "execution_count": 17,
   "id": "20986057",
   "metadata": {
    "execution": {
     "iopub.execute_input": "2023-07-03T13:15:51.347454Z",
     "iopub.status.busy": "2023-07-03T13:15:51.346740Z",
     "iopub.status.idle": "2023-07-03T13:15:51.351650Z",
     "shell.execute_reply": "2023-07-03T13:15:51.350675Z"
    },
    "papermill": {
     "duration": 0.021837,
     "end_time": "2023-07-03T13:15:51.354104",
     "exception": false,
     "start_time": "2023-07-03T13:15:51.332267",
     "status": "completed"
    },
    "tags": []
   },
   "outputs": [],
   "source": [
    "# Distribution of Item Weight"
   ]
  },
  {
   "cell_type": "code",
   "execution_count": 18,
   "id": "dd5dddf3",
   "metadata": {
    "execution": {
     "iopub.execute_input": "2023-07-03T13:15:51.382459Z",
     "iopub.status.busy": "2023-07-03T13:15:51.382036Z",
     "iopub.status.idle": "2023-07-03T13:15:51.745587Z",
     "shell.execute_reply": "2023-07-03T13:15:51.744398Z"
    },
    "papermill": {
     "duration": 0.380941,
     "end_time": "2023-07-03T13:15:51.748247",
     "exception": false,
     "start_time": "2023-07-03T13:15:51.367306",
     "status": "completed"
    },
    "tags": []
   },
   "outputs": [
    {
     "data": {
      "image/png": "[encoded data removed]",
      "text/plain": [
       "<Figure size 800x800 with 1 Axes>"
      ]
     },
     "metadata": {},
     "output_type": "display_data"
    }
   ],
   "source": [
    "plt.figure(figsize=(8,8))\n",
    "plt.title(\"Item Weight Distribution\")\n",
    "sns.histplot(data=df1, x='Item_Weight', kde=True, color = 'purple')\n",
    "plt.show()"
   ]
  },
  {
   "cell_type": "code",
   "execution_count": 19,
   "id": "e91a11bc",
   "metadata": {
    "execution": {
     "iopub.execute_input": "2023-07-03T13:15:51.778383Z",
     "iopub.status.busy": "2023-07-03T13:15:51.777635Z",
     "iopub.status.idle": "2023-07-03T13:15:51.788357Z",
     "shell.execute_reply": "2023-07-03T13:15:51.787094Z"
    },
    "papermill": {
     "duration": 0.028517,
     "end_time": "2023-07-03T13:15:51.791058",
     "exception": false,
     "start_time": "2023-07-03T13:15:51.762541",
     "status": "completed"
    },
    "tags": []
   },
   "outputs": [
    {
     "data": {
      "text/plain": [
       "12.857645    1463\n",
       "12.150000      86\n",
       "17.600000      82\n",
       "13.650000      77\n",
       "11.800000      76\n",
       "             ... \n",
       "7.275000        2\n",
       "7.685000        1\n",
       "9.420000        1\n",
       "6.520000        1\n",
       "5.400000        1\n",
       "Name: Item_Weight, Length: 416, dtype: int64"
      ]
     },
     "execution_count": 19,
     "metadata": {},
     "output_type": "execute_result"
    }
   ],
   "source": [
    "df1.Item_Weight.value_counts()"
   ]
  },
  {
   "cell_type": "code",
   "execution_count": 20,
   "id": "0b6b777f",
   "metadata": {
    "execution": {
     "iopub.execute_input": "2023-07-03T13:15:51.820885Z",
     "iopub.status.busy": "2023-07-03T13:15:51.820420Z",
     "iopub.status.idle": "2023-07-03T13:15:52.000462Z",
     "shell.execute_reply": "2023-07-03T13:15:51.999169Z"
    },
    "papermill": {
     "duration": 0.198139,
     "end_time": "2023-07-03T13:15:52.002934",
     "exception": false,
     "start_time": "2023-07-03T13:15:51.804795",
     "status": "completed"
    },
    "tags": []
   },
   "outputs": [
    {
     "data": {
      "text/plain": [
       "<AxesSubplot:xlabel='Item_Weight'>"
      ]
     },
     "execution_count": 20,
     "metadata": {},
     "output_type": "execute_result"
    },
    {
     "data": {
      "image/png": "[encoded data removed]",
      "text/plain": [
       "<Figure size 640x480 with 1 Axes>"
      ]
     },
     "metadata": {},
     "output_type": "display_data"
    }
   ],
   "source": [
    "import seaborn as sns\n",
    "\n",
    "sns.boxplot(x=df1['Item_Weight'])"
   ]
  },
  {
   "cell_type": "code",
   "execution_count": 21,
   "id": "bf3cefb9",
   "metadata": {
    "execution": {
     "iopub.execute_input": "2023-07-03T13:15:52.034001Z",
     "iopub.status.busy": "2023-07-03T13:15:52.033324Z",
     "iopub.status.idle": "2023-07-03T13:15:52.049926Z",
     "shell.execute_reply": "2023-07-03T13:15:52.048692Z"
    },
    "papermill": {
     "duration": 0.035351,
     "end_time": "2023-07-03T13:15:52.052630",
     "exception": false,
     "start_time": "2023-07-03T13:15:52.017279",
     "status": "completed"
    },
    "tags": []
   },
   "outputs": [
    {
     "data": {
      "text/html": [
       "<div>\n",
       "<style scoped>\n",
       "    .dataframe tbody tr th:only-of-type {\n",
       "        vertical-align: middle;\n",
       "    }\n",
       "\n",
       "    .dataframe tbody tr th {\n",
       "        vertical-align: top;\n",
       "    }\n",
       "\n",
       "    .dataframe thead th {\n",
       "        text-align: right;\n",
       "    }\n",
       "</style>\n",
       "<table border=\"1\" class=\"dataframe\">\n",
       "  <thead>\n",
       "    <tr style=\"text-align: right;\">\n",
       "      <th></th>\n",
       "      <th>Item_Identifier</th>\n",
       "      <th>Item_Weight</th>\n",
       "      <th>Item_Fat_Content</th>\n",
       "      <th>Item_Visibility</th>\n",
       "      <th>Item_Type</th>\n",
       "      <th>Item_MRP</th>\n",
       "      <th>Outlet_Identifier</th>\n",
       "      <th>Outlet_Establishment_Year</th>\n",
       "      <th>Outlet_Size</th>\n",
       "      <th>Outlet_Location_Type</th>\n",
       "      <th>Outlet_Type</th>\n",
       "      <th>Item_Outlet_Sales</th>\n",
       "    </tr>\n",
       "  </thead>\n",
       "  <tbody>\n",
       "    <tr>\n",
       "      <th>0</th>\n",
       "      <td>FDA15</td>\n",
       "      <td>9.30</td>\n",
       "      <td>Low Fat</td>\n",
       "      <td>0.016047</td>\n",
       "      <td>Dairy</td>\n",
       "      <td>249.8092</td>\n",
       "      <td>OUT049</td>\n",
       "      <td>1999</td>\n",
       "      <td>Medium</td>\n",
       "      <td>Tier 1</td>\n",
       "      <td>Supermarket Type1</td>\n",
       "      <td>3735.1380</td>\n",
       "    </tr>\n",
       "    <tr>\n",
       "      <th>1</th>\n",
       "      <td>DRC01</td>\n",
       "      <td>5.92</td>\n",
       "      <td>Regular</td>\n",
       "      <td>0.019278</td>\n",
       "      <td>Soft Drinks</td>\n",
       "      <td>48.2692</td>\n",
       "      <td>OUT018</td>\n",
       "      <td>2009</td>\n",
       "      <td>Medium</td>\n",
       "      <td>Tier 3</td>\n",
       "      <td>Supermarket Type2</td>\n",
       "      <td>443.4228</td>\n",
       "    </tr>\n",
       "  </tbody>\n",
       "</table>\n",
       "</div>"
      ],
      "text/plain": [
       "  Item_Identifier  Item_Weight Item_Fat_Content  Item_Visibility    Item_Type  \\\n",
       "0           FDA15         9.30          Low Fat         0.016047        Dairy   \n",
       "1           DRC01         5.92          Regular         0.019278  Soft Drinks   \n",
       "\n",
       "   Item_MRP Outlet_Identifier  Outlet_Establishment_Year Outlet_Size  \\\n",
       "0  249.8092            OUT049                       1999      Medium   \n",
       "1   48.2692            OUT018                       2009      Medium   \n",
       "\n",
       "  Outlet_Location_Type        Outlet_Type  Item_Outlet_Sales  \n",
       "0               Tier 1  Supermarket Type1          3735.1380  \n",
       "1               Tier 3  Supermarket Type2           443.4228  "
      ]
     },
     "execution_count": 21,
     "metadata": {},
     "output_type": "execute_result"
    }
   ],
   "source": [
    "df1.head(2)"
   ]
  },
  {
   "cell_type": "code",
   "execution_count": 22,
   "id": "3c103285",
   "metadata": {
    "execution": {
     "iopub.execute_input": "2023-07-03T13:15:52.084236Z",
     "iopub.status.busy": "2023-07-03T13:15:52.083150Z",
     "iopub.status.idle": "2023-07-03T13:15:52.259947Z",
     "shell.execute_reply": "2023-07-03T13:15:52.259043Z"
    },
    "papermill": {
     "duration": 0.194735,
     "end_time": "2023-07-03T13:15:52.262239",
     "exception": false,
     "start_time": "2023-07-03T13:15:52.067504",
     "status": "completed"
    },
    "tags": []
   },
   "outputs": [
    {
     "data": {
      "text/plain": [
       "<AxesSubplot:xlabel='Item_Visibility'>"
      ]
     },
     "execution_count": 22,
     "metadata": {},
     "output_type": "execute_result"
    },
    {
     "data": {
      "image/png": "[encoded data removed]",
      "text/plain": [
       "<Figure size 640x480 with 1 Axes>"
      ]
     },
     "metadata": {},
     "output_type": "display_data"
    }
   ],
   "source": [
    "sns.boxplot(x=df1['Item_Visibility'])"
   ]
  },
  {
   "cell_type": "code",
   "execution_count": 23,
   "id": "377f63cf",
   "metadata": {
    "execution": {
     "iopub.execute_input": "2023-07-03T13:15:52.293799Z",
     "iopub.status.busy": "2023-07-03T13:15:52.293130Z",
     "iopub.status.idle": "2023-07-03T13:15:52.655675Z",
     "shell.execute_reply": "2023-07-03T13:15:52.654369Z"
    },
    "papermill": {
     "duration": 0.381452,
     "end_time": "2023-07-03T13:15:52.658509",
     "exception": false,
     "start_time": "2023-07-03T13:15:52.277057",
     "status": "completed"
    },
    "tags": []
   },
   "outputs": [
    {
     "data": {
      "image/png": "[encoded data removed]",
      "text/plain": [
       "<Figure size 800x800 with 1 Axes>"
      ]
     },
     "metadata": {},
     "output_type": "display_data"
    }
   ],
   "source": [
    "plt.figure(figsize=(8,8))\n",
    "plt.title(\"Item Visibility\")\n",
    "sns.histplot(data=df1, x='Item_Visibility', kde=True, color = 'purple')\n",
    "plt.show()"
   ]
  },
  {
   "cell_type": "code",
   "execution_count": 24,
   "id": "97dd034d",
   "metadata": {
    "execution": {
     "iopub.execute_input": "2023-07-03T13:15:52.691747Z",
     "iopub.status.busy": "2023-07-03T13:15:52.691044Z",
     "iopub.status.idle": "2023-07-03T13:15:52.702894Z",
     "shell.execute_reply": "2023-07-03T13:15:52.701789Z"
    },
    "papermill": {
     "duration": 0.031113,
     "end_time": "2023-07-03T13:15:52.705369",
     "exception": false,
     "start_time": "2023-07-03T13:15:52.674256",
     "status": "completed"
    },
    "tags": []
   },
   "outputs": [
    {
     "data": {
      "text/plain": [
       "(95,)"
      ]
     },
     "execution_count": 24,
     "metadata": {},
     "output_type": "execute_result"
    }
   ],
   "source": [
    "from scipy import stats\n",
    "\n",
    "z_scores = stats.zscore(df1['Item_Visibility'])\n",
    "outliers = (z_scores > 3) | (z_scores < -3)\n",
    "outlier_values = df1['Item_Visibility'][outliers]\n",
    "outlier_values.shape "
   ]
  },
  {
   "cell_type": "code",
   "execution_count": 25,
   "id": "3091b4fb",
   "metadata": {
    "execution": {
     "iopub.execute_input": "2023-07-03T13:15:52.738394Z",
     "iopub.status.busy": "2023-07-03T13:15:52.737969Z",
     "iopub.status.idle": "2023-07-03T13:15:52.745604Z",
     "shell.execute_reply": "2023-07-03T13:15:52.744338Z"
    },
    "papermill": {
     "duration": 0.027383,
     "end_time": "2023-07-03T13:15:52.748160",
     "exception": false,
     "start_time": "2023-07-03T13:15:52.720777",
     "status": "completed"
    },
    "tags": []
   },
   "outputs": [],
   "source": [
    "df1 = df1[~df1['Item_Visibility'].isin(outlier_values)]"
   ]
  },
  {
   "cell_type": "code",
   "execution_count": 26,
   "id": "96a7b63c",
   "metadata": {
    "execution": {
     "iopub.execute_input": "2023-07-03T13:15:52.780716Z",
     "iopub.status.busy": "2023-07-03T13:15:52.780288Z",
     "iopub.status.idle": "2023-07-03T13:15:52.954564Z",
     "shell.execute_reply": "2023-07-03T13:15:52.953281Z"
    },
    "papermill": {
     "duration": 0.194078,
     "end_time": "2023-07-03T13:15:52.957555",
     "exception": false,
     "start_time": "2023-07-03T13:15:52.763477",
     "status": "completed"
    },
    "tags": []
   },
   "outputs": [
    {
     "data": {
      "text/plain": [
       "<AxesSubplot:xlabel='Item_Weight'>"
      ]
     },
     "execution_count": 26,
     "metadata": {},
     "output_type": "execute_result"
    },
    {
     "data": {
      "image/png": "[encoded data removed]",
      "text/plain": [
       "<Figure size 640x480 with 1 Axes>"
      ]
     },
     "metadata": {},
     "output_type": "display_data"
    }
   ],
   "source": [
    "sns.boxplot(x=df1['Item_Weight'])"
   ]
  },
  {
   "cell_type": "markdown",
   "id": "abbca730",
   "metadata": {
    "papermill": {
     "duration": 0.016339,
     "end_time": "2023-07-03T13:15:52.989812",
     "exception": false,
     "start_time": "2023-07-03T13:15:52.973473",
     "status": "completed"
    },
    "tags": []
   },
   "source": [
    "### From the above plot we can observe that a lot of items have a weight of 12.5"
   ]
  },
  {
   "cell_type": "code",
   "execution_count": 27,
   "id": "e29de7dc",
   "metadata": {
    "execution": {
     "iopub.execute_input": "2023-07-03T13:15:53.024775Z",
     "iopub.status.busy": "2023-07-03T13:15:53.023438Z",
     "iopub.status.idle": "2023-07-03T13:15:53.368462Z",
     "shell.execute_reply": "2023-07-03T13:15:53.367022Z"
    },
    "papermill": {
     "duration": 0.365261,
     "end_time": "2023-07-03T13:15:53.371437",
     "exception": false,
     "start_time": "2023-07-03T13:15:53.006176",
     "status": "completed"
    },
    "tags": []
   },
   "outputs": [
    {
     "data": {
      "image/png": "[encoded data removed]",
      "text/plain": [
       "<Figure size 800x800 with 1 Axes>"
      ]
     },
     "metadata": {},
     "output_type": "display_data"
    }
   ],
   "source": [
    "plt.figure(figsize=(8,8))\n",
    "plt.title(\"Item Visibility\")\n",
    "sns.histplot(data=df1, x='Item_Visibility', kde=True, color = 'purple')\n",
    "plt.show()"
   ]
  },
  {
   "cell_type": "code",
   "execution_count": 28,
   "id": "9cfe6220",
   "metadata": {
    "execution": {
     "iopub.execute_input": "2023-07-03T13:15:53.407879Z",
     "iopub.status.busy": "2023-07-03T13:15:53.407426Z",
     "iopub.status.idle": "2023-07-03T13:15:53.425789Z",
     "shell.execute_reply": "2023-07-03T13:15:53.424532Z"
    },
    "papermill": {
     "duration": 0.03911,
     "end_time": "2023-07-03T13:15:53.428157",
     "exception": false,
     "start_time": "2023-07-03T13:15:53.389047",
     "status": "completed"
    },
    "tags": []
   },
   "outputs": [
    {
     "data": {
      "text/html": [
       "<div>\n",
       "<style scoped>\n",
       "    .dataframe tbody tr th:only-of-type {\n",
       "        vertical-align: middle;\n",
       "    }\n",
       "\n",
       "    .dataframe tbody tr th {\n",
       "        vertical-align: top;\n",
       "    }\n",
       "\n",
       "    .dataframe thead th {\n",
       "        text-align: right;\n",
       "    }\n",
       "</style>\n",
       "<table border=\"1\" class=\"dataframe\">\n",
       "  <thead>\n",
       "    <tr style=\"text-align: right;\">\n",
       "      <th></th>\n",
       "      <th>Item_Identifier</th>\n",
       "      <th>Item_Weight</th>\n",
       "      <th>Item_Fat_Content</th>\n",
       "      <th>Item_Visibility</th>\n",
       "      <th>Item_Type</th>\n",
       "      <th>Item_MRP</th>\n",
       "      <th>Outlet_Identifier</th>\n",
       "      <th>Outlet_Establishment_Year</th>\n",
       "      <th>Outlet_Size</th>\n",
       "      <th>Outlet_Location_Type</th>\n",
       "      <th>Outlet_Type</th>\n",
       "      <th>Item_Outlet_Sales</th>\n",
       "    </tr>\n",
       "  </thead>\n",
       "  <tbody>\n",
       "    <tr>\n",
       "      <th>0</th>\n",
       "      <td>FDA15</td>\n",
       "      <td>9.30</td>\n",
       "      <td>Low Fat</td>\n",
       "      <td>0.016047</td>\n",
       "      <td>Dairy</td>\n",
       "      <td>249.8092</td>\n",
       "      <td>OUT049</td>\n",
       "      <td>1999</td>\n",
       "      <td>Medium</td>\n",
       "      <td>Tier 1</td>\n",
       "      <td>Supermarket Type1</td>\n",
       "      <td>3735.1380</td>\n",
       "    </tr>\n",
       "    <tr>\n",
       "      <th>1</th>\n",
       "      <td>DRC01</td>\n",
       "      <td>5.92</td>\n",
       "      <td>Regular</td>\n",
       "      <td>0.019278</td>\n",
       "      <td>Soft Drinks</td>\n",
       "      <td>48.2692</td>\n",
       "      <td>OUT018</td>\n",
       "      <td>2009</td>\n",
       "      <td>Medium</td>\n",
       "      <td>Tier 3</td>\n",
       "      <td>Supermarket Type2</td>\n",
       "      <td>443.4228</td>\n",
       "    </tr>\n",
       "  </tbody>\n",
       "</table>\n",
       "</div>"
      ],
      "text/plain": [
       "  Item_Identifier  Item_Weight Item_Fat_Content  Item_Visibility    Item_Type  \\\n",
       "0           FDA15         9.30          Low Fat         0.016047        Dairy   \n",
       "1           DRC01         5.92          Regular         0.019278  Soft Drinks   \n",
       "\n",
       "   Item_MRP Outlet_Identifier  Outlet_Establishment_Year Outlet_Size  \\\n",
       "0  249.8092            OUT049                       1999      Medium   \n",
       "1   48.2692            OUT018                       2009      Medium   \n",
       "\n",
       "  Outlet_Location_Type        Outlet_Type  Item_Outlet_Sales  \n",
       "0               Tier 1  Supermarket Type1          3735.1380  \n",
       "1               Tier 3  Supermarket Type2           443.4228  "
      ]
     },
     "execution_count": 28,
     "metadata": {},
     "output_type": "execute_result"
    }
   ],
   "source": [
    "df1.head(2)"
   ]
  },
  {
   "cell_type": "code",
   "execution_count": 29,
   "id": "d0b899ba",
   "metadata": {
    "execution": {
     "iopub.execute_input": "2023-07-03T13:15:53.463690Z",
     "iopub.status.busy": "2023-07-03T13:15:53.463268Z",
     "iopub.status.idle": "2023-07-03T13:15:53.470405Z",
     "shell.execute_reply": "2023-07-03T13:15:53.469209Z"
    },
    "papermill": {
     "duration": 0.027995,
     "end_time": "2023-07-03T13:15:53.472960",
     "exception": false,
     "start_time": "2023-07-03T13:15:53.444965",
     "status": "completed"
    },
    "tags": []
   },
   "outputs": [
    {
     "data": {
      "text/plain": [
       "(8428, 12)"
      ]
     },
     "execution_count": 29,
     "metadata": {},
     "output_type": "execute_result"
    }
   ],
   "source": [
    "df1.shape"
   ]
  },
  {
   "cell_type": "code",
   "execution_count": 30,
   "id": "a0ada57f",
   "metadata": {
    "execution": {
     "iopub.execute_input": "2023-07-03T13:15:53.508969Z",
     "iopub.status.busy": "2023-07-03T13:15:53.508515Z",
     "iopub.status.idle": "2023-07-03T13:15:53.632526Z",
     "shell.execute_reply": "2023-07-03T13:15:53.630999Z"
    },
    "papermill": {
     "duration": 0.146203,
     "end_time": "2023-07-03T13:15:53.636148",
     "exception": false,
     "start_time": "2023-07-03T13:15:53.489945",
     "status": "completed"
    },
    "tags": []
   },
   "outputs": [
    {
     "data": {
      "image/png": "[encoded data removed]",
      "text/plain": [
       "<Figure size 640x480 with 1 Axes>"
      ]
     },
     "metadata": {},
     "output_type": "display_data"
    }
   ],
   "source": [
    "import matplotlib.pyplot as plt\n",
    "\n",
    "\n",
    "fat_content_counts = df1['Item_Fat_Content'].value_counts()\n",
    "labels = fat_content_counts.index\n",
    "sizes = fat_content_counts.values\n",
    "colors = ['#ff9999', '#66b3ff', '#99ff99']\n",
    "fig, ax = plt.subplots()\n",
    "ax.pie(sizes, labels=labels, colors=colors, autopct='%1.1f%%')\n",
    "circle = plt.Circle((0, 0), 0.7, color='White')\n",
    "ax.add_artist(circle)\n",
    "plt.title('Item Fat Content Distribution')\n",
    "plt.show()"
   ]
  },
  {
   "cell_type": "markdown",
   "id": "73f67780",
   "metadata": {
    "papermill": {
     "duration": 0.029018,
     "end_time": "2023-07-03T13:15:53.694312",
     "exception": false,
     "start_time": "2023-07-03T13:15:53.665294",
     "status": "completed"
    },
    "tags": []
   },
   "source": [
    "### we can see that we have more items from low fat category rather than regular"
   ]
  },
  {
   "cell_type": "code",
   "execution_count": null,
   "id": "e2d6540b",
   "metadata": {
    "papermill": {
     "duration": 0.016808,
     "end_time": "2023-07-03T13:15:53.731800",
     "exception": false,
     "start_time": "2023-07-03T13:15:53.714992",
     "status": "completed"
    },
    "tags": []
   },
   "outputs": [],
   "source": []
  },
  {
   "cell_type": "code",
   "execution_count": 31,
   "id": "ce054276",
   "metadata": {
    "execution": {
     "iopub.execute_input": "2023-07-03T13:15:53.769202Z",
     "iopub.status.busy": "2023-07-03T13:15:53.768410Z",
     "iopub.status.idle": "2023-07-03T13:15:53.785478Z",
     "shell.execute_reply": "2023-07-03T13:15:53.784221Z"
    },
    "papermill": {
     "duration": 0.038675,
     "end_time": "2023-07-03T13:15:53.788205",
     "exception": false,
     "start_time": "2023-07-03T13:15:53.749530",
     "status": "completed"
    },
    "tags": []
   },
   "outputs": [
    {
     "data": {
      "text/html": [
       "<div>\n",
       "<style scoped>\n",
       "    .dataframe tbody tr th:only-of-type {\n",
       "        vertical-align: middle;\n",
       "    }\n",
       "\n",
       "    .dataframe tbody tr th {\n",
       "        vertical-align: top;\n",
       "    }\n",
       "\n",
       "    .dataframe thead th {\n",
       "        text-align: right;\n",
       "    }\n",
       "</style>\n",
       "<table border=\"1\" class=\"dataframe\">\n",
       "  <thead>\n",
       "    <tr style=\"text-align: right;\">\n",
       "      <th></th>\n",
       "      <th>Item_Identifier</th>\n",
       "      <th>Item_Weight</th>\n",
       "      <th>Item_Fat_Content</th>\n",
       "      <th>Item_Visibility</th>\n",
       "      <th>Item_Type</th>\n",
       "      <th>Item_MRP</th>\n",
       "      <th>Outlet_Identifier</th>\n",
       "      <th>Outlet_Establishment_Year</th>\n",
       "      <th>Outlet_Size</th>\n",
       "      <th>Outlet_Location_Type</th>\n",
       "      <th>Outlet_Type</th>\n",
       "      <th>Item_Outlet_Sales</th>\n",
       "    </tr>\n",
       "  </thead>\n",
       "  <tbody>\n",
       "    <tr>\n",
       "      <th>0</th>\n",
       "      <td>FDA15</td>\n",
       "      <td>9.30</td>\n",
       "      <td>Low Fat</td>\n",
       "      <td>0.016047</td>\n",
       "      <td>Dairy</td>\n",
       "      <td>249.8092</td>\n",
       "      <td>OUT049</td>\n",
       "      <td>1999</td>\n",
       "      <td>Medium</td>\n",
       "      <td>Tier 1</td>\n",
       "      <td>Supermarket Type1</td>\n",
       "      <td>3735.1380</td>\n",
       "    </tr>\n",
       "    <tr>\n",
       "      <th>1</th>\n",
       "      <td>DRC01</td>\n",
       "      <td>5.92</td>\n",
       "      <td>Regular</td>\n",
       "      <td>0.019278</td>\n",
       "      <td>Soft Drinks</td>\n",
       "      <td>48.2692</td>\n",
       "      <td>OUT018</td>\n",
       "      <td>2009</td>\n",
       "      <td>Medium</td>\n",
       "      <td>Tier 3</td>\n",
       "      <td>Supermarket Type2</td>\n",
       "      <td>443.4228</td>\n",
       "    </tr>\n",
       "  </tbody>\n",
       "</table>\n",
       "</div>"
      ],
      "text/plain": [
       "  Item_Identifier  Item_Weight Item_Fat_Content  Item_Visibility    Item_Type  \\\n",
       "0           FDA15         9.30          Low Fat         0.016047        Dairy   \n",
       "1           DRC01         5.92          Regular         0.019278  Soft Drinks   \n",
       "\n",
       "   Item_MRP Outlet_Identifier  Outlet_Establishment_Year Outlet_Size  \\\n",
       "0  249.8092            OUT049                       1999      Medium   \n",
       "1   48.2692            OUT018                       2009      Medium   \n",
       "\n",
       "  Outlet_Location_Type        Outlet_Type  Item_Outlet_Sales  \n",
       "0               Tier 1  Supermarket Type1          3735.1380  \n",
       "1               Tier 3  Supermarket Type2           443.4228  "
      ]
     },
     "execution_count": 31,
     "metadata": {},
     "output_type": "execute_result"
    }
   ],
   "source": [
    "df1.head(2)"
   ]
  },
  {
   "cell_type": "code",
   "execution_count": 32,
   "id": "8e1c1b4e",
   "metadata": {
    "execution": {
     "iopub.execute_input": "2023-07-03T13:15:53.825997Z",
     "iopub.status.busy": "2023-07-03T13:15:53.825109Z",
     "iopub.status.idle": "2023-07-03T13:15:54.098126Z",
     "shell.execute_reply": "2023-07-03T13:15:54.096770Z"
    },
    "papermill": {
     "duration": 0.295297,
     "end_time": "2023-07-03T13:15:54.101415",
     "exception": false,
     "start_time": "2023-07-03T13:15:53.806118",
     "status": "completed"
    },
    "tags": []
   },
   "outputs": [
    {
     "data": {
      "image/png": "[encoded data removed]",
      "text/plain": [
       "<Figure size 640x480 with 1 Axes>"
      ]
     },
     "metadata": {},
     "output_type": "display_data"
    }
   ],
   "source": [
    "Item_Type = df1['Item_Type'].value_counts()\n",
    "labels = Item_Type.index\n",
    "sizes = Item_Type.values\n",
    "colors = ['#ff9999', '#66b3ff', '#99ff99']\n",
    "fig, ax = plt.subplots()\n",
    "ax.pie(sizes, labels=labels, colors=colors, autopct='%1.1f%%')\n",
    "circle = plt.Circle((0, 0), 0.7, color='White')\n",
    "ax.add_artist(circle)\n",
    "plt.title('Item Fat Content Distribution')\n",
    "plt.show()# From the plot it is evident that majority of the items have visibility less than 0.20"
   ]
  },
  {
   "cell_type": "code",
   "execution_count": 33,
   "id": "940b4cc3",
   "metadata": {
    "execution": {
     "iopub.execute_input": "2023-07-03T13:15:54.143641Z",
     "iopub.status.busy": "2023-07-03T13:15:54.143226Z",
     "iopub.status.idle": "2023-07-03T13:15:54.160830Z",
     "shell.execute_reply": "2023-07-03T13:15:54.159424Z"
    },
    "papermill": {
     "duration": 0.041895,
     "end_time": "2023-07-03T13:15:54.163420",
     "exception": false,
     "start_time": "2023-07-03T13:15:54.121525",
     "status": "completed"
    },
    "tags": []
   },
   "outputs": [
    {
     "data": {
      "text/html": [
       "<div>\n",
       "<style scoped>\n",
       "    .dataframe tbody tr th:only-of-type {\n",
       "        vertical-align: middle;\n",
       "    }\n",
       "\n",
       "    .dataframe tbody tr th {\n",
       "        vertical-align: top;\n",
       "    }\n",
       "\n",
       "    .dataframe thead th {\n",
       "        text-align: right;\n",
       "    }\n",
       "</style>\n",
       "<table border=\"1\" class=\"dataframe\">\n",
       "  <thead>\n",
       "    <tr style=\"text-align: right;\">\n",
       "      <th></th>\n",
       "      <th>Item_Identifier</th>\n",
       "      <th>Item_Weight</th>\n",
       "      <th>Item_Fat_Content</th>\n",
       "      <th>Item_Visibility</th>\n",
       "      <th>Item_Type</th>\n",
       "      <th>Item_MRP</th>\n",
       "      <th>Outlet_Identifier</th>\n",
       "      <th>Outlet_Establishment_Year</th>\n",
       "      <th>Outlet_Size</th>\n",
       "      <th>Outlet_Location_Type</th>\n",
       "      <th>Outlet_Type</th>\n",
       "      <th>Item_Outlet_Sales</th>\n",
       "    </tr>\n",
       "  </thead>\n",
       "  <tbody>\n",
       "    <tr>\n",
       "      <th>0</th>\n",
       "      <td>FDA15</td>\n",
       "      <td>9.30</td>\n",
       "      <td>Low Fat</td>\n",
       "      <td>0.016047</td>\n",
       "      <td>Dairy</td>\n",
       "      <td>249.8092</td>\n",
       "      <td>OUT049</td>\n",
       "      <td>1999</td>\n",
       "      <td>Medium</td>\n",
       "      <td>Tier 1</td>\n",
       "      <td>Supermarket Type1</td>\n",
       "      <td>3735.1380</td>\n",
       "    </tr>\n",
       "    <tr>\n",
       "      <th>1</th>\n",
       "      <td>DRC01</td>\n",
       "      <td>5.92</td>\n",
       "      <td>Regular</td>\n",
       "      <td>0.019278</td>\n",
       "      <td>Soft Drinks</td>\n",
       "      <td>48.2692</td>\n",
       "      <td>OUT018</td>\n",
       "      <td>2009</td>\n",
       "      <td>Medium</td>\n",
       "      <td>Tier 3</td>\n",
       "      <td>Supermarket Type2</td>\n",
       "      <td>443.4228</td>\n",
       "    </tr>\n",
       "  </tbody>\n",
       "</table>\n",
       "</div>"
      ],
      "text/plain": [
       "  Item_Identifier  Item_Weight Item_Fat_Content  Item_Visibility    Item_Type  \\\n",
       "0           FDA15         9.30          Low Fat         0.016047        Dairy   \n",
       "1           DRC01         5.92          Regular         0.019278  Soft Drinks   \n",
       "\n",
       "   Item_MRP Outlet_Identifier  Outlet_Establishment_Year Outlet_Size  \\\n",
       "0  249.8092            OUT049                       1999      Medium   \n",
       "1   48.2692            OUT018                       2009      Medium   \n",
       "\n",
       "  Outlet_Location_Type        Outlet_Type  Item_Outlet_Sales  \n",
       "0               Tier 1  Supermarket Type1          3735.1380  \n",
       "1               Tier 3  Supermarket Type2           443.4228  "
      ]
     },
     "execution_count": 33,
     "metadata": {},
     "output_type": "execute_result"
    }
   ],
   "source": [
    "df1.head(2)"
   ]
  },
  {
   "cell_type": "code",
   "execution_count": 34,
   "id": "0f1ea4bf",
   "metadata": {
    "execution": {
     "iopub.execute_input": "2023-07-03T13:15:54.202965Z",
     "iopub.status.busy": "2023-07-03T13:15:54.202516Z",
     "iopub.status.idle": "2023-07-03T13:15:54.231185Z",
     "shell.execute_reply": "2023-07-03T13:15:54.229761Z"
    },
    "papermill": {
     "duration": 0.052069,
     "end_time": "2023-07-03T13:15:54.234466",
     "exception": false,
     "start_time": "2023-07-03T13:15:54.182397",
     "status": "completed"
    },
    "tags": []
   },
   "outputs": [
    {
     "name": "stdout",
     "output_type": "stream",
     "text": [
      "Group: Baking Goods\n",
      "5       FDP36\n",
      "21      FDW12\n",
      "23      FDC37\n",
      "48      FDL12\n",
      "71      FDL12\n",
      "        ...  \n",
      "8435    FDT48\n",
      "8441    FDK60\n",
      "8465    FDX11\n",
      "8515    FDH24\n",
      "8519    FDS36\n",
      "Name: Item_Identifier, Length: 640, dtype: object\n",
      "\n",
      "Group: Breads\n",
      "33      FDO23\n",
      "114     FDV11\n",
      "124     FDW11\n",
      "169     FDW11\n",
      "175     FDR47\n",
      "        ...  \n",
      "8198    FDR59\n",
      "8240    FDQ47\n",
      "8334    FDW59\n",
      "8370    FDV23\n",
      "8413    FDW59\n",
      "Name: Item_Identifier, Length: 248, dtype: object\n",
      "\n",
      "Group: Breakfast\n",
      "15      FDP49\n",
      "17      FDP49\n",
      "87      FDQ49\n",
      "157     FDN13\n",
      "264     FDN01\n",
      "        ...  \n",
      "8136    FDR37\n",
      "8222    FDL13\n",
      "8303    FDO37\n",
      "8317    FDN13\n",
      "8335    FDO49\n",
      "Name: Item_Identifier, Length: 107, dtype: object\n",
      "\n",
      "Group: Canned\n",
      "29      FDC14\n",
      "43      FDC02\n",
      "44      FDL50\n",
      "47      FDV49\n",
      "52      FDR13\n",
      "        ...  \n",
      "8438    FDE26\n",
      "8449    FDG02\n",
      "8455    FDL26\n",
      "8489    FDV13\n",
      "8514    FDA01\n",
      "Name: Item_Identifier, Length: 644, dtype: object\n",
      "\n",
      "Group: Dairy\n",
      "0       FDA15\n",
      "11      FDA03\n",
      "19      FDU02\n",
      "28      FDE51\n",
      "30      FDV38\n",
      "        ...  \n",
      "8424    FDC39\n",
      "8447    FDS26\n",
      "8448    FDV50\n",
      "8457    FDY50\n",
      "8512    FDR26\n",
      "Name: Item_Identifier, Length: 672, dtype: object\n",
      "\n",
      "Group: Frozen Foods\n",
      "8       FDH17\n",
      "9       FDU28\n",
      "24      FDR28\n",
      "51      FDM40\n",
      "63      FDY40\n",
      "        ...  \n",
      "8477    FDC05\n",
      "8482    FDZ28\n",
      "8507    FDN28\n",
      "8511    FDF05\n",
      "8517    FDF53\n",
      "Name: Item_Identifier, Length: 846, dtype: object\n",
      "\n",
      "Group: Fruits and Vegetables\n",
      "3       FDX07\n",
      "10      FDY07\n",
      "12      FDX32\n",
      "14      FDF32\n",
      "36      FDV20\n",
      "        ...  \n",
      "8490    FDU44\n",
      "8497    FDT08\n",
      "8503    FDQ44\n",
      "8508    FDW31\n",
      "8509    FDG45\n",
      "Name: Item_Identifier, Length: 1218, dtype: object\n",
      "\n",
      "Group: Hard Drinks\n",
      "18      DRI11\n",
      "27      DRJ59\n",
      "57      DRK35\n",
      "128     DRG23\n",
      "235     DRM47\n",
      "        ...  \n",
      "8297    DRL23\n",
      "8346    DRN11\n",
      "8414    DRO47\n",
      "8473    DRI47\n",
      "8483    DRI11\n",
      "Name: Item_Identifier, Length: 212, dtype: object\n",
      "\n",
      "Group: Health and Hygiene\n",
      "16      NCB42\n",
      "31      NCS17\n",
      "35      NCX29\n",
      "46      NCP05\n",
      "50      NCL17\n",
      "        ...  \n",
      "8472    NCS41\n",
      "8475    NCS17\n",
      "8476    NCO41\n",
      "8499    NCK53\n",
      "8520    NCJ29\n",
      "Name: Item_Identifier, Length: 517, dtype: object\n",
      "\n",
      "Group: Household\n",
      "4       NCD19\n",
      "22      NCB30\n",
      "25      NCD06\n",
      "54      NCP18\n",
      "56      NCX54\n",
      "        ...  \n",
      "8494    NCI54\n",
      "8498    NCP54\n",
      "8500    NCQ42\n",
      "8502    NCH43\n",
      "8504    NCN18\n",
      "Name: Item_Identifier, Length: 903, dtype: object\n",
      "\n",
      "Group: Meat\n",
      "2       FDN15\n",
      "41      FDK43\n",
      "61      FDV27\n",
      "66      FDH19\n",
      "89      FDN27\n",
      "        ...  \n",
      "8443    FDX15\n",
      "8460    FDN39\n",
      "8470    FDW27\n",
      "8491    FDO03\n",
      "8513    FDH31\n",
      "Name: Item_Identifier, Length: 420, dtype: object\n",
      "\n",
      "Group: Others\n",
      "139     NCN07\n",
      "142     NCO55\n",
      "170     NCM43\n",
      "197     NCN55\n",
      "225     NCO07\n",
      "        ...  \n",
      "8340    NCL31\n",
      "8368    NCM19\n",
      "8377    NCK07\n",
      "8488    NCN14\n",
      "8516    NCJ19\n",
      "Name: Item_Identifier, Length: 169, dtype: object\n",
      "\n",
      "Group: Seafood\n",
      "231     FDG33\n",
      "713     FDH21\n",
      "716     FDG21\n",
      "866     FDJ57\n",
      "867     FDJ45\n",
      "        ...  \n",
      "8324    FDF33\n",
      "8328    FDI57\n",
      "8395    FDG21\n",
      "8423    FDJ57\n",
      "8496    FDJ57\n",
      "Name: Item_Identifier, Length: 61, dtype: object\n",
      "\n",
      "Group: Snack Foods\n",
      "6       FDO10\n",
      "7       FDP10\n",
      "13      FDS46\n",
      "20      FDN22\n",
      "26      FDV10\n",
      "        ...  \n",
      "8501    FDW21\n",
      "8505    FDB46\n",
      "8510    FDN58\n",
      "8518    FDF22\n",
      "8521    FDN46\n",
      "Name: Item_Identifier, Length: 1185, dtype: object\n",
      "\n",
      "Group: Soft Drinks\n",
      "1       DRC01\n",
      "34      DRH01\n",
      "37      DRZ11\n",
      "68      DRH37\n",
      "92      DRI25\n",
      "        ...  \n",
      "8484    DRJ49\n",
      "8485    DRK37\n",
      "8487    DRG13\n",
      "8506    DRF37\n",
      "8522    DRG01\n",
      "Name: Item_Identifier, Length: 441, dtype: object\n",
      "\n",
      "Group: Starchy Foods\n",
      "72      FDH35\n",
      "136     FDH35\n",
      "146     FDB11\n",
      "176     FDB35\n",
      "237     FDB35\n",
      "        ...  \n",
      "8360    FDA34\n",
      "8397    FDC59\n",
      "8411    FDD47\n",
      "8426    FDA22\n",
      "8463    FDG59\n",
      "Name: Item_Identifier, Length: 145, dtype: object\n",
      "\n"
     ]
    }
   ],
   "source": [
    "grouped = df1.groupby('Item_Type')\n",
    "\n",
    "for group, items in grouped:\n",
    "    print(f\"Group: {group}\")\n",
    "    print(items['Item_Identifier'])\n",
    "    print()"
   ]
  },
  {
   "cell_type": "markdown",
   "id": "9c688f12",
   "metadata": {
    "papermill": {
     "duration": 0.018455,
     "end_time": "2023-07-03T13:15:54.271938",
     "exception": false,
     "start_time": "2023-07-03T13:15:54.253483",
     "status": "completed"
    },
    "tags": []
   },
   "source": [
    "The information contaions in Colum item idetifier have alredy coverd in as per the above information we can drop the colum Item idetifier"
   ]
  },
  {
   "cell_type": "code",
   "execution_count": 35,
   "id": "03d23d55",
   "metadata": {
    "execution": {
     "iopub.execute_input": "2023-07-03T13:15:54.310998Z",
     "iopub.status.busy": "2023-07-03T13:15:54.310527Z",
     "iopub.status.idle": "2023-07-03T13:15:54.322880Z",
     "shell.execute_reply": "2023-07-03T13:15:54.321692Z"
    },
    "papermill": {
     "duration": 0.03493,
     "end_time": "2023-07-03T13:15:54.325550",
     "exception": false,
     "start_time": "2023-07-03T13:15:54.290620",
     "status": "completed"
    },
    "tags": []
   },
   "outputs": [
    {
     "data": {
      "text/plain": [
       "FDW13    10\n",
       "FDX04     9\n",
       "NCI54     9\n",
       "FDU12     9\n",
       "FDV38     9\n",
       "         ..\n",
       "NCV41     8\n",
       "NCY29     8\n",
       "NCX29     8\n",
       "FDA04     8\n",
       "FDT49     8\n",
       "Name: Item_Identifier, Length: 100, dtype: int64"
      ]
     },
     "execution_count": 35,
     "metadata": {},
     "output_type": "execute_result"
    }
   ],
   "source": [
    "df1.Item_Identifier.value_counts().head(100)"
   ]
  },
  {
   "cell_type": "code",
   "execution_count": 36,
   "id": "9d35b802",
   "metadata": {
    "execution": {
     "iopub.execute_input": "2023-07-03T13:15:54.365727Z",
     "iopub.status.busy": "2023-07-03T13:15:54.365281Z",
     "iopub.status.idle": "2023-07-03T13:15:54.378076Z",
     "shell.execute_reply": "2023-07-03T13:15:54.376639Z"
    },
    "papermill": {
     "duration": 0.036315,
     "end_time": "2023-07-03T13:15:54.380797",
     "exception": false,
     "start_time": "2023-07-03T13:15:54.344482",
     "status": "completed"
    },
    "tags": []
   },
   "outputs": [
    {
     "name": "stdout",
     "output_type": "stream",
     "text": [
      "Group: Low Fat\n",
      "0       FDA15\n",
      "2       FDN15\n",
      "4       NCD19\n",
      "7       FDP10\n",
      "10      FDY07\n",
      "        ...  \n",
      "8515    FDH24\n",
      "8516    NCJ19\n",
      "8518    FDF22\n",
      "8520    NCJ29\n",
      "8522    DRG01\n",
      "Name: Item_Identifier, Length: 5463, dtype: object\n",
      "\n",
      "Group: Regular\n",
      "1       DRC01\n",
      "3       FDX07\n",
      "5       FDP36\n",
      "6       FDO10\n",
      "8       FDH17\n",
      "        ...  \n",
      "8513    FDH31\n",
      "8514    FDA01\n",
      "8517    FDF53\n",
      "8519    FDS36\n",
      "8521    FDN46\n",
      "Name: Item_Identifier, Length: 2965, dtype: object\n",
      "\n"
     ]
    }
   ],
   "source": [
    "grouped = df1.groupby('Item_Fat_Content')\n",
    "\n",
    "for group, items in grouped:\n",
    "    print(f\"Group: {group}\")\n",
    "    print(items['Item_Identifier'])\n",
    "    print()"
   ]
  },
  {
   "cell_type": "code",
   "execution_count": 37,
   "id": "7c71e0d7",
   "metadata": {
    "execution": {
     "iopub.execute_input": "2023-07-03T13:15:54.422419Z",
     "iopub.status.busy": "2023-07-03T13:15:54.421299Z",
     "iopub.status.idle": "2023-07-03T13:15:54.439504Z",
     "shell.execute_reply": "2023-07-03T13:15:54.438373Z"
    },
    "papermill": {
     "duration": 0.041708,
     "end_time": "2023-07-03T13:15:54.441999",
     "exception": false,
     "start_time": "2023-07-03T13:15:54.400291",
     "status": "completed"
    },
    "tags": []
   },
   "outputs": [
    {
     "data": {
      "text/html": [
       "<div>\n",
       "<style scoped>\n",
       "    .dataframe tbody tr th:only-of-type {\n",
       "        vertical-align: middle;\n",
       "    }\n",
       "\n",
       "    .dataframe tbody tr th {\n",
       "        vertical-align: top;\n",
       "    }\n",
       "\n",
       "    .dataframe thead th {\n",
       "        text-align: right;\n",
       "    }\n",
       "</style>\n",
       "<table border=\"1\" class=\"dataframe\">\n",
       "  <thead>\n",
       "    <tr style=\"text-align: right;\">\n",
       "      <th></th>\n",
       "      <th>Item_Identifier</th>\n",
       "      <th>Item_Weight</th>\n",
       "      <th>Item_Fat_Content</th>\n",
       "      <th>Item_Visibility</th>\n",
       "      <th>Item_Type</th>\n",
       "      <th>Item_MRP</th>\n",
       "      <th>Outlet_Identifier</th>\n",
       "      <th>Outlet_Establishment_Year</th>\n",
       "      <th>Outlet_Size</th>\n",
       "      <th>Outlet_Location_Type</th>\n",
       "      <th>Outlet_Type</th>\n",
       "      <th>Item_Outlet_Sales</th>\n",
       "    </tr>\n",
       "  </thead>\n",
       "  <tbody>\n",
       "    <tr>\n",
       "      <th>0</th>\n",
       "      <td>FDA15</td>\n",
       "      <td>9.30</td>\n",
       "      <td>Low Fat</td>\n",
       "      <td>0.016047</td>\n",
       "      <td>Dairy</td>\n",
       "      <td>249.8092</td>\n",
       "      <td>OUT049</td>\n",
       "      <td>1999</td>\n",
       "      <td>Medium</td>\n",
       "      <td>Tier 1</td>\n",
       "      <td>Supermarket Type1</td>\n",
       "      <td>3735.1380</td>\n",
       "    </tr>\n",
       "    <tr>\n",
       "      <th>1</th>\n",
       "      <td>DRC01</td>\n",
       "      <td>5.92</td>\n",
       "      <td>Regular</td>\n",
       "      <td>0.019278</td>\n",
       "      <td>Soft Drinks</td>\n",
       "      <td>48.2692</td>\n",
       "      <td>OUT018</td>\n",
       "      <td>2009</td>\n",
       "      <td>Medium</td>\n",
       "      <td>Tier 3</td>\n",
       "      <td>Supermarket Type2</td>\n",
       "      <td>443.4228</td>\n",
       "    </tr>\n",
       "  </tbody>\n",
       "</table>\n",
       "</div>"
      ],
      "text/plain": [
       "  Item_Identifier  Item_Weight Item_Fat_Content  Item_Visibility    Item_Type  \\\n",
       "0           FDA15         9.30          Low Fat         0.016047        Dairy   \n",
       "1           DRC01         5.92          Regular         0.019278  Soft Drinks   \n",
       "\n",
       "   Item_MRP Outlet_Identifier  Outlet_Establishment_Year Outlet_Size  \\\n",
       "0  249.8092            OUT049                       1999      Medium   \n",
       "1   48.2692            OUT018                       2009      Medium   \n",
       "\n",
       "  Outlet_Location_Type        Outlet_Type  Item_Outlet_Sales  \n",
       "0               Tier 1  Supermarket Type1          3735.1380  \n",
       "1               Tier 3  Supermarket Type2           443.4228  "
      ]
     },
     "execution_count": 37,
     "metadata": {},
     "output_type": "execute_result"
    }
   ],
   "source": [
    "df1.head(2)"
   ]
  },
  {
   "cell_type": "code",
   "execution_count": 38,
   "id": "0e2bf6af",
   "metadata": {
    "execution": {
     "iopub.execute_input": "2023-07-03T13:15:54.482625Z",
     "iopub.status.busy": "2023-07-03T13:15:54.482175Z",
     "iopub.status.idle": "2023-07-03T13:15:54.495282Z",
     "shell.execute_reply": "2023-07-03T13:15:54.493925Z"
    },
    "papermill": {
     "duration": 0.036694,
     "end_time": "2023-07-03T13:15:54.498189",
     "exception": false,
     "start_time": "2023-07-03T13:15:54.461495",
     "status": "completed"
    },
    "tags": []
   },
   "outputs": [
    {
     "name": "stdout",
     "output_type": "stream",
     "text": [
      "Group: Low Fat\n",
      "0                       Dairy\n",
      "2                        Meat\n",
      "4                   Household\n",
      "7                 Snack Foods\n",
      "10      Fruits and Vegetables\n",
      "                ...          \n",
      "8515             Baking Goods\n",
      "8516                   Others\n",
      "8518              Snack Foods\n",
      "8520       Health and Hygiene\n",
      "8522              Soft Drinks\n",
      "Name: Item_Type, Length: 5463, dtype: object\n",
      "\n",
      "Group: Regular\n",
      "1                 Soft Drinks\n",
      "3       Fruits and Vegetables\n",
      "5                Baking Goods\n",
      "6                 Snack Foods\n",
      "8                Frozen Foods\n",
      "                ...          \n",
      "8513                     Meat\n",
      "8514                   Canned\n",
      "8517             Frozen Foods\n",
      "8519             Baking Goods\n",
      "8521              Snack Foods\n",
      "Name: Item_Type, Length: 2965, dtype: object\n",
      "\n"
     ]
    }
   ],
   "source": [
    "grouped = df1.groupby('Item_Fat_Content')\n",
    "\n",
    "for group, items in grouped:\n",
    "    print(f\"Group: {group}\")\n",
    "    print(items['Item_Type'])\n",
    "    print()"
   ]
  },
  {
   "cell_type": "code",
   "execution_count": null,
   "id": "dc482e75",
   "metadata": {
    "papermill": {
     "duration": 0.019109,
     "end_time": "2023-07-03T13:15:54.538498",
     "exception": false,
     "start_time": "2023-07-03T13:15:54.519389",
     "status": "completed"
    },
    "tags": []
   },
   "outputs": [],
   "source": []
  }
 ],
 "metadata": {
  "kernelspec": {
   "display_name": "Python 3",
   "language": "python",
   "name": "python3"
  },
  "language_info": {
   "codemirror_mode": {
    "name": "ipython",
    "version": 3
   },
   "file_extension": ".py",
   "mimetype": "text/x-python",
   "name": "python",
   "nbconvert_exporter": "python",
   "pygments_lexer": "ipython3",
   "version": "3.7.12"
  },
  "papermill": {
   "default_parameters": {},
   "duration": 17.560475,
   "end_time": "2023-07-03T13:15:55.279508",
   "environment_variables": {},
   "exception": null,
   "input_path": "__notebook__.ipynb",
   "output_path": "__notebook__.ipynb",
   "parameters": {},
   "start_time": "2023-07-03T13:15:37.719033",
   "version": "2.4.0"
  }
 },
 "nbformat": 4,
 "nbformat_minor": 5
}
